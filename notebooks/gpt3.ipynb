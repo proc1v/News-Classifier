{
 "cells": [
  {
   "cell_type": "code",
   "execution_count": 26,
   "id": "07e5c0a2",
   "metadata": {},
   "outputs": [],
   "source": [
    "import numpy as np\n",
    "import pandas as pd\n",
    "from matplotlib import pyplot as plt\n",
    "import seaborn as sns\n",
    "\n",
    "from typing import List, Dict\n",
    "from tqdm.autonotebook import tqdm\n",
    "\n",
    "import os\n",
    "import time\n",
    "import openai\n",
    "from transformers import GPT2TokenizerFast\n",
    "\n",
    "tokenizer = GPT2TokenizerFast.from_pretrained(\"gpt2\")\n",
    "openai.api_key = 'OPENAI_KEY'"
   ]
  },
  {
   "cell_type": "code",
   "execution_count": 2,
   "id": "5358a79c",
   "metadata": {},
   "outputs": [],
   "source": [
    "def preprocess_annotations(df):\n",
    "    accept_mask = df['answer'] == 'accept'\n",
    "    cols = ['text', 'accept']\n",
    "    df_prep = df.loc[accept_mask, cols]\n",
    "    df_prep['accept'] = df_prep['accept'].apply(set)\n",
    "    df_prep['accept'] = df_prep['accept'].apply(list)\n",
    "    df_prep.reset_index(drop=True)\n",
    "    \n",
    "    return df_prep\n",
    "\n",
    "def tokenize_labels(labels: List[str]) -> List[str]:\n",
    "    \"\"\"\n",
    "    Converts a list of labels into a list of GPT-3 tokens.\n",
    "    Adds preceding whitespace as needed in order to account for\n",
    "    quirks in how GPT-3 handles tokenization.\n",
    "    \"\"\"\n",
    "    # Start with whitespace tokens\n",
    "    tokens = []\n",
    "    tokens += tokenizer.encode(\" \")\n",
    "    tokens += tokenizer.encode(\"\\n\")\n",
    "    tokens += tokenizer.encode(\",\")\n",
    "    # Tokenize each label by itself *and* with a preceding space.\n",
    "    for label in labels:\n",
    "        tokens += tokenizer.encode(label)\n",
    "        tokens += tokenizer.encode(\" \" + label)\n",
    "\n",
    "    return tokens\n",
    "\n",
    "def make_promt_with_examples(text, examples):\n",
    "    promt = \"Classify the text in 6 not exclusive categories: \" \\\n",
    "            \"harassment, theft, robbery, auto theft, assault, homicide. If any category suits classify none \\n\"\n",
    "    for t, cats in examples:\n",
    "        promt += \"Text: \" + t + \"\\n\" + \"Categories: \" + cats + \"\\n\\n\" \n",
    "    promt += \"Text: \" + text + \"\\n\" + \"Categories:\"\n",
    "    \n",
    "    return promt\n",
    "\n",
    "def make_promt(text):\n",
    "    #promt = \"Classify the text in 6 not exclusive categories: \" \\\n",
    "    #\n",
    "    #\"harassment, theft, robbery, auto_theft, assault, homicide, If any category suits classify none \\n\" \n",
    "    promt = \"\"\"Classify the text in 6 not exclusive categories: harassment, theft, robbery, auto theft, assault, and homicide. If any category suits classify none\n",
    "\n",
    "Text: Next up in Example video title will go here for this video TEMPLE, Texas -- Rockdale Police Department assisted in locating 31-year-old Justin Glenn Boswell, according to their Facebook. Saturday morning Rockdale Police Officer Lauren Hensley arrested Boswell on Highway 77 overpass at US 79 without any issues, according to police. Boswell was wanted for the murder of 25-year-old Rowdy Mays who was reportedly stabbed and killed by a hitchhiker in Temple on July 28. Temple Police said Mays was found in the 2600 block of S. Martin Luther King Drive around 6:15 p.m. Mays picked up Boswell, who then stabbed him and stole his vehicle, police said. His vehicle was later found that night in Rockdale, Texas. 6 News will keep you updated when more information is released.\n",
    "Categories: auto theft, homicide\n",
    "\n",
    "Text: The American-majority team will now go up against in the upper bracket final. posted their first win at BLAST Premier Fall Groups by taking down 16-12 on Mirage. A North American derby awaits , who will now face off against in the upper bracket final for a chance to secure a group final berth. had an impressive game, carrying his squad to victory on the back of a 26-18 KD and 1.37 rating. , meanwhile, have been sent down to the lower bracket. The European team will battle it out with at to have a shot at running the Group B gauntlet. started the map on the CT side, shutting down a play by on the B site to steal away the pistol round. Strong heroics from spurred the North American roster on, with eventually taking the lead mid-way through the half at 5-4. Unrelenting CT aggression by the European mix proved to be too much for and company to handle, and soon found themselves heading into the break one round up. The -led lineup extended their lead even further by snatching the first three rounds of the half, but continued to be a stalwart for on the CT side, consistently keeping his foes at bay as the American-majority roster retook the lead, 14-12. In the end took care of business, winning a round on the A-site that came down to the wire to hit match point before nailing the coffin shut in a successful 3vs2 retake.\n",
    "Categories: none\\n\"\"\"\n",
    "    \n",
    "    promt += \"Text: \" + text + \"\\n\" + \"Categories:\"\n",
    "    \n",
    "    return promt\n",
    "\n",
    "def get_logit_bias(labels: List[str]) -> Dict[str, float]:\n",
    "    \"\"\"\n",
    "    Returns a logit_bias that can be used to constrain GPT-3\n",
    "    predictions to a set of pre-determined character sequences\n",
    "    (i.e. phrases or words). Intended to be used for classification\n",
    "    problems.\n",
    "    \"\"\"\n",
    "    tokens = tokenize_labels(labels)\n",
    "    logit_bias: Dict[str, float] = {}\n",
    "    for token in set(tokens):\n",
    "        # Set the logit_bias for each token to 100, effectively\n",
    "        # forcing GPT-3 to only choose from these tokens.\n",
    "        logit_bias[str(token)] = 100\n",
    "    return logit_bias\n",
    "\n",
    "def make_request(promt, logit_bias=False):\n",
    "    if logit_bias:\n",
    "        response = openai.Completion.create(\n",
    "            model=\"text-davinci-003\",\n",
    "            prompt=promt,\n",
    "            temperature=0,\n",
    "            logit_bias=get_logit_bias(LABELS),\n",
    "            logprobs=5\n",
    "        )\n",
    "    else: \n",
    "        response = openai.Completion.create(\n",
    "            model=\"text-davinci-003\",\n",
    "            prompt=promt,\n",
    "            temperature=0,\n",
    "            logprobs=5\n",
    "    )\n",
    "    return response[\"choices\"]\n",
    "\n",
    "LABELS = [\"harassment\", \"theft\", \"robbery\", \"auto theft\", \"assault\", \"homicide\"]"
   ]
  },
  {
   "cell_type": "code",
   "execution_count": 3,
   "id": "f9bdec3c",
   "metadata": {},
   "outputs": [
    {
     "name": "stdout",
     "output_type": "stream",
     "text": [
      "Classify the text in 6 not exclusive categories: harassment, theft, robbery, auto theft, assault, and homicide. If any category suits classify none\n",
      "\n",
      "Text: Next up in Example video title will go here for this video TEMPLE, Texas -- Rockdale Police Department assisted in locating 31-year-old Justin Glenn Boswell, according to their Facebook. Saturday morning Rockdale Police Officer Lauren Hensley arrested Boswell on Highway 77 overpass at US 79 without any issues, according to police. Boswell was wanted for the murder of 25-year-old Rowdy Mays who was reportedly stabbed and killed by a hitchhiker in Temple on July 28. Temple Police said Mays was found in the 2600 block of S. Martin Luther King Drive around 6:15 p.m. Mays picked up Boswell, who then stabbed him and stole his vehicle, police said. His vehicle was later found that night in Rockdale, Texas. 6 News will keep you updated when more information is released.\n",
      "Categories: auto theft, homicide\n",
      "\n",
      "Text: The American-majority team will now go up against in the upper bracket final. posted their first win at BLAST Premier Fall Groups by taking down 16-12 on Mirage. A North American derby awaits , who will now face off against in the upper bracket final for a chance to secure a group final berth. had an impressive game, carrying his squad to victory on the back of a 26-18 KD and 1.37 rating. , meanwhile, have been sent down to the lower bracket. The European team will battle it out with at to have a shot at running the Group B gauntlet. started the map on the CT side, shutting down a play by on the B site to steal away the pistol round. Strong heroics from spurred the North American roster on, with eventually taking the lead mid-way through the half at 5-4. Unrelenting CT aggression by the European mix proved to be too much for and company to handle, and soon found themselves heading into the break one round up. The -led lineup extended their lead even further by snatching the first three rounds of the half, but continued to be a stalwart for on the CT side, consistently keeping his foes at bay as the American-majority roster retook the lead, 14-12. In the end took care of business, winning a round on the A-site that came down to the wire to hit match point before nailing the coffin shut in a successful 3vs2 retake.\n",
      "Categories: none\n",
      "\n"
     ]
    }
   ],
   "source": [
    "t = \"\"\"Classify the text in 6 not exclusive categories: harassment, theft, robbery, auto theft, assault, and homicide. If any category suits classify none\n",
    "\n",
    "Text: Next up in Example video title will go here for this video TEMPLE, Texas -- Rockdale Police Department assisted in locating 31-year-old Justin Glenn Boswell, according to their Facebook. Saturday morning Rockdale Police Officer Lauren Hensley arrested Boswell on Highway 77 overpass at US 79 without any issues, according to police. Boswell was wanted for the murder of 25-year-old Rowdy Mays who was reportedly stabbed and killed by a hitchhiker in Temple on July 28. Temple Police said Mays was found in the 2600 block of S. Martin Luther King Drive around 6:15 p.m. Mays picked up Boswell, who then stabbed him and stole his vehicle, police said. His vehicle was later found that night in Rockdale, Texas. 6 News will keep you updated when more information is released.\n",
    "Categories: auto theft, homicide\n",
    "\n",
    "Text: The American-majority team will now go up against in the upper bracket final. posted their first win at BLAST Premier Fall Groups by taking down 16-12 on Mirage. A North American derby awaits , who will now face off against in the upper bracket final for a chance to secure a group final berth. had an impressive game, carrying his squad to victory on the back of a 26-18 KD and 1.37 rating. , meanwhile, have been sent down to the lower bracket. The European team will battle it out with at to have a shot at running the Group B gauntlet. started the map on the CT side, shutting down a play by on the B site to steal away the pistol round. Strong heroics from spurred the North American roster on, with eventually taking the lead mid-way through the half at 5-4. Unrelenting CT aggression by the European mix proved to be too much for and company to handle, and soon found themselves heading into the break one round up. The -led lineup extended their lead even further by snatching the first three rounds of the half, but continued to be a stalwart for on the CT side, consistently keeping his foes at bay as the American-majority roster retook the lead, 14-12. In the end took care of business, winning a round on the A-site that came down to the wire to hit match point before nailing the coffin shut in a successful 3vs2 retake.\n",
    "Categories: none\\n\"\"\"\n",
    "\n",
    "print(t)"
   ]
  },
  {
   "cell_type": "code",
   "execution_count": 4,
   "id": "f583718c",
   "metadata": {},
   "outputs": [
    {
     "data": {
      "text/html": [
       "<div>\n",
       "<style scoped>\n",
       "    .dataframe tbody tr th:only-of-type {\n",
       "        vertical-align: middle;\n",
       "    }\n",
       "\n",
       "    .dataframe tbody tr th {\n",
       "        vertical-align: top;\n",
       "    }\n",
       "\n",
       "    .dataframe thead th {\n",
       "        text-align: right;\n",
       "    }\n",
       "</style>\n",
       "<table border=\"1\" class=\"dataframe\">\n",
       "  <thead>\n",
       "    <tr style=\"text-align: right;\">\n",
       "      <th></th>\n",
       "      <th>text</th>\n",
       "      <th>_input_hash</th>\n",
       "      <th>_task_hash</th>\n",
       "      <th>spans</th>\n",
       "      <th>meta</th>\n",
       "      <th>options</th>\n",
       "      <th>accept</th>\n",
       "      <th>_view_id</th>\n",
       "      <th>config</th>\n",
       "      <th>answer</th>\n",
       "      <th>_timestamp</th>\n",
       "    </tr>\n",
       "  </thead>\n",
       "  <tbody>\n",
       "    <tr>\n",
       "      <th>0</th>\n",
       "      <td>By Jennifer De Pinto, Fred Backus, Anthony Sal...</td>\n",
       "      <td>1998789611</td>\n",
       "      <td>-135893388</td>\n",
       "      <td>[{'text': 'gun', 'start': 485, 'end': 488, 'pa...</td>\n",
       "      <td>{'pattern': '61, 61, 61, 61, 61, 57, 61, 61, 6...</td>\n",
       "      <td>[{'id': 'HARASSMENT', 'text': 'HARASSMENT'}, {...</td>\n",
       "      <td>[]</td>\n",
       "      <td>choice</td>\n",
       "      <td>{'choice_style': 'multiple'}</td>\n",
       "      <td>accept</td>\n",
       "      <td>1666862735</td>\n",
       "    </tr>\n",
       "    <tr>\n",
       "      <th>1</th>\n",
       "      <td>The epic decision by the US Supreme Court decl...</td>\n",
       "      <td>-1364136101</td>\n",
       "      <td>-553694219</td>\n",
       "      <td>[{'text': 'gun', 'start': 234, 'end': 237, 'pa...</td>\n",
       "      <td>{'pattern': '61, 61, 61'}</td>\n",
       "      <td>[{'id': 'HARASSMENT', 'text': 'HARASSMENT'}, {...</td>\n",
       "      <td>[]</td>\n",
       "      <td>choice</td>\n",
       "      <td>{'choice_style': 'multiple'}</td>\n",
       "      <td>accept</td>\n",
       "      <td>1666862983</td>\n",
       "    </tr>\n",
       "    <tr>\n",
       "      <th>2</th>\n",
       "      <td>Governor Kathy Hochul has called for an \"extra...</td>\n",
       "      <td>1645904776</td>\n",
       "      <td>555948591</td>\n",
       "      <td>[{'text': 'gun', 'start': 88, 'end': 91, 'patt...</td>\n",
       "      <td>{'pattern': '61, 58, 61, 60, 61, 60, 60, 58, 5...</td>\n",
       "      <td>[{'id': 'HARASSMENT', 'text': 'HARASSMENT'}, {...</td>\n",
       "      <td>[]</td>\n",
       "      <td>choice</td>\n",
       "      <td>{'choice_style': 'multiple'}</td>\n",
       "      <td>accept</td>\n",
       "      <td>1666863272</td>\n",
       "    </tr>\n",
       "    <tr>\n",
       "      <th>3</th>\n",
       "      <td>CHARLESTON, W.Va. (WV News) -- West Virginia l...</td>\n",
       "      <td>-616248505</td>\n",
       "      <td>-97240494</td>\n",
       "      <td>[{'text': 'obscene', 'start': 3021, 'end': 302...</td>\n",
       "      <td>{'pattern': '21'}</td>\n",
       "      <td>[{'id': 'HARASSMENT', 'text': 'HARASSMENT'}, {...</td>\n",
       "      <td>[]</td>\n",
       "      <td>choice</td>\n",
       "      <td>{'choice_style': 'multiple'}</td>\n",
       "      <td>accept</td>\n",
       "      <td>1666863386</td>\n",
       "    </tr>\n",
       "    <tr>\n",
       "      <th>4</th>\n",
       "      <td>\"For the first time now, in this pandemic, nea...</td>\n",
       "      <td>2145160317</td>\n",
       "      <td>1081617857</td>\n",
       "      <td>[{'text': 'threat', 'start': 1362, 'end': 1368...</td>\n",
       "      <td>{'pattern': '9'}</td>\n",
       "      <td>[{'id': 'HARASSMENT', 'text': 'HARASSMENT'}, {...</td>\n",
       "      <td>[]</td>\n",
       "      <td>choice</td>\n",
       "      <td>{'choice_style': 'multiple'}</td>\n",
       "      <td>accept</td>\n",
       "      <td>1666863439</td>\n",
       "    </tr>\n",
       "  </tbody>\n",
       "</table>\n",
       "</div>"
      ],
      "text/plain": [
       "                                                text  _input_hash  _task_hash  \\\n",
       "0  By Jennifer De Pinto, Fred Backus, Anthony Sal...   1998789611  -135893388   \n",
       "1  The epic decision by the US Supreme Court decl...  -1364136101  -553694219   \n",
       "2  Governor Kathy Hochul has called for an \"extra...   1645904776   555948591   \n",
       "3  CHARLESTON, W.Va. (WV News) -- West Virginia l...   -616248505   -97240494   \n",
       "4  \"For the first time now, in this pandemic, nea...   2145160317  1081617857   \n",
       "\n",
       "                                               spans  \\\n",
       "0  [{'text': 'gun', 'start': 485, 'end': 488, 'pa...   \n",
       "1  [{'text': 'gun', 'start': 234, 'end': 237, 'pa...   \n",
       "2  [{'text': 'gun', 'start': 88, 'end': 91, 'patt...   \n",
       "3  [{'text': 'obscene', 'start': 3021, 'end': 302...   \n",
       "4  [{'text': 'threat', 'start': 1362, 'end': 1368...   \n",
       "\n",
       "                                                meta  \\\n",
       "0  {'pattern': '61, 61, 61, 61, 61, 57, 61, 61, 6...   \n",
       "1                          {'pattern': '61, 61, 61'}   \n",
       "2  {'pattern': '61, 58, 61, 60, 61, 60, 60, 58, 5...   \n",
       "3                                  {'pattern': '21'}   \n",
       "4                                   {'pattern': '9'}   \n",
       "\n",
       "                                             options accept _view_id  \\\n",
       "0  [{'id': 'HARASSMENT', 'text': 'HARASSMENT'}, {...     []   choice   \n",
       "1  [{'id': 'HARASSMENT', 'text': 'HARASSMENT'}, {...     []   choice   \n",
       "2  [{'id': 'HARASSMENT', 'text': 'HARASSMENT'}, {...     []   choice   \n",
       "3  [{'id': 'HARASSMENT', 'text': 'HARASSMENT'}, {...     []   choice   \n",
       "4  [{'id': 'HARASSMENT', 'text': 'HARASSMENT'}, {...     []   choice   \n",
       "\n",
       "                         config  answer  _timestamp  \n",
       "0  {'choice_style': 'multiple'}  accept  1666862735  \n",
       "1  {'choice_style': 'multiple'}  accept  1666862983  \n",
       "2  {'choice_style': 'multiple'}  accept  1666863272  \n",
       "3  {'choice_style': 'multiple'}  accept  1666863386  \n",
       "4  {'choice_style': 'multiple'}  accept  1666863439  "
      ]
     },
     "execution_count": 4,
     "metadata": {},
     "output_type": "execute_result"
    }
   ],
   "source": [
    "fpath = r'C:\\ProjectX\\workspace\\data\\data_providers\\gdelt\\scraped_news\\usa-news-annotated.jsonl'\n",
    "df = pd.read_json(fpath, lines=True, encoding='utf-16')\n",
    "df.head()"
   ]
  },
  {
   "cell_type": "code",
   "execution_count": 5,
   "id": "1f1b7927",
   "metadata": {},
   "outputs": [
    {
     "data": {
      "text/html": [
       "<div>\n",
       "<style scoped>\n",
       "    .dataframe tbody tr th:only-of-type {\n",
       "        vertical-align: middle;\n",
       "    }\n",
       "\n",
       "    .dataframe tbody tr th {\n",
       "        vertical-align: top;\n",
       "    }\n",
       "\n",
       "    .dataframe thead th {\n",
       "        text-align: right;\n",
       "    }\n",
       "</style>\n",
       "<table border=\"1\" class=\"dataframe\">\n",
       "  <thead>\n",
       "    <tr style=\"text-align: right;\">\n",
       "      <th></th>\n",
       "      <th>text</th>\n",
       "      <th>accept</th>\n",
       "    </tr>\n",
       "  </thead>\n",
       "  <tbody>\n",
       "    <tr>\n",
       "      <th>0</th>\n",
       "      <td>By Jennifer De Pinto, Fred Backus, Anthony Sal...</td>\n",
       "      <td>[]</td>\n",
       "    </tr>\n",
       "    <tr>\n",
       "      <th>1</th>\n",
       "      <td>The epic decision by the US Supreme Court decl...</td>\n",
       "      <td>[]</td>\n",
       "    </tr>\n",
       "    <tr>\n",
       "      <th>2</th>\n",
       "      <td>Governor Kathy Hochul has called for an \"extra...</td>\n",
       "      <td>[]</td>\n",
       "    </tr>\n",
       "    <tr>\n",
       "      <th>3</th>\n",
       "      <td>CHARLESTON, W.Va. (WV News) -- West Virginia l...</td>\n",
       "      <td>[]</td>\n",
       "    </tr>\n",
       "    <tr>\n",
       "      <th>4</th>\n",
       "      <td>\"For the first time now, in this pandemic, nea...</td>\n",
       "      <td>[]</td>\n",
       "    </tr>\n",
       "  </tbody>\n",
       "</table>\n",
       "</div>"
      ],
      "text/plain": [
       "                                                text accept\n",
       "0  By Jennifer De Pinto, Fred Backus, Anthony Sal...     []\n",
       "1  The epic decision by the US Supreme Court decl...     []\n",
       "2  Governor Kathy Hochul has called for an \"extra...     []\n",
       "3  CHARLESTON, W.Va. (WV News) -- West Virginia l...     []\n",
       "4  \"For the first time now, in this pandemic, nea...     []"
      ]
     },
     "execution_count": 5,
     "metadata": {},
     "output_type": "execute_result"
    }
   ],
   "source": [
    "df_prep = preprocess_annotations(df)\n",
    "#df_prep['text'] = df_prep['text'].apply(preprocess_text)\n",
    "df_prep.head()"
   ]
  },
  {
   "cell_type": "code",
   "execution_count": 6,
   "id": "39bd2473",
   "metadata": {},
   "outputs": [],
   "source": [
    "def preprocess_predict(predict):\n",
    "    possible_labels = [\"harassment\", \"theft\", \"robbery\", \"auto theft\", \"assault\", \"homicide\"]\n",
    "    \n",
    "    labels = [l.strip().lower() for l in predict.split(', ')]\n",
    "    labels = [l for l in labels if l in possible_labels]\n",
    "    \n",
    "    return labels\n",
    "\n",
    "def predict_on_df(df):\n",
    "    errors = []\n",
    "    df_prep = df.copy()\n",
    "    for i in tqdm(df.index):\n",
    "        try:\n",
    "            resp = make_request(make_promt(df_prep.loc[i, \"text\"]))[0][\"text\"]\n",
    "            df_prep.loc[i, \"suggested\"] = preprocess_predict(resp)\n",
    "        except Exception as ex:\n",
    "            time.sleep(5)\n",
    "            print(i)\n",
    "            #print(ex)\n",
    "            errors.append(i)\n",
    "    return df_prep, errors"
   ]
  },
  {
   "cell_type": "code",
   "execution_count": 7,
   "id": "d157293d",
   "metadata": {
    "scrolled": true
   },
   "outputs": [
    {
     "name": "stdout",
     "output_type": "stream",
     "text": [
      "True:  ['HOMICIDE']\n",
      "Predicted:  ['homicide', 'assault']\n",
      "True:  []\n",
      "Predicted:  []\n",
      "True:  ['ROBBERY', 'HOMICIDE']\n",
      "Predicted:  ['homicide', 'robbery', 'theft']\n",
      "True:  []\n",
      "Predicted:  []\n",
      "True:  []\n",
      "Predicted:  ['theft', 'auto theft']\n"
     ]
    }
   ],
   "source": [
    "sample_idx = df_prep.sample(5).index\n",
    "for i in sample_idx:\n",
    "    print(\"True: \", df_prep.loc[i, 'accept'])\n",
    "    resp = make_request(make_promt(df_prep.loc[i, \"text\"]))[0][\"text\"]\n",
    "    print(\"Predicted: \", preprocess_predict(resp))"
   ]
  },
  {
   "cell_type": "code",
   "execution_count": 14,
   "id": "5d98e64d",
   "metadata": {},
   "outputs": [
    {
     "data": {
      "application/vnd.jupyter.widget-view+json": {
       "model_id": "7556011b5e8340ff903af6671abcac9e",
       "version_major": 2,
       "version_minor": 0
      },
      "text/plain": [
       "  0%|          | 0/459 [00:00<?, ?it/s]"
      ]
     },
     "metadata": {},
     "output_type": "display_data"
    },
    {
     "name": "stdout",
     "output_type": "stream",
     "text": [
      "39\n",
      "Rate limit reached for default-text-davinci-003 in organization org-07qV3aIie3TDJWYnpIwWKviY on requests per min. Limit: 60.000000 / min. Current: 66.000000 / min. Contact support@openai.com if you continue to have issues. Please add a payment method to your account to increase your rate limit. Visit https://beta.openai.com/account/billing to add a payment method.\n",
      "49\n",
      "Rate limit reached for default-text-davinci-003 in organization org-07qV3aIie3TDJWYnpIwWKviY on requests per min. Limit: 60.000000 / min. Current: 72.000000 / min. Contact support@openai.com if you continue to have issues. Please add a payment method to your account to increase your rate limit. Visit https://beta.openai.com/account/billing to add a payment method.\n",
      "52\n",
      "Rate limit reached for default-text-davinci-003 in organization org-07qV3aIie3TDJWYnpIwWKviY on requests per min. Limit: 60.000000 / min. Current: 78.000000 / min. Contact support@openai.com if you continue to have issues. Please add a payment method to your account to increase your rate limit. Visit https://beta.openai.com/account/billing to add a payment method.\n",
      "60\n",
      "Rate limit reached for default-text-davinci-003 in organization org-07qV3aIie3TDJWYnpIwWKviY on requests per min. Limit: 60.000000 / min. Current: 66.000000 / min. Contact support@openai.com if you continue to have issues. Please add a payment method to your account to increase your rate limit. Visit https://beta.openai.com/account/billing to add a payment method.\n",
      "121\n",
      "Rate limit reached for default-text-davinci-003 in organization org-07qV3aIie3TDJWYnpIwWKviY on requests per min. Limit: 60.000000 / min. Current: 66.000000 / min. Contact support@openai.com if you continue to have issues. Please add a payment method to your account to increase your rate limit. Visit https://beta.openai.com/account/billing to add a payment method.\n",
      "154\n",
      "Rate limit reached for default-text-davinci-003 in organization org-07qV3aIie3TDJWYnpIwWKviY on requests per min. Limit: 60.000000 / min. Current: 66.000000 / min. Contact support@openai.com if you continue to have issues. Please add a payment method to your account to increase your rate limit. Visit https://beta.openai.com/account/billing to add a payment method.\n",
      "158\n",
      "Rate limit reached for default-text-davinci-003 in organization org-07qV3aIie3TDJWYnpIwWKviY on requests per min. Limit: 60.000000 / min. Current: 66.000000 / min. Contact support@openai.com if you continue to have issues. Please add a payment method to your account to increase your rate limit. Visit https://beta.openai.com/account/billing to add a payment method.\n",
      "159\n",
      "Rate limit reached for default-text-davinci-003 in organization org-07qV3aIie3TDJWYnpIwWKviY on requests per min. Limit: 60.000000 / min. Current: 66.000000 / min. Contact support@openai.com if you continue to have issues. Please add a payment method to your account to increase your rate limit. Visit https://beta.openai.com/account/billing to add a payment method.\n",
      "162\n",
      "Rate limit reached for default-text-davinci-003 in organization org-07qV3aIie3TDJWYnpIwWKviY on requests per min. Limit: 60.000000 / min. Current: 72.000000 / min. Contact support@openai.com if you continue to have issues. Please add a payment method to your account to increase your rate limit. Visit https://beta.openai.com/account/billing to add a payment method.\n",
      "189\n",
      "Rate limit reached for default-text-davinci-003 in organization org-07qV3aIie3TDJWYnpIwWKviY on requests per min. Limit: 60.000000 / min. Current: 66.000000 / min. Contact support@openai.com if you continue to have issues. Please add a payment method to your account to increase your rate limit. Visit https://beta.openai.com/account/billing to add a payment method.\n",
      "198\n",
      "Rate limit reached for default-text-davinci-003 in organization org-07qV3aIie3TDJWYnpIwWKviY on requests per min. Limit: 60.000000 / min. Current: 66.000000 / min. Contact support@openai.com if you continue to have issues. Please add a payment method to your account to increase your rate limit. Visit https://beta.openai.com/account/billing to add a payment method.\n",
      "238\n",
      "Rate limit reached for default-text-davinci-003 in organization org-07qV3aIie3TDJWYnpIwWKviY on requests per min. Limit: 60.000000 / min. Current: 66.000000 / min. Contact support@openai.com if you continue to have issues. Please add a payment method to your account to increase your rate limit. Visit https://beta.openai.com/account/billing to add a payment method.\n",
      "270\n",
      "Rate limit reached for default-text-davinci-003 in organization org-07qV3aIie3TDJWYnpIwWKviY on requests per min. Limit: 60.000000 / min. Current: 66.000000 / min. Contact support@openai.com if you continue to have issues. Please add a payment method to your account to increase your rate limit. Visit https://beta.openai.com/account/billing to add a payment method.\n",
      "277\n",
      "Rate limit reached for default-text-davinci-003 in organization org-07qV3aIie3TDJWYnpIwWKviY on requests per min. Limit: 60.000000 / min. Current: 72.000000 / min. Contact support@openai.com if you continue to have issues. Please add a payment method to your account to increase your rate limit. Visit https://beta.openai.com/account/billing to add a payment method.\n",
      "279\n",
      "Rate limit reached for default-text-davinci-003 in organization org-07qV3aIie3TDJWYnpIwWKviY on requests per min. Limit: 60.000000 / min. Current: 72.000000 / min. Contact support@openai.com if you continue to have issues. Please add a payment method to your account to increase your rate limit. Visit https://beta.openai.com/account/billing to add a payment method.\n",
      "284\n",
      "Rate limit reached for default-text-davinci-003 in organization org-07qV3aIie3TDJWYnpIwWKviY on requests per min. Limit: 60.000000 / min. Current: 72.000000 / min. Contact support@openai.com if you continue to have issues. Please add a payment method to your account to increase your rate limit. Visit https://beta.openai.com/account/billing to add a payment method.\n",
      "296\n",
      "Rate limit reached for default-text-davinci-003 in organization org-07qV3aIie3TDJWYnpIwWKviY on requests per min. Limit: 60.000000 / min. Current: 66.000000 / min. Contact support@openai.com if you continue to have issues. Please add a payment method to your account to increase your rate limit. Visit https://beta.openai.com/account/billing to add a payment method.\n",
      "304\n",
      "Rate limit reached for default-text-davinci-003 in organization org-07qV3aIie3TDJWYnpIwWKviY on requests per min. Limit: 60.000000 / min. Current: 66.000000 / min. Contact support@openai.com if you continue to have issues. Please add a payment method to your account to increase your rate limit. Visit https://beta.openai.com/account/billing to add a payment method.\n",
      "346\n",
      "Rate limit reached for default-text-davinci-003 in organization org-07qV3aIie3TDJWYnpIwWKviY on requests per min. Limit: 60.000000 / min. Current: 66.000000 / min. Contact support@openai.com if you continue to have issues. Please add a payment method to your account to increase your rate limit. Visit https://beta.openai.com/account/billing to add a payment method.\n",
      "347\n",
      "Rate limit reached for default-text-davinci-003 in organization org-07qV3aIie3TDJWYnpIwWKviY on requests per min. Limit: 60.000000 / min. Current: 72.000000 / min. Contact support@openai.com if you continue to have issues. Please add a payment method to your account to increase your rate limit. Visit https://beta.openai.com/account/billing to add a payment method.\n",
      "355\n",
      "Rate limit reached for default-text-davinci-003 in organization org-07qV3aIie3TDJWYnpIwWKviY on requests per min. Limit: 60.000000 / min. Current: 78.000000 / min. Contact support@openai.com if you continue to have issues. Please add a payment method to your account to increase your rate limit. Visit https://beta.openai.com/account/billing to add a payment method.\n",
      "356\n",
      "Rate limit reached for default-text-davinci-003 in organization org-07qV3aIie3TDJWYnpIwWKviY on requests per min. Limit: 60.000000 / min. Current: 78.000000 / min. Contact support@openai.com if you continue to have issues. Please add a payment method to your account to increase your rate limit. Visit https://beta.openai.com/account/billing to add a payment method.\n",
      "358\n",
      "Rate limit reached for default-text-davinci-003 in organization org-07qV3aIie3TDJWYnpIwWKviY on requests per min. Limit: 60.000000 / min. Current: 78.000000 / min. Contact support@openai.com if you continue to have issues. Please add a payment method to your account to increase your rate limit. Visit https://beta.openai.com/account/billing to add a payment method.\n"
     ]
    },
    {
     "name": "stdout",
     "output_type": "stream",
     "text": [
      "395\n",
      "Rate limit reached for default-text-davinci-003 in organization org-07qV3aIie3TDJWYnpIwWKviY on requests per min. Limit: 60.000000 / min. Current: 66.000000 / min. Contact support@openai.com if you continue to have issues. Please add a payment method to your account to increase your rate limit. Visit https://beta.openai.com/account/billing to add a payment method.\n",
      "399\n",
      "Rate limit reached for default-text-davinci-003 in organization org-07qV3aIie3TDJWYnpIwWKviY on requests per min. Limit: 60.000000 / min. Current: 66.000000 / min. Contact support@openai.com if you continue to have issues. Please add a payment method to your account to increase your rate limit. Visit https://beta.openai.com/account/billing to add a payment method.\n",
      "405\n",
      "Rate limit reached for default-text-davinci-003 in organization org-07qV3aIie3TDJWYnpIwWKviY on requests per min. Limit: 60.000000 / min. Current: 72.000000 / min. Contact support@openai.com if you continue to have issues. Please add a payment method to your account to increase your rate limit. Visit https://beta.openai.com/account/billing to add a payment method.\n",
      "410\n",
      "Rate limit reached for default-text-davinci-003 in organization org-07qV3aIie3TDJWYnpIwWKviY on requests per min. Limit: 60.000000 / min. Current: 66.000000 / min. Contact support@openai.com if you continue to have issues. Please add a payment method to your account to increase your rate limit. Visit https://beta.openai.com/account/billing to add a payment method.\n",
      "416\n",
      "Rate limit reached for default-text-davinci-003 in organization org-07qV3aIie3TDJWYnpIwWKviY on requests per min. Limit: 60.000000 / min. Current: 72.000000 / min. Contact support@openai.com if you continue to have issues. Please add a payment method to your account to increase your rate limit. Visit https://beta.openai.com/account/billing to add a payment method.\n",
      "420\n",
      "Rate limit reached for default-text-davinci-003 in organization org-07qV3aIie3TDJWYnpIwWKviY on requests per min. Limit: 60.000000 / min. Current: 66.000000 / min. Contact support@openai.com if you continue to have issues. Please add a payment method to your account to increase your rate limit. Visit https://beta.openai.com/account/billing to add a payment method.\n",
      "452\n",
      "Rate limit reached for default-text-davinci-003 in organization org-07qV3aIie3TDJWYnpIwWKviY on requests per min. Limit: 60.000000 / min. Current: 66.000000 / min. Contact support@openai.com if you continue to have issues. Please add a payment method to your account to increase your rate limit. Visit https://beta.openai.com/account/billing to add a payment method.\n",
      "461\n",
      "Rate limit reached for default-text-davinci-003 in organization org-07qV3aIie3TDJWYnpIwWKviY on requests per min. Limit: 60.000000 / min. Current: 66.000000 / min. Contact support@openai.com if you continue to have issues. Please add a payment method to your account to increase your rate limit. Visit https://beta.openai.com/account/billing to add a payment method.\n",
      "466\n",
      "Rate limit reached for default-text-davinci-003 in organization org-07qV3aIie3TDJWYnpIwWKviY on requests per min. Limit: 60.000000 / min. Current: 66.000000 / min. Contact support@openai.com if you continue to have issues. Please add a payment method to your account to increase your rate limit. Visit https://beta.openai.com/account/billing to add a payment method.\n",
      "469\n",
      "Rate limit reached for default-text-davinci-003 in organization org-07qV3aIie3TDJWYnpIwWKviY on requests per min. Limit: 60.000000 / min. Current: 66.000000 / min. Contact support@openai.com if you continue to have issues. Please add a payment method to your account to increase your rate limit. Visit https://beta.openai.com/account/billing to add a payment method.\n",
      "474\n",
      "Rate limit reached for default-text-davinci-003 in organization org-07qV3aIie3TDJWYnpIwWKviY on requests per min. Limit: 60.000000 / min. Current: 66.000000 / min. Contact support@openai.com if you continue to have issues. Please add a payment method to your account to increase your rate limit. Visit https://beta.openai.com/account/billing to add a payment method.\n",
      "476\n",
      "Rate limit reached for default-text-davinci-003 in organization org-07qV3aIie3TDJWYnpIwWKviY on requests per min. Limit: 60.000000 / min. Current: 66.000000 / min. Contact support@openai.com if you continue to have issues. Please add a payment method to your account to increase your rate limit. Visit https://beta.openai.com/account/billing to add a payment method.\n",
      "490\n",
      "Rate limit reached for default-text-davinci-003 in organization org-07qV3aIie3TDJWYnpIwWKviY on requests per min. Limit: 60.000000 / min. Current: 66.000000 / min. Contact support@openai.com if you continue to have issues. Please add a payment method to your account to increase your rate limit. Visit https://beta.openai.com/account/billing to add a payment method.\n",
      "492\n",
      "Rate limit reached for default-text-davinci-003 in organization org-07qV3aIie3TDJWYnpIwWKviY on requests per min. Limit: 60.000000 / min. Current: 72.000000 / min. Contact support@openai.com if you continue to have issues. Please add a payment method to your account to increase your rate limit. Visit https://beta.openai.com/account/billing to add a payment method.\n",
      "504\n",
      "Rate limit reached for default-text-davinci-003 in organization org-07qV3aIie3TDJWYnpIwWKviY on requests per min. Limit: 60.000000 / min. Current: 66.000000 / min. Contact support@openai.com if you continue to have issues. Please add a payment method to your account to increase your rate limit. Visit https://beta.openai.com/account/billing to add a payment method.\n",
      "523\n",
      "Rate limit reached for default-text-davinci-003 in organization org-07qV3aIie3TDJWYnpIwWKviY on requests per min. Limit: 60.000000 / min. Current: 66.000000 / min. Contact support@openai.com if you continue to have issues. Please add a payment method to your account to increase your rate limit. Visit https://beta.openai.com/account/billing to add a payment method.\n"
     ]
    }
   ],
   "source": [
    "errors = []\n",
    "for i in tqdm(df_prep.index):\n",
    "    try:\n",
    "        resp = make_request(make_promt(df_prep.loc[i, \"text\"]))[0][\"text\"]\n",
    "        df_prep.loc[i, \"suggested\"] = preprocess_predict(resp)\n",
    "    except Exception as ex:\n",
    "        time.sleep(5)\n",
    "        print(i)\n",
    "        print(ex)\n",
    "        errors.append(i)"
   ]
  },
  {
   "cell_type": "code",
   "execution_count": 16,
   "id": "c2ed3566",
   "metadata": {},
   "outputs": [
    {
     "data": {
      "application/vnd.jupyter.widget-view+json": {
       "model_id": "76cc6b7529264b91bee23d454f64a400",
       "version_major": 2,
       "version_minor": 0
      },
      "text/plain": [
       "  0%|          | 0/39 [00:00<?, ?it/s]"
      ]
     },
     "metadata": {},
     "output_type": "display_data"
    }
   ],
   "source": [
    "for i in tqdm(errors):\n",
    "    try:\n",
    "        resp = make_request(make_promt(df_prep.loc[i, \"text\"]))[0][\"text\"]\n",
    "        df_prep.loc[i, \"suggested\"] = preprocess_predict(resp)\n",
    "    except Exception as ex:\n",
    "        time.sleep(10)\n",
    "        print(i)\n",
    "        print(ex)\n",
    "        errors.append(i)"
   ]
  },
  {
   "cell_type": "code",
   "execution_count": 17,
   "id": "12e7b829",
   "metadata": {},
   "outputs": [
    {
     "data": {
      "text/html": [
       "<div>\n",
       "<style scoped>\n",
       "    .dataframe tbody tr th:only-of-type {\n",
       "        vertical-align: middle;\n",
       "    }\n",
       "\n",
       "    .dataframe tbody tr th {\n",
       "        vertical-align: top;\n",
       "    }\n",
       "\n",
       "    .dataframe thead th {\n",
       "        text-align: right;\n",
       "    }\n",
       "</style>\n",
       "<table border=\"1\" class=\"dataframe\">\n",
       "  <thead>\n",
       "    <tr style=\"text-align: right;\">\n",
       "      <th></th>\n",
       "      <th>text</th>\n",
       "      <th>accept</th>\n",
       "      <th>suggested</th>\n",
       "    </tr>\n",
       "  </thead>\n",
       "  <tbody>\n",
       "    <tr>\n",
       "      <th>520</th>\n",
       "      <td>A property owner shot and killed an alleged bu...</td>\n",
       "      <td>[THEFT]</td>\n",
       "      <td>[assault, homicide]</td>\n",
       "    </tr>\n",
       "    <tr>\n",
       "      <th>521</th>\n",
       "      <td>By Adam Bartow LEWISTON, Maine ( ) -- Police s...</td>\n",
       "      <td>[]</td>\n",
       "      <td>[assault]</td>\n",
       "    </tr>\n",
       "    <tr>\n",
       "      <th>522</th>\n",
       "      <td>A man was arrested after he allegedly attacked...</td>\n",
       "      <td>[THEFT, ASSAULT]</td>\n",
       "      <td>[assault, robbery, theft]</td>\n",
       "    </tr>\n",
       "    <tr>\n",
       "      <th>523</th>\n",
       "      <td>Sunday evening, Tacoma Police officers arreste...</td>\n",
       "      <td>[AUTO_THEFT, HOMICIDE]</td>\n",
       "      <td>[homicide, theft]</td>\n",
       "    </tr>\n",
       "    <tr>\n",
       "      <th>524</th>\n",
       "      <td>FORT WORTH, Texas -- Two adults are accused of...</td>\n",
       "      <td>[THEFT, ASSAULT]</td>\n",
       "      <td>[theft, assault]</td>\n",
       "    </tr>\n",
       "  </tbody>\n",
       "</table>\n",
       "</div>"
      ],
      "text/plain": [
       "                                                  text  \\\n",
       "520  A property owner shot and killed an alleged bu...   \n",
       "521  By Adam Bartow LEWISTON, Maine ( ) -- Police s...   \n",
       "522  A man was arrested after he allegedly attacked...   \n",
       "523  Sunday evening, Tacoma Police officers arreste...   \n",
       "524  FORT WORTH, Texas -- Two adults are accused of...   \n",
       "\n",
       "                     accept                  suggested  \n",
       "520                 [THEFT]        [assault, homicide]  \n",
       "521                      []                  [assault]  \n",
       "522        [THEFT, ASSAULT]  [assault, robbery, theft]  \n",
       "523  [AUTO_THEFT, HOMICIDE]          [homicide, theft]  \n",
       "524        [THEFT, ASSAULT]           [theft, assault]  "
      ]
     },
     "execution_count": 17,
     "metadata": {},
     "output_type": "execute_result"
    }
   ],
   "source": [
    "df_prep.tail()"
   ]
  },
  {
   "cell_type": "code",
   "execution_count": 18,
   "id": "496a633a",
   "metadata": {},
   "outputs": [],
   "source": [
    "from sklearn.metrics import multilabel_confusion_matrix, classification_report\n",
    "from sklearn.metrics import precision_score, recall_score, f1_score\n",
    "from sklearn.metrics import ConfusionMatrixDisplay\n",
    "from sklearn.preprocessing import MultiLabelBinarizer"
   ]
  },
  {
   "cell_type": "code",
   "execution_count": 19,
   "id": "032b3c6a",
   "metadata": {},
   "outputs": [
    {
     "data": {
      "text/plain": [
       "array(['ASSAULT', 'AUTO_THEFT', 'HARASSMENT', 'HOMICIDE', 'ROBBERY',\n",
       "       'THEFT'], dtype=object)"
      ]
     },
     "execution_count": 19,
     "metadata": {},
     "output_type": "execute_result"
    }
   ],
   "source": [
    "mlb = MultiLabelBinarizer()\n",
    "y_true = mlb.fit_transform(df_prep['accept'])\n",
    "mlb.classes_"
   ]
  },
  {
   "cell_type": "code",
   "execution_count": 21,
   "id": "dc26d6a9",
   "metadata": {},
   "outputs": [
    {
     "data": {
      "text/plain": [
       "array(['assault', 'auto theft', 'harassment', 'homicide', 'robbery',\n",
       "       'theft'], dtype=object)"
      ]
     },
     "execution_count": 21,
     "metadata": {},
     "output_type": "execute_result"
    }
   ],
   "source": [
    "mlb2 = MultiLabelBinarizer()\n",
    "y_pred = mlb2.fit_transform(df_prep['suggested'])\n",
    "mlb2.classes_"
   ]
  },
  {
   "cell_type": "code",
   "execution_count": 28,
   "id": "9d58c51c",
   "metadata": {},
   "outputs": [
    {
     "data": {
      "image/png": "[encoded data removed]",
      "text/plain": [
       "<Figure size 1440x864 with 12 Axes>"
      ]
     },
     "metadata": {
      "needs_background": "light"
     },
     "output_type": "display_data"
    },
    {
     "name": "stdout",
     "output_type": "stream",
     "text": [
      "              precision    recall  f1-score   support\n",
      "\n",
      "     assault       0.50      0.91      0.64       140\n",
      "  auto theft       0.67      0.61      0.64        51\n",
      "  harassment       0.27      0.55      0.36        29\n",
      "    homicide       0.78      0.79      0.79       110\n",
      "     robbery       0.42      0.96      0.58        53\n",
      "       theft       0.29      0.68      0.41        41\n",
      "\n",
      "   micro avg       0.49      0.80      0.61       424\n",
      "   macro avg       0.49      0.75      0.57       424\n",
      "weighted avg       0.55      0.80      0.63       424\n",
      " samples avg       0.36      0.48      0.39       424\n",
      "\n"
     ]
    },
    {
     "name": "stderr",
     "output_type": "stream",
     "text": [
      "C:\\Users\\nazar\\anaconda3\\envs\\py38dnn\\lib\\site-packages\\sklearn\\metrics\\_classification.py:1308: UndefinedMetricWarning: Precision and F-score are ill-defined and being set to 0.0 in samples with no predicted labels. Use `zero_division` parameter to control this behavior.\n",
      "  _warn_prf(average, modifier, msg_start, len(result))\n",
      "C:\\Users\\nazar\\anaconda3\\envs\\py38dnn\\lib\\site-packages\\sklearn\\metrics\\_classification.py:1308: UndefinedMetricWarning: Recall and F-score are ill-defined and being set to 0.0 in samples with no true labels. Use `zero_division` parameter to control this behavior.\n",
      "  _warn_prf(average, modifier, msg_start, len(result))\n"
     ]
    }
   ],
   "source": [
    "cm = multilabel_confusion_matrix(y_true, y_pred)\n",
    "fig, axs = plt.subplots(nrows=2, ncols=3, figsize=(20, 12))\n",
    "\n",
    "for (i, label), ax in zip(enumerate(mlb.classes_), axs.ravel()):\n",
    "    #row_sums = cm[i].sum(axis=1) \n",
    "    #matrix = (cm[i] / row_sums[:, np.newaxis]).round(4)\n",
    "    sns.heatmap(cm[i], annot=True, fmt='g', ax=ax, cmap='Greens')\n",
    "\n",
    "    # chart formatting\n",
    "    ax.set_title(label)\n",
    "    #ax.get_legend().remove()\n",
    "    #ax.set_xlabel(\"\")\n",
    "\n",
    "plt.show()\n",
    "\n",
    "print(classification_report(y_true, y_pred, target_names=mlb.classes_))"
   ]
  }
 ],
 "metadata": {
  "kernelspec": {
   "display_name": "Python [conda env:py38dnn]",
   "language": "python",
   "name": "conda-env-py38dnn-py"
  },
  "language_info": {
   "codemirror_mode": {
    "name": "ipython",
    "version": 3
   },
   "file_extension": ".py",
   "mimetype": "text/x-python",
   "name": "python",
   "nbconvert_exporter": "python",
   "pygments_lexer": "ipython3",
   "version": "3.8.12"
  }
 },
 "nbformat": 4,
 "nbformat_minor": 5
}
