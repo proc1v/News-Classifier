{
 "cells": [
  {
   "cell_type": "code",
   "execution_count": 1,
   "id": "371bb285",
   "metadata": {},
   "outputs": [],
   "source": [
    "import warnings\n",
    "warnings.filterwarnings(\"ignore\") "
   ]
  },
  {
   "cell_type": "code",
   "execution_count": 2,
   "id": "4be5071f",
   "metadata": {},
   "outputs": [
    {
     "data": {
      "text/html": [
       "<style>.container { width:100% !important; }</style>"
      ],
      "text/plain": [
       "<IPython.core.display.HTML object>"
      ]
     },
     "metadata": {},
     "output_type": "display_data"
    }
   ],
   "source": [
    "import os\n",
    "import re\n",
    "import sys\n",
    "import json\n",
    "import numpy as np\n",
    "import pandas as pd\n",
    "from wordcloud import WordCloud\n",
    "\n",
    "import spacy\n",
    "from spacy import displacy\n",
    "from spacy.matcher import Matcher\n",
    "\n",
    "from nltk.corpus import stopwords\n",
    "\n",
    "import seaborn as sns\n",
    "from matplotlib import pyplot as plt\n",
    "\n",
    "from IPython.core.display import display, HTML\n",
    "display(HTML(\"<style>.container { width:100% !important; }</style>\"))\n",
    "\n",
    "#os.environ[\"KMP_DUPLICATE_LIB_OK\"]=\"TRUE\"\n",
    "pd.set_option('display.max_columns', 200)\n",
    "pd.set_option('display.max_rows', 500)\n",
    "#pd.set_option('display.max_colwidth', -1)\n",
    "\n",
    "SPACE_REGEX = re.compile(r\"\\s+\")\n",
    "STOP_WORDS = set(stopwords.words('english'))\n",
    "SEED = 2022\n",
    "PUNCTUATION_REGEX= re.compile(r\"\"\"[?.,\\/\\\\><:;'\"\\()!%$*|^\\~`+#]\"\"\")"
   ]
  },
  {
   "cell_type": "code",
   "execution_count": 108,
   "id": "00ccddb0",
   "metadata": {},
   "outputs": [],
   "source": [
    "HOME_DIR = r'C:\\ProjectX'\n",
    "\n",
    "WORKSPACE_ROOT = os.path.join(HOME_DIR, 'workspace')\n",
    "PATH_TO_PROJECT_X_REPO = os.path.join(WORKSPACE_ROOT, 'project_x')\n",
    "PATH_TO_DATA_ROOT_DIR = os.path.join(WORKSPACE_ROOT, \"data\")\n",
    "PATH_TO_SCRAPED_NEWS = os.path.join(PATH_TO_DATA_ROOT_DIR, \"data_providers\\gdelt\\scraped_news\")\n",
    "PATH_TO_PATTERNS = os.path.join(PATH_TO_PROJECT_X_REPO, r\"notebooks\\nazar_notebooks\\labeling_patterns\")"
   ]
  },
  {
   "cell_type": "code",
   "execution_count": 103,
   "id": "720a4e76",
   "metadata": {},
   "outputs": [],
   "source": [
    "# Add path to library to sys path\n",
    "generic_utils_lib_dir = os.path.join(PATH_TO_PROJECT_X_REPO, 'common')\n",
    "\n",
    "sys.path.extend([generic_utils_lib_dir])\n",
    "\n",
    "#from generic_utils import (downcast_datatypes, timing, create_output_dir, parallelize)\n",
    "\n",
    "from crime_mapper_utils import crimemapper, map_event_types_from_es_to_en\n",
    "from level_0_filter_utils import base_filter, base_filter_for_dataframe, create_prodigy_patterns"
   ]
  },
  {
   "cell_type": "code",
   "execution_count": 5,
   "id": "5e333118",
   "metadata": {},
   "outputs": [],
   "source": [
    "news_df = pd.read_csv(os.path.join(PATH_TO_SCRAPED_NEWS, 'usa_news_text_body_2022-07-01_2022-10-01.csv'))"
   ]
  },
  {
   "cell_type": "code",
   "execution_count": 6,
   "id": "5c78229b",
   "metadata": {},
   "outputs": [
    {
     "data": {
      "text/html": [
       "<div>\n",
       "<style scoped>\n",
       "    .dataframe tbody tr th:only-of-type {\n",
       "        vertical-align: middle;\n",
       "    }\n",
       "\n",
       "    .dataframe tbody tr th {\n",
       "        vertical-align: top;\n",
       "    }\n",
       "\n",
       "    .dataframe thead th {\n",
       "        text-align: right;\n",
       "    }\n",
       "</style>\n",
       "<table border=\"1\" class=\"dataframe\">\n",
       "  <thead>\n",
       "    <tr style=\"text-align: right;\">\n",
       "      <th></th>\n",
       "      <th>source_name</th>\n",
       "      <th>url</th>\n",
       "      <th>paragraphs</th>\n",
       "      <th>paragraphs_nwords</th>\n",
       "      <th>dateadded</th>\n",
       "      <th>eventrootcode</th>\n",
       "      <th>eventbasecode</th>\n",
       "      <th>eventcode</th>\n",
       "      <th>actiongeo_fullname</th>\n",
       "      <th>actiongeo_countrycode_iso3</th>\n",
       "      <th>v2themes_names</th>\n",
       "      <th>body</th>\n",
       "      <th>cleaned_body</th>\n",
       "    </tr>\n",
       "  </thead>\n",
       "  <tbody>\n",
       "    <tr>\n",
       "      <th>0</th>\n",
       "      <td>www.cbsnews.com</td>\n",
       "      <td>https://www.cbsnews.com/news/law-enforcement-c...</td>\n",
       "      <td>By Jennifer De Pinto, Fred Backus, Anthony Sal...</td>\n",
       "      <td>781.0</td>\n",
       "      <td>2022-07-01 00:00:00</td>\n",
       "      <td>1.0</td>\n",
       "      <td>12.0</td>\n",
       "      <td>12.0</td>\n",
       "      <td>Uvalde, Texas, United States</td>\n",
       "      <td>USA</td>\n",
       "      <td>['BAN' 'CRISISLEX_C07_SAFETY' 'CRISISLEX_CRISI...</td>\n",
       "      <td>By Jennifer De Pinto, Fred Backus, Anthony Sal...</td>\n",
       "      <td>By Jennifer De Pinto, Fred Backus, Anthony Sal...</td>\n",
       "    </tr>\n",
       "    <tr>\n",
       "      <th>1</th>\n",
       "      <td>www.850wftl.com</td>\n",
       "      <td>https://www.850wftl.com/four-dead-three-injure...</td>\n",
       "      <td>(ENCINAL, Texas) — Four people were killed and...</td>\n",
       "      <td>107.0</td>\n",
       "      <td>2022-07-01 00:00:00</td>\n",
       "      <td>19.0</td>\n",
       "      <td>190.0</td>\n",
       "      <td>190.0</td>\n",
       "      <td>San Antonio, Texas, United States</td>\n",
       "      <td>USA</td>\n",
       "      <td>['BORDER' 'CRISISLEX_C07_SAFETY' 'CRISISLEX_CR...</td>\n",
       "      <td>(ENCINAL, Texas) -- Four people were killed an...</td>\n",
       "      <td>(ENCINAL, Texas) -- Four people were killed an...</td>\n",
       "    </tr>\n",
       "    <tr>\n",
       "      <th>2</th>\n",
       "      <td>www.potomaclocal.com</td>\n",
       "      <td>https://www.potomaclocal.com/2022/06/30/manass...</td>\n",
       "      <td>On Wednesday, June 29, at 1:09 a.m, officers r...</td>\n",
       "      <td>430.0</td>\n",
       "      <td>2022-07-01 00:00:00</td>\n",
       "      <td>4.0</td>\n",
       "      <td>43.0</td>\n",
       "      <td>43.0</td>\n",
       "      <td>Willacoochee, Georgia, United States</td>\n",
       "      <td>USA</td>\n",
       "      <td>['ARREST' 'CRISISLEX_C03_WELLBEING_HEALTH' 'CR...</td>\n",
       "      <td>On Wednesday, June 29, at 1:09 a.m, officers r...</td>\n",
       "      <td>On Wednesday, June 29, at 1:09 a.m, officers r...</td>\n",
       "    </tr>\n",
       "    <tr>\n",
       "      <th>3</th>\n",
       "      <td>www.wfae.org</td>\n",
       "      <td>https://www.wfae.org/2022-06-30/hells-angels-f...</td>\n",
       "      <td>Sonny Barger, the leather-clad figurehead of t...</td>\n",
       "      <td>650.0</td>\n",
       "      <td>2022-07-01 00:00:00</td>\n",
       "      <td>8.0</td>\n",
       "      <td>84.0</td>\n",
       "      <td>84.0</td>\n",
       "      <td>Altamont, California, United States</td>\n",
       "      <td>USA</td>\n",
       "      <td>['ARMEDCONFLICT' 'ARREST' 'BAN' 'CRISISLEX_C07...</td>\n",
       "      <td>Sonny Barger, the leather-clad figurehead of t...</td>\n",
       "      <td>Sonny Barger, the leather-clad figurehead of t...</td>\n",
       "    </tr>\n",
       "    <tr>\n",
       "      <th>4</th>\n",
       "      <td>news.yahoo.com</td>\n",
       "      <td>https://news.yahoo.com/exclusive-sophia-roe-ta...</td>\n",
       "      <td>If she’s not cheffing it up in her Apartment M...</td>\n",
       "      <td>1313.0</td>\n",
       "      <td>2022-07-01 00:00:00</td>\n",
       "      <td>19.0</td>\n",
       "      <td>190.0</td>\n",
       "      <td>190.0</td>\n",
       "      <td>United States</td>\n",
       "      <td>USA</td>\n",
       "      <td>['ARMEDCONFLICT' 'CRISISLEX_CRISISLEXREC' 'CRI...</td>\n",
       "      <td>If she's not cheffing it up in her Apartment M...</td>\n",
       "      <td>If she's not cheffing it up in her Apartment M...</td>\n",
       "    </tr>\n",
       "  </tbody>\n",
       "</table>\n",
       "</div>"
      ],
      "text/plain": [
       "            source_name                                                url  \\\n",
       "0       www.cbsnews.com  https://www.cbsnews.com/news/law-enforcement-c...   \n",
       "1       www.850wftl.com  https://www.850wftl.com/four-dead-three-injure...   \n",
       "2  www.potomaclocal.com  https://www.potomaclocal.com/2022/06/30/manass...   \n",
       "3          www.wfae.org  https://www.wfae.org/2022-06-30/hells-angels-f...   \n",
       "4        news.yahoo.com  https://news.yahoo.com/exclusive-sophia-roe-ta...   \n",
       "\n",
       "                                          paragraphs  paragraphs_nwords  \\\n",
       "0  By Jennifer De Pinto, Fred Backus, Anthony Sal...              781.0   \n",
       "1  (ENCINAL, Texas) — Four people were killed and...              107.0   \n",
       "2  On Wednesday, June 29, at 1:09 a.m, officers r...              430.0   \n",
       "3  Sonny Barger, the leather-clad figurehead of t...              650.0   \n",
       "4  If she’s not cheffing it up in her Apartment M...             1313.0   \n",
       "\n",
       "             dateadded  eventrootcode  eventbasecode  eventcode  \\\n",
       "0  2022-07-01 00:00:00            1.0           12.0       12.0   \n",
       "1  2022-07-01 00:00:00           19.0          190.0      190.0   \n",
       "2  2022-07-01 00:00:00            4.0           43.0       43.0   \n",
       "3  2022-07-01 00:00:00            8.0           84.0       84.0   \n",
       "4  2022-07-01 00:00:00           19.0          190.0      190.0   \n",
       "\n",
       "                     actiongeo_fullname actiongeo_countrycode_iso3  \\\n",
       "0          Uvalde, Texas, United States                        USA   \n",
       "1     San Antonio, Texas, United States                        USA   \n",
       "2  Willacoochee, Georgia, United States                        USA   \n",
       "3   Altamont, California, United States                        USA   \n",
       "4                         United States                        USA   \n",
       "\n",
       "                                      v2themes_names  \\\n",
       "0  ['BAN' 'CRISISLEX_C07_SAFETY' 'CRISISLEX_CRISI...   \n",
       "1  ['BORDER' 'CRISISLEX_C07_SAFETY' 'CRISISLEX_CR...   \n",
       "2  ['ARREST' 'CRISISLEX_C03_WELLBEING_HEALTH' 'CR...   \n",
       "3  ['ARMEDCONFLICT' 'ARREST' 'BAN' 'CRISISLEX_C07...   \n",
       "4  ['ARMEDCONFLICT' 'CRISISLEX_CRISISLEXREC' 'CRI...   \n",
       "\n",
       "                                                body  \\\n",
       "0  By Jennifer De Pinto, Fred Backus, Anthony Sal...   \n",
       "1  (ENCINAL, Texas) -- Four people were killed an...   \n",
       "2  On Wednesday, June 29, at 1:09 a.m, officers r...   \n",
       "3  Sonny Barger, the leather-clad figurehead of t...   \n",
       "4  If she's not cheffing it up in her Apartment M...   \n",
       "\n",
       "                                        cleaned_body  \n",
       "0  By Jennifer De Pinto, Fred Backus, Anthony Sal...  \n",
       "1  (ENCINAL, Texas) -- Four people were killed an...  \n",
       "2  On Wednesday, June 29, at 1:09 a.m, officers r...  \n",
       "3  Sonny Barger, the leather-clad figurehead of t...  \n",
       "4  If she's not cheffing it up in her Apartment M...  "
      ]
     },
     "execution_count": 6,
     "metadata": {},
     "output_type": "execute_result"
    }
   ],
   "source": [
    "news_df.head()"
   ]
  },
  {
   "cell_type": "code",
   "execution_count": 7,
   "id": "e5789673",
   "metadata": {},
   "outputs": [],
   "source": [
    "mask = news_df['cleaned_body'].isnull()"
   ]
  },
  {
   "cell_type": "code",
   "execution_count": 8,
   "id": "f93b6b8f",
   "metadata": {},
   "outputs": [
    {
     "data": {
      "text/plain": [
       "(49894, 13)"
      ]
     },
     "execution_count": 8,
     "metadata": {},
     "output_type": "execute_result"
    }
   ],
   "source": [
    "news_df.shape"
   ]
  },
  {
   "cell_type": "code",
   "execution_count": 9,
   "id": "e81d12b0",
   "metadata": {},
   "outputs": [
    {
     "data": {
      "text/plain": [
       "www.msn.com                    1554\n",
       "www.foxnews.com                1038\n",
       "news.yahoo.com                  668\n",
       "www.dailymail.co.uk             665\n",
       "www.cbsnews.com                 643\n",
       "                               ... \n",
       "postandparcel.info                1\n",
       "www.gainesvilleregister.com       1\n",
       "www.themiddlemarket.com           1\n",
       "www.boxingnewsonline.net          1\n",
       "www.q101.com                      1\n",
       "Name: source_name, Length: 4650, dtype: int64"
      ]
     },
     "execution_count": 9,
     "metadata": {},
     "output_type": "execute_result"
    }
   ],
   "source": [
    "news_df['source_name'].value_counts()"
   ]
  },
  {
   "cell_type": "code",
   "execution_count": 10,
   "id": "ccbee593",
   "metadata": {},
   "outputs": [
    {
     "data": {
      "text/plain": [
       "count    49894.000000\n",
       "mean       571.349240\n",
       "std        368.972172\n",
       "min         60.000000\n",
       "25%        280.000000\n",
       "50%        485.000000\n",
       "75%        788.000000\n",
       "max       1702.000000\n",
       "Name: paragraphs_nwords, dtype: float64"
      ]
     },
     "execution_count": 10,
     "metadata": {},
     "output_type": "execute_result"
    }
   ],
   "source": [
    "news_df['paragraphs_nwords'].describe()"
   ]
  },
  {
   "cell_type": "code",
   "execution_count": 11,
   "id": "6d3d6635",
   "metadata": {
    "scrolled": true
   },
   "outputs": [
    {
     "data": {
      "text/plain": [
       "(224.2, 388.4]      0.215557\n",
       "(388.4, 552.6]      0.177697\n",
       "(58.357, 224.2]     0.173969\n",
       "(552.6, 716.8]      0.135507\n",
       "(716.8, 881.0]      0.099270\n",
       "(881.0, 1045.2]     0.072874\n",
       "(1045.2, 1209.4]    0.049385\n",
       "(1209.4, 1373.6]    0.034794\n",
       "(1373.6, 1537.8]    0.024151\n",
       "(1537.8, 1702.0]    0.016796\n",
       "Name: paragraphs_nwords, dtype: float64"
      ]
     },
     "execution_count": 11,
     "metadata": {},
     "output_type": "execute_result"
    }
   ],
   "source": [
    "news_df['paragraphs_nwords'].value_counts(bins=10, normalize=True)"
   ]
  },
  {
   "cell_type": "code",
   "execution_count": 12,
   "id": "7c34fde7",
   "metadata": {},
   "outputs": [
    {
     "data": {
      "text/plain": [
       "(59.999, 163.0]     5031\n",
       "(163.0, 244.0]      5030\n",
       "(244.0, 319.0]      4914\n",
       "(319.0, 398.0]      5046\n",
       "(398.0, 485.0]      4963\n",
       "(485.0, 587.0]      4957\n",
       "(587.0, 713.0]      5004\n",
       "(713.0, 878.0]      4991\n",
       "(878.0, 1120.0]     4977\n",
       "(1120.0, 1702.0]    4981\n",
       "Name: paragraphs_nwords, dtype: int64"
      ]
     },
     "execution_count": 12,
     "metadata": {},
     "output_type": "execute_result"
    }
   ],
   "source": [
    "col, cut_bin = pd.qcut(news_df['paragraphs_nwords'], q = 10, retbins = True)\n",
    "col.value_counts().sort_index()"
   ]
  },
  {
   "cell_type": "markdown",
   "id": "1bc9edc7",
   "metadata": {},
   "source": [
    "# Defining keywords"
   ]
  },
  {
   "cell_type": "code",
   "execution_count": 13,
   "id": "98e44531",
   "metadata": {},
   "outputs": [],
   "source": [
    "import re\n",
    "from re import Pattern\n",
    "from retrie.retrie import Checklist\n",
    "\n",
    "def construct_distinct_word_regex(word_array) -> Pattern:\n",
    "    #word_array = [w.lower() for w in word_array]\n",
    "    word_regex_trie = Checklist(word_array, match_substrings=False, re_flags=re.IGNORECASE)\n",
    "    return word_regex_trie.compiled"
   ]
  },
  {
   "cell_type": "markdown",
   "id": "d371c0ca",
   "metadata": {},
   "source": [
    "## Harassment"
   ]
  },
  {
   "cell_type": "code",
   "execution_count": 14,
   "id": "8c394a89",
   "metadata": {},
   "outputs": [],
   "source": [
    "harassment_key_words = [\n",
    "    'harrassment', 'harassment', 'harrassing', 'harassing', 'harassed', 'harassing communications',\n",
    "    'harassmen', 'telephone harassment', \n",
    "    'threats', 'threat', 'criminal threats', 'verbal threats', 'threat weapon'\n",
    "    'threatening', 'threatening phone calls', 'communication threats',\n",
    "    'threatened to kill', 'threatening to kill', 'threatening to shoot', 'threatened to shoot'\n",
    "    'abused', 'bully', 'bullied', \n",
    "    'intimidation', 'intimidating', 'intimidate', 'intimidated', 'intimidation with a dangerous weapon',\n",
    "    'intimidation premise', \n",
    "    'obscenity', 'obsenity exposing',\n",
    "    'defamation', 'tracking', 'stalking',\n",
    "    'peeping tom',\n",
    "    'insult', 'insulting', 'insulted',\n",
    "    'unlawful exposure',\n",
    "    'obscene', 'obscene phone calls', 'obscene phone call',\n",
    "    'armed disturb', 'hurled racist slurs', 'racist slurs', 'racist slur', 'coercion',\n",
    "    'cursing', 'cursed',\n",
    "    'menacing', 'racial slurs', 'hate crime',\n",
    "    'sending threatening text and video messages', 'threatening text',\n",
    "    'cyberstalking', 'ethnic intimidation', 'racially motivated attack',\n",
    "    'racist attack',\n",
    "    \n",
    "]"
   ]
  },
  {
   "cell_type": "code",
   "execution_count": 15,
   "id": "c9a76f66",
   "metadata": {},
   "outputs": [
    {
     "data": {
      "text/plain": [
       "54"
      ]
     },
     "execution_count": 15,
     "metadata": {},
     "output_type": "execute_result"
    }
   ],
   "source": [
    "len(harassment_key_words) - len(harassment_key_words)%3"
   ]
  },
  {
   "cell_type": "code",
   "execution_count": 16,
   "id": "97759b47",
   "metadata": {},
   "outputs": [],
   "source": [
    "def pritty_print(key_words):\n",
    "    s = sorted(set(key_words))\n",
    "    end = len(s) - len(s)%3\n",
    "    for i in range(0, end, 3):\n",
    "        print(f\"'{s[i]}', '{s[i+1]}', '{s[i+2]}',\")\n",
    "    print(\", \".join([f\"'{w}'\" for w in s[end:]]))"
   ]
  },
  {
   "cell_type": "code",
   "execution_count": 17,
   "id": "958906ca",
   "metadata": {},
   "outputs": [
    {
     "name": "stdout",
     "output_type": "stream",
     "text": [
      "'armed disturb', 'bullied', 'bully',\n",
      "'coercion', 'communication threats', 'criminal threats',\n",
      "'cursed', 'cursing', 'cyberstalking',\n",
      "'defamation', 'ethnic intimidation', 'harassed',\n",
      "'harassing', 'harassing communications', 'harassmen',\n",
      "'harassment', 'harrassing', 'harrassment',\n",
      "'hate crime', 'hurled racist slurs', 'insult',\n",
      "'insulted', 'insulting', 'intimidate',\n",
      "'intimidated', 'intimidating', 'intimidation',\n",
      "'intimidation premise', 'intimidation with a dangerous weapon', 'menacing',\n",
      "'obscene', 'obscene phone call', 'obscene phone calls',\n",
      "'obscenity', 'obsenity exposing', 'peeping tom',\n",
      "'racial slurs', 'racially motivated attack', 'racist attack',\n",
      "'racist slur', 'racist slurs', 'sending threatening text and video messages',\n",
      "'stalking', 'telephone harassment', 'threat',\n",
      "'threat weaponthreatening', 'threatened to kill', 'threatened to shootabused',\n",
      "'threatening phone calls', 'threatening text', 'threatening to kill',\n",
      "'threatening to shoot', 'threats', 'tracking',\n",
      "'unlawful exposure', 'verbal threats'\n"
     ]
    }
   ],
   "source": [
    "pritty_print(harassment_key_words)"
   ]
  },
  {
   "cell_type": "code",
   "execution_count": 18,
   "id": "1193fd4b",
   "metadata": {},
   "outputs": [
    {
     "data": {
      "text/plain": [
       "{'harassment', 'hurled racist slurs', 'peeping tom', 'unlawful exposure'}"
      ]
     },
     "execution_count": 18,
     "metadata": {},
     "output_type": "execute_result"
    }
   ],
   "source": [
    "HARASSMENT_KEY_WORDS_REGEX = construct_distinct_word_regex(harassment_key_words)\n",
    "\n",
    "s = \"\"\"\n",
    "The head of the Royal Navy has ordered an investigation into allegations of bullying and sexual harassment against \n",
    "women in the Submarine Service. Several whistleblowers hurled racist slurs peeping tom who served in the fleet told the Daily Mail they faced \n",
    "mistreatment from all ranks. Adm Sir Ben Key, the First Sea Lord, called the claims \"abhorrent\", adding \n",
    "\"sexual harassment has no place in the Royal Navy and will not be tolerated\". \"Anyone who is found culpable will \n",
    "be held accountable,\" he said. The allegations, revealed in detail by the Mail, include male crew members \n",
    "compiling a list setting out the order in which women would be assaulted in the event of a catastrophic event. unlawful exposure\n",
    "\"\"\"\n",
    "\n",
    "set(HARASSMENT_KEY_WORDS_REGEX.findall(s))"
   ]
  },
  {
   "cell_type": "markdown",
   "id": "f81fd286",
   "metadata": {},
   "source": [
    "## Theft"
   ]
  },
  {
   "cell_type": "code",
   "execution_count": 19,
   "id": "20a97728",
   "metadata": {},
   "outputs": [],
   "source": [
    "theft_key_words =[\n",
    "    'theft', 'theft from person', 'theft from motor vehicle',\n",
    "    'theft report', 'theft investigation',\n",
    "    'burglary', 'burglaries', 'burglar', 'burglary alarm',\n",
    "    'alarm burglary',\n",
    "    'steal', 'stole', 'stealing',\n",
    "    'shoplifting', 'shop-lifting', 'shoplift', 'shoplifted',\n",
    "    'larnecy shoplifting',\n",
    "    'larceny', 'larnecy from motor vehicle'\n",
    "    'pocket-picking', 'pickpocketing', 'pickpocket',\n",
    "    'obtaining a service without payment',\n",
    "    'obtained a service without payment',\n",
    "    'making off from a hotel', 'made off from a hotel',\n",
    "    'restaurant without payment',\n",
    "    'bar without payment'\n",
    "]"
   ]
  },
  {
   "cell_type": "code",
   "execution_count": 20,
   "id": "76cf5d4e",
   "metadata": {},
   "outputs": [
    {
     "name": "stdout",
     "output_type": "stream",
     "text": [
      "'alarm burglary', 'bar without payment', 'burglar',\n",
      "'burglaries', 'burglary', 'burglary alarm',\n",
      "'larceny', 'larnecy from motor vehiclepocket-picking', 'larnecy shoplifting',\n",
      "'made off from a hotel', 'making off from a hotel', 'obtained a service without payment',\n",
      "'obtaining a service without payment', 'pickpocket', 'pickpocketing',\n",
      "'restaurant without payment', 'shop-lifting', 'shoplift',\n",
      "'shoplifted', 'shoplifting', 'steal',\n",
      "'stealing', 'stole', 'theft',\n",
      "'theft from motor vehicle', 'theft from person', 'theft investigation',\n",
      "'theft report'\n"
     ]
    }
   ],
   "source": [
    "pritty_print(theft_key_words)"
   ]
  },
  {
   "cell_type": "code",
   "execution_count": 21,
   "id": "bb5a0d15",
   "metadata": {},
   "outputs": [
    {
     "data": {
      "text/plain": [
       "{'burglary', 'theft'}"
      ]
     },
     "execution_count": 21,
     "metadata": {},
     "output_type": "execute_result"
    }
   ],
   "source": [
    "THEFT_KEY_WORDS_REGEX = construct_distinct_word_regex(theft_key_words)\n",
    "\n",
    "s = \"\"\"\n",
    "A 33-year-old man was arrested on Saturday morning on the Limassol – Nicosia motorway, to facilitate police investigations into cases of house burglary \n",
    "and theft. In a written statement police stated that at around 8.20am on Saturday, traffic police, who were conducting a traffic control on the \n",
    "Limassol-Nicosia motorway close to Mari, stopped a driver for inspection having noticed that his car did not have a registration plate at the front. \n",
    "industrial espionage \n",
    "\"\"\"\n",
    "\n",
    "set(THEFT_KEY_WORDS_REGEX.findall(s))"
   ]
  },
  {
   "cell_type": "markdown",
   "id": "09d175de",
   "metadata": {},
   "source": [
    "## Robbery"
   ]
  },
  {
   "cell_type": "code",
   "execution_count": 22,
   "id": "e380f9e0",
   "metadata": {},
   "outputs": [],
   "source": [
    "robbery_key_words = [\n",
    "    'snatching', 'purse-snatching', 'snatch', 'snatched',\n",
    "    'robbery', 'robbers', 'robberies', 'robbing', \n",
    "    'robber', 'robbed', 'armed robbery', 'violent robbery',\n",
    "    'robbery premise', 'robery armed', 'robery unarmed',\n",
    "    'holdup robbery', 'robbery commercial',\n",
    "    'housebreaking',\n",
    "    'break and enter', 'break-and-enter', 'breaking entering force'\n",
    "    'mugging', 'mugged',\n",
    "    'home invasion', 'ransacking', 'ransacked',\n",
    "]"
   ]
  },
  {
   "cell_type": "code",
   "execution_count": 23,
   "id": "2fa507ae",
   "metadata": {},
   "outputs": [
    {
     "name": "stdout",
     "output_type": "stream",
     "text": [
      "'armed robbery', 'break and enter', 'break-and-enter',\n",
      "'breaking entering forcemugging', 'holdup robbery', 'home invasion',\n",
      "'housebreaking', 'mugged', 'purse-snatching',\n",
      "'ransacked', 'ransacking', 'robbed',\n",
      "'robber', 'robberies', 'robbers',\n",
      "'robbery', 'robbery commercial', 'robbery premise',\n",
      "'robbing', 'robery armed', 'robery unarmed',\n",
      "'snatch', 'snatched', 'snatching',\n",
      "'violent robbery'\n"
     ]
    }
   ],
   "source": [
    "pritty_print(robbery_key_words)"
   ]
  },
  {
   "cell_type": "code",
   "execution_count": 24,
   "id": "45ca9aa4",
   "metadata": {},
   "outputs": [
    {
     "data": {
      "text/plain": [
       "{'armed robbery', 'mugged'}"
      ]
     },
     "execution_count": 24,
     "metadata": {},
     "output_type": "execute_result"
    }
   ],
   "source": [
    "ROBBERY_KEY_WORDS_REGEX = construct_distinct_word_regex(robbery_key_words)\n",
    "\n",
    "s = \"\"\"\n",
    "A teenager who was out on two previous gun arrests was busted again in Queens on Wednesday for an armed robbery, according to police sources.\n",
    "Alleged gang member Jeffrey Mendoza mugged, 18, was arrested after he and two friends pistol whipped a person with a 9 mm handgun and stole the victim’s cellphone \n",
    "and wallet, sources said. \n",
    "\"\"\"\n",
    "\n",
    "set(ROBBERY_KEY_WORDS_REGEX.findall(s))"
   ]
  },
  {
   "cell_type": "markdown",
   "id": "2f0273b3",
   "metadata": {},
   "source": [
    "## Auto theft"
   ]
  },
  {
   "cell_type": "code",
   "execution_count": 25,
   "id": "45bfb23d",
   "metadata": {},
   "outputs": [],
   "source": [
    "auto_theft_key_words = [\n",
    "    'carjacking', 'carjackings', 'carjack', \n",
    "    'carjacked', 'armed carjacking',\n",
    "    'hijacking', 'hijackings', 'hijacked', 'hijack',\n",
    "    'vehicle larceny', 'vehicle theft', 'vehicle grand', 'vehicle crime',\n",
    "    'vehicle break-in', 'vehicle breackin'\n",
    "    'stolen vehicle', 'stolen motor vehicle', 'vehicle burglary',\n",
    "    'auto burglary', 'burglary auto', \n",
    "    'gta', 'car jack', 'car theft', 'car was stolen', 'carjacker',\n",
    "    'carjackers', 'carjack', 'carjacked',\n",
    "    'steal a car', 'stole a car', 'steal car', 'stole car',  'stolen car',\n",
    "    'stole his vehicle', 'stolen van', 'stolen pickup truck',\n",
    "    'stole a vehicle', 'stole another vehicle', 'stole a Chevy truck', \n",
    "    'stole another motor vehicle', 'stolen vehicle',\n",
    "    'stole her car', 'stole his car', 'stole their car', 'stole a truck',\n",
    "    'theft of a motor vehicle', 'grand theft', 'grand theft auto',\n",
    "    'commandeered the vehicle', 'motor vehicle theft', 'theft vehicle',\n",
    "    'theft motor vehicle parts', \n",
    "    'vehicle was stolen', 'vehicle was burglarized', 'van robbers',\n",
    "    'bicycle theft', 'grand larceny bicycle', 'bicycle larnecy', \n",
    "    'stolen bicycle', 'auto theft', 'car-theft', 'grand larceny',\n",
    "    \n",
    "]"
   ]
  },
  {
   "cell_type": "code",
   "execution_count": 26,
   "id": "42d84277",
   "metadata": {},
   "outputs": [
    {
     "name": "stdout",
     "output_type": "stream",
     "text": [
      "'armed carjacking', 'auto burglary', 'auto theft',\n",
      "'bicycle larnecy', 'bicycle theft', 'burglary auto',\n",
      "'car jack', 'car theft', 'car was stolen',\n",
      "'car-theft', 'carjack', 'carjacked',\n",
      "'carjacker', 'carjackers', 'carjacking',\n",
      "'carjackings', 'commandeered the vehicle', 'grand larceny',\n",
      "'grand larceny bicycle', 'grand theft', 'grand theft auto',\n",
      "'gta', 'hijack', 'hijacked',\n",
      "'hijacking', 'hijackings', 'motor vehicle theft',\n",
      "'steal a car', 'steal car', 'stole a Chevy truck',\n",
      "'stole a car', 'stole a truck', 'stole a vehicle',\n",
      "'stole another motor vehicle', 'stole another vehicle', 'stole car',\n",
      "'stole her car', 'stole his car', 'stole his vehicle',\n",
      "'stole their car', 'stolen bicycle', 'stolen car',\n",
      "'stolen motor vehicle', 'stolen pickup truck', 'stolen van',\n",
      "'stolen vehicle', 'theft motor vehicle parts', 'theft of a motor vehicle',\n",
      "'theft vehicle', 'van robbers', 'vehicle breackinstolen vehicle',\n",
      "'vehicle break-in', 'vehicle burglary', 'vehicle crime',\n",
      "'vehicle grand', 'vehicle larceny', 'vehicle theft',\n",
      "'vehicle was burglarized', 'vehicle was stolen'\n"
     ]
    }
   ],
   "source": [
    "pritty_print(auto_theft_key_words)"
   ]
  },
  {
   "cell_type": "code",
   "execution_count": 27,
   "id": "280f734c",
   "metadata": {},
   "outputs": [
    {
     "data": {
      "text/plain": [
       "{'car theft', 'carjacked', 'steal a car'}"
      ]
     },
     "execution_count": 27,
     "metadata": {},
     "output_type": "execute_result"
    }
   ],
   "source": [
    "AUTO_THEFT_KEY_WORDS_REGEX = construct_distinct_word_regex(auto_theft_key_words)\n",
    "\n",
    "s = \"\"\"\n",
    "Ottawa police say three men from Montreal steal a car are facing charges in connection with an alleged car theft in Kanata South.\n",
    "Officers were called to Gowrie Street and Barra Avenue Tuesday afternoon after someone reported a man carjacked disconnecting a trailer from a vehicle and thought \n",
    "it was suspicious, police said in a news release. A similar vehicle was stopped some time later on Highway 417. Police said it was reported stolen. \n",
    "\"\"\"\n",
    "\n",
    "set(AUTO_THEFT_KEY_WORDS_REGEX.findall(s))"
   ]
  },
  {
   "cell_type": "markdown",
   "id": "39c1cd4b",
   "metadata": {},
   "source": [
    "## Extortion"
   ]
  },
  {
   "cell_type": "code",
   "execution_count": 28,
   "id": "1674201a",
   "metadata": {},
   "outputs": [],
   "source": [
    "extortion_key_words = [\n",
    "    'extortion', 'extortion threats', 'extortion blackmail premise',\n",
    "    'extortio', 'extortion investigation', 'extortion blackmail',\n",
    "    'blackmail',\n",
    "]"
   ]
  },
  {
   "cell_type": "code",
   "execution_count": 29,
   "id": "f43fe5e6",
   "metadata": {},
   "outputs": [
    {
     "name": "stdout",
     "output_type": "stream",
     "text": [
      "'blackmail', 'extortio', 'extortion',\n",
      "'extortion blackmail', 'extortion blackmail premise', 'extortion investigation',\n",
      "'extortion threats'\n"
     ]
    }
   ],
   "source": [
    "pritty_print(extortion_key_words)"
   ]
  },
  {
   "cell_type": "code",
   "execution_count": 30,
   "id": "a8addd7f",
   "metadata": {},
   "outputs": [
    {
     "data": {
      "text/plain": [
       "{'extortion'}"
      ]
     },
     "execution_count": 30,
     "metadata": {},
     "output_type": "execute_result"
    }
   ],
   "source": [
    "EXTORTION_KEY_WORDS_REGEX = construct_distinct_word_regex(extortion_key_words)\n",
    "\n",
    "s = \"\"\"\n",
    "The Ludhiana police on Monday arrested a man and his accomplice for allegedly making an extortion call to his ex-employer while posing as a member of the Lawrence Bishnoi gang.\n",
    "Police said that the man made a threat call to his ex-employer and demanded Rs 30 lakh from him.\n",
    "The arrested duo was identified as Jatinder Kumar alias Rohit of Salem Tabri, Ludhiana and Harmel Singh of Jalandhar.\n",
    "\"\"\"\n",
    "\n",
    "set(EXTORTION_KEY_WORDS_REGEX.findall(s))"
   ]
  },
  {
   "cell_type": "markdown",
   "id": "39194bd5",
   "metadata": {},
   "source": [
    "## Kidnapping"
   ]
  },
  {
   "cell_type": "code",
   "execution_count": 31,
   "id": "2d97fd30",
   "metadata": {},
   "outputs": [],
   "source": [
    "kidnapping_key_words = [\n",
    "    'kidnapping', 'kidnapping abduction premise', 'kidnap', 'kidnapped',\n",
    "    'kidnapping neighbourhood', 'kidnapping abduction', 'abduction',\n",
    "    'unlawful restraint', 'unlawful imprisonment', 'bound with duct tape',\n",
    "    'abduct a newborn baby', 'abduct', 'abduction', 'held hostage',\n",
    "]"
   ]
  },
  {
   "cell_type": "code",
   "execution_count": 32,
   "id": "57bd4878",
   "metadata": {},
   "outputs": [
    {
     "name": "stdout",
     "output_type": "stream",
     "text": [
      "'abduct', 'abduct a newborn baby', 'abduction',\n",
      "'bound with duct tape', 'held hostage', 'kidnap',\n",
      "'kidnapped', 'kidnapping', 'kidnapping abduction',\n",
      "'kidnapping abduction premise', 'kidnapping neighbourhood', 'unlawful imprisonment',\n",
      "'unlawful restraint'\n"
     ]
    }
   ],
   "source": [
    "pritty_print(kidnapping_key_words)"
   ]
  },
  {
   "cell_type": "code",
   "execution_count": 33,
   "id": "99f42a8f",
   "metadata": {},
   "outputs": [
    {
     "data": {
      "text/plain": [
       "{'kidnapped'}"
      ]
     },
     "execution_count": 33,
     "metadata": {},
     "output_type": "execute_result"
    }
   ],
   "source": [
    "KIDNAPING_KEY_WORD_REGEX = construct_distinct_word_regex(kidnapping_key_words)\n",
    "\n",
    "s = '''\n",
    "A German aid worker was freed after being kidnapped in Niger in 2018, German media reported Saturday.\n",
    "Jorg Lange was first handed over by his captors in northern Mali to Moroccan mediators on Thursday. He was then taken to the German Embassy in the Malian capital of Bamako.\n",
    "He was kidnapped April 11, 2018, in western Niger, on the border with Mali, by armed men riding a motorcycle.\n",
    "'''\n",
    "\n",
    "set(KIDNAPING_KEY_WORD_REGEX.findall(s))"
   ]
  },
  {
   "cell_type": "markdown",
   "id": "28e3a313",
   "metadata": {},
   "source": [
    "## Sex offences"
   ]
  },
  {
   "cell_type": "code",
   "execution_count": 34,
   "id": "46795f3f",
   "metadata": {},
   "outputs": [],
   "source": [
    "sex_offences_key_words = [\n",
    "    'sex offences', 'sexual battery', 'sex offender',\n",
    "    'sexual assault', 'sex abuse', 'sex crimes abuse',\n",
    "    'sexual battery',\n",
    "    'sex crimes', 'sex crime', 'sexual offender', 'sexual abuse',\n",
    "    'forcible rape', 'restraining order violation',\n",
    "    'rape', 'rape force', 'lewd conduct icident number', \n",
    "    'forcible fondling', 'sexoff', 'forcible sodomy premise',\n",
    "    'soliciting', 'sexually assaulted', 'sexually assaulting',\n",
    "    'molested', 'molesting', 'masturbating in public',\n",
    "    'lewdness incident', \n",
    "]"
   ]
  },
  {
   "cell_type": "code",
   "execution_count": 35,
   "id": "966a32de",
   "metadata": {},
   "outputs": [
    {
     "name": "stdout",
     "output_type": "stream",
     "text": [
      "'forcible fondling', 'forcible rape', 'forcible sodomy premise',\n",
      "'lewd conduct icident number', 'lewdness incident', 'masturbating in public',\n",
      "'molested', 'molesting', 'rape',\n",
      "'rape force', 'restraining order violation', 'sex abuse',\n",
      "'sex crime', 'sex crimes', 'sex crimes abuse',\n",
      "'sex offences', 'sex offender', 'sexoff',\n",
      "'sexual abuse', 'sexual assault', 'sexual battery',\n",
      "'sexual offender', 'sexually assaulted', 'sexually assaulting',\n",
      "'soliciting'\n"
     ]
    }
   ],
   "source": [
    "pritty_print(sex_offences_key_words)"
   ]
  },
  {
   "cell_type": "code",
   "execution_count": 36,
   "id": "b1363698",
   "metadata": {},
   "outputs": [
    {
     "data": {
      "text/plain": [
       "{'sexual abuse'}"
      ]
     },
     "execution_count": 36,
     "metadata": {},
     "output_type": "execute_result"
    }
   ],
   "source": [
    "SEX_OFFENCES_KEY_WORD_REGEX = construct_distinct_word_regex(sex_offences_key_words)\n",
    "\n",
    "s = '''\n",
    "Officers investigated 106 reports that included sexual abuse \n",
    "and similar crimes against children\n",
    "'''\n",
    "\n",
    "set(SEX_OFFENCES_KEY_WORD_REGEX.findall(s))"
   ]
  },
  {
   "cell_type": "markdown",
   "id": "5a254552",
   "metadata": {},
   "source": [
    "## Vandalism"
   ]
  },
  {
   "cell_type": "code",
   "execution_count": 37,
   "id": "a5c3c7f0",
   "metadata": {},
   "outputs": [],
   "source": [
    "vandalism_key_words = [\n",
    "    'vandalism', 'property damage', 'criminal damage',\n",
    "    'destruction property', 'malicious mischief', 'destruct property',\n",
    "    'arson', 'graffiti', 'vandalized'\n",
    "]"
   ]
  },
  {
   "cell_type": "code",
   "execution_count": 38,
   "id": "aaba3e42",
   "metadata": {},
   "outputs": [
    {
     "name": "stdout",
     "output_type": "stream",
     "text": [
      "'arson', 'criminal damage', 'destruct property',\n",
      "'destruction property', 'graffiti', 'malicious mischief',\n",
      "'property damage', 'vandalism', 'vandalized',\n",
      "\n"
     ]
    }
   ],
   "source": [
    "pritty_print(vandalism_key_words)"
   ]
  },
  {
   "cell_type": "code",
   "execution_count": 39,
   "id": "b0646a4f",
   "metadata": {},
   "outputs": [
    {
     "data": {
      "text/plain": [
       "{'arson'}"
      ]
     },
     "execution_count": 39,
     "metadata": {},
     "output_type": "execute_result"
    }
   ],
   "source": [
    "VANDALISM_KEY_WORDS_REGEX = construct_distinct_word_regex(vandalism_key_words)\n",
    "\n",
    "s = '''\n",
    "A B.C. man is facing charges, including one count of arson, after \n",
    "allegedly placing a jerry can inside a retail store and lighting it \n",
    "on fire. Police in the small community of Kaslo say the incident \n",
    "happened on Dec. 5, when a man was found to be causing a disturbance.\n",
    "According to the RCMP, the man was yelling and swearing inside the \n",
    "business that morning, with staff advising police they were afraid \n",
    "of him.\n",
    "'''\n",
    "\n",
    "set(VANDALISM_KEY_WORDS_REGEX.findall(s))"
   ]
  },
  {
   "cell_type": "markdown",
   "id": "c4baee3a",
   "metadata": {},
   "source": [
    "## Trafficking of Illegal Goods"
   ]
  },
  {
   "cell_type": "code",
   "execution_count": 40,
   "id": "acbb9e5c",
   "metadata": {},
   "outputs": [],
   "source": [
    "trafficking_illegal_goods = [\n",
    "    'buy narcotics', 'sell narcotics', 'import narcotics', \n",
    "    'possess narcotics', 'drug dealing', 'drugs dealing',\n",
    "    'drug violations', 'drugs violations', 'drugs dealer', 'drug dealer',\n",
    "    'drugs dealers', 'drug dealers',\n",
    "    'narcotics manufacture', 'drug problem', 'drugs problem',\n",
    "    'drug deal', \n",
    "]"
   ]
  },
  {
   "cell_type": "code",
   "execution_count": 41,
   "id": "83e2bfab",
   "metadata": {},
   "outputs": [
    {
     "name": "stdout",
     "output_type": "stream",
     "text": [
      "'buy narcotics', 'drug deal', 'drug dealer',\n",
      "'drug dealers', 'drug dealing', 'drug problem',\n",
      "'drug violations', 'drugs dealer', 'drugs dealers',\n",
      "'drugs dealing', 'drugs problem', 'drugs violations',\n",
      "'import narcotics', 'narcotics manufacture', 'possess narcotics',\n",
      "'sell narcotics'\n"
     ]
    }
   ],
   "source": [
    "pritty_print(trafficking_illegal_goods)"
   ]
  },
  {
   "cell_type": "code",
   "execution_count": 42,
   "id": "d5c1d68c",
   "metadata": {},
   "outputs": [
    {
     "data": {
      "text/plain": [
       "{'drug dealers'}"
      ]
     },
     "execution_count": 42,
     "metadata": {},
     "output_type": "execute_result"
    }
   ],
   "source": [
    "TRAFFICKING_ILLEGAL_GOODS_REGEX = construct_distinct_word_regex(trafficking_illegal_goods)\n",
    "\n",
    "s = '''\n",
    "More and more students are becoming drug dealers. This was stated \n",
    "by Deputy Chief Prosecutor and Director of the National Investigation \n",
    "Service Borislav Sarafov at a joint briefing with Interior \n",
    "Minister Ivan Demerdzhiev and Chief Secretary of the Ministry of \n",
    "Internal Affairs Petar Todorov.\n",
    "'''\n",
    "\n",
    "set(TRAFFICKING_ILLEGAL_GOODS_REGEX.findall(s))"
   ]
  },
  {
   "cell_type": "markdown",
   "id": "6cc30aaa",
   "metadata": {},
   "source": [
    "## Fraud"
   ]
  },
  {
   "cell_type": "code",
   "execution_count": 43,
   "id": "bad16393",
   "metadata": {},
   "outputs": [],
   "source": [
    "fraud_key_words = [\n",
    "    'fraud', 'credit card fraud', 'fraud incident', 'fraud calls',\n",
    "    'fraud credit card', 'fare evasion', 'false use anothers identity',\n",
    "    'forgery', 'delayed forgery', 'false pretenses', 'false swindle', \n",
    "    'identity theft', 'deceptive practice', 'financial identity theft',\n",
    "    'counterfeting', 'credit card debit abuse', 'credit card abuse',\n",
    "    'embezzlement', 'impersonated'\n",
    "]"
   ]
  },
  {
   "cell_type": "code",
   "execution_count": 44,
   "id": "4c719ce7",
   "metadata": {},
   "outputs": [
    {
     "name": "stdout",
     "output_type": "stream",
     "text": [
      "'counterfeting', 'credit card abuse', 'credit card debit abuse',\n",
      "'credit card fraud', 'deceptive practice', 'delayed forgery',\n",
      "'embezzlement', 'false pretenses', 'false swindle',\n",
      "'false use anothers identity', 'fare evasion', 'financial identity theft',\n",
      "'forgery', 'fraud', 'fraud calls',\n",
      "'fraud credit card', 'fraud incident', 'identity theft',\n",
      "'impersonated'\n"
     ]
    }
   ],
   "source": [
    "pritty_print(fraud_key_words)"
   ]
  },
  {
   "cell_type": "code",
   "execution_count": 45,
   "id": "9277a916",
   "metadata": {},
   "outputs": [
    {
     "data": {
      "text/plain": [
       "{'credit card fraud'}"
      ]
     },
     "execution_count": 45,
     "metadata": {},
     "output_type": "execute_result"
    }
   ],
   "source": [
    "FRAUD_KEY_WORDS_REGEX = construct_distinct_word_regex(fraud_key_words)\n",
    "\n",
    "s = '''\n",
    "Jacksonville Police looking for credit card fraud suspect\n",
    "Jacksonville FL — On Monday, Jacksonville Police released photos of \n",
    "someone accused of using stolen credit cards in the Avondale area. \n",
    "Police say it’s investigating an auto burglary that happened on \n",
    "Pinegrove Avenue and during the incident, several items were stolen \n",
    "including the victim’s credit and debit cards. Police say the suspect \n",
    "has a Celtic Cross with a heart tattoo on his upper left wrist.\n",
    "'''\n",
    "\n",
    "set(FRAUD_KEY_WORDS_REGEX.findall(s))"
   ]
  },
  {
   "cell_type": "markdown",
   "id": "31b2c5ca",
   "metadata": {},
   "source": [
    "## Organised crime"
   ]
  },
  {
   "cell_type": "code",
   "execution_count": 46,
   "id": "2c9f175c",
   "metadata": {},
   "outputs": [],
   "source": [
    "organised_crime_key_words = [\n",
    "    'criminal conspiracy', 'conspiracy commit crime', 'gang related',\n",
    "    'engaging organized criminal activity', 'organized criminal activity',\n",
    "    'street gang', 'operating gambling', 'promoting gambling', 'assisting gambling',\n",
    "    'gang activity', 'attemp conspiracy penalties', 'gang', 'money laundering',\n",
    "    'weapon law violations',\n",
    "]"
   ]
  },
  {
   "cell_type": "code",
   "execution_count": 47,
   "id": "6c1f3ee0",
   "metadata": {},
   "outputs": [
    {
     "name": "stdout",
     "output_type": "stream",
     "text": [
      "'assisting gambling', 'attemp conspiracy penalties', 'conspiracy commit crime',\n",
      "'criminal conspiracy', 'engaging organized criminal activity', 'gang',\n",
      "'gang activity', 'gang related', 'money laundering',\n",
      "'operating gambling', 'organized criminal activity', 'promoting gambling',\n",
      "'street gang', 'weapon law violations'\n"
     ]
    }
   ],
   "source": [
    "pritty_print(organised_crime_key_words)"
   ]
  },
  {
   "cell_type": "code",
   "execution_count": 48,
   "id": "e03f0545",
   "metadata": {
    "scrolled": true
   },
   "outputs": [
    {
     "data": {
      "text/plain": [
       "{'money laundering'}"
      ]
     },
     "execution_count": 48,
     "metadata": {},
     "output_type": "execute_result"
    }
   ],
   "source": [
    "ORGANISED_CRIME_KEY_WORDS_REGEX = construct_distinct_word_regex(organised_crime_key_words)\n",
    "\n",
    "s = \"\"\"\n",
    "House must act on whistleblower bill to protect ‘insiders’ who \n",
    "report Russian money laundering\n",
    "\"\"\"\n",
    "\n",
    "set(ORGANISED_CRIME_KEY_WORDS_REGEX.findall(s))"
   ]
  },
  {
   "cell_type": "markdown",
   "id": "22a56491",
   "metadata": {},
   "source": [
    "## Terrorist threats"
   ]
  },
  {
   "cell_type": "code",
   "execution_count": 49,
   "id": "4041cc84",
   "metadata": {},
   "outputs": [],
   "source": [
    "terrorist_threats_key_words = [\n",
    "    'terroristic threat', 'terrorist threat',\n",
    "    'terroristic threats', 'terrorist threats',\n",
    "    'terroristic threatening', 'terrorist threats',\n",
    "    'terrorizing', 'terroristic threat zone', 'bomb threat',\n",
    "]"
   ]
  },
  {
   "cell_type": "code",
   "execution_count": 50,
   "id": "e8ef0f7f",
   "metadata": {},
   "outputs": [
    {
     "name": "stdout",
     "output_type": "stream",
     "text": [
      "'bomb threat', 'terrorist threat', 'terrorist threats',\n",
      "'terroristic threat', 'terroristic threat zone', 'terroristic threatening',\n",
      "'terroristic threats', 'terrorizing'\n"
     ]
    }
   ],
   "source": [
    "pritty_print(terrorist_threats_key_words)"
   ]
  },
  {
   "cell_type": "code",
   "execution_count": 51,
   "id": "9fbb4872",
   "metadata": {},
   "outputs": [
    {
     "data": {
      "text/plain": [
       "{'bomb threat', 'terroristic threats'}"
      ]
     },
     "execution_count": 51,
     "metadata": {},
     "output_type": "execute_result"
    }
   ],
   "source": [
    "TERRORIST_THREATS_KEY_WORDS_REGEX = construct_distinct_word_regex(terrorist_threats_key_words)\n",
    "\n",
    "s = '''\n",
    "FRAMINGHAM – On Friday morning, December 9, Framingham High was under a \n",
    "shelter-in-place order for about an hour, while Police searched for a \n",
    "man who made a threat against the high school.\n",
    "\n",
    "Friday night, Framingham Police arrested a Framingham man and charged \n",
    "him with “making terroristic threats,” said Framingham Police \n",
    "spokesperson Lt. Rachel Mickens.\n",
    "\n",
    "Peter J. Wilson, 46, of 19 Cherry Street in Framingham was arrested \n",
    "at 6;23 p.m. on December 9. The police log said he was charged with \n",
    "false “bomb threat.”\n",
    "'''\n",
    "\n",
    "set(TERRORIST_THREATS_KEY_WORDS_REGEX.findall(s))"
   ]
  },
  {
   "cell_type": "markdown",
   "id": "248e4077",
   "metadata": {},
   "source": [
    "## Disturbance"
   ]
  },
  {
   "cell_type": "code",
   "execution_count": 52,
   "id": "3a74f314",
   "metadata": {},
   "outputs": [],
   "source": [
    "disturbance_key_words = [\n",
    "    'disturbance', 'domestic disturbance', 'disturbing peace',\n",
    "    'civil disturbance', 'disturbance business', 'public disturbence',\n",
    "    'disturbance neighbour', 'disturb', 'distubance family',\n",
    "    'noisy party', 'noise disturbance', 'disorderly conduct', \n",
    "    'public order', 'disorderly person', 'noise complaint', \n",
    "    'loud noise disturbance', \n",
    "]"
   ]
  },
  {
   "cell_type": "code",
   "execution_count": 53,
   "id": "fe097010",
   "metadata": {},
   "outputs": [
    {
     "name": "stdout",
     "output_type": "stream",
     "text": [
      "'civil disturbance', 'disorderly conduct', 'disorderly person',\n",
      "'distubance family', 'disturb', 'disturbance',\n",
      "'disturbance business', 'disturbance neighbour', 'disturbing peace',\n",
      "'domestic disturbance', 'loud noise disturbance', 'noise complaint',\n",
      "'noise disturbance', 'noisy party', 'public disturbence',\n",
      "'public order'\n"
     ]
    }
   ],
   "source": [
    "pritty_print(disturbance_key_words)"
   ]
  },
  {
   "cell_type": "code",
   "execution_count": 54,
   "id": "e5f065ba",
   "metadata": {},
   "outputs": [
    {
     "data": {
      "text/plain": [
       "{'disturbance'}"
      ]
     },
     "execution_count": 54,
     "metadata": {},
     "output_type": "execute_result"
    }
   ],
   "source": [
    "DISTURBANCE_KEY_WORDS_REGEX = construct_distinct_word_regex(disturbance_key_words)\n",
    "\n",
    "s = \"\"\"\n",
    "A man was found hiding in a garden in Salford after police were \n",
    "called to a 'disturbance'. Police were called to a house on \n",
    "Limefield Road at around 10.30pm last night (Monday). Officers and \n",
    "the Tactical Dog Unit responded and arrested the suspect.\n",
    "He was found hiding in a garden of a house, police said. \n",
    "The suspect - a man aged in his 50s - was arrested on suspicion of \n",
    "burglary and resisting arrest.\n",
    "\"\"\"\n",
    "\n",
    "set(DISTURBANCE_KEY_WORDS_REGEX.findall(s))"
   ]
  },
  {
   "cell_type": "markdown",
   "id": "7970f17f",
   "metadata": {},
   "source": [
    "## Suspicious Activity"
   ]
  },
  {
   "cell_type": "code",
   "execution_count": 55,
   "id": "cedfbbcd",
   "metadata": {},
   "outputs": [],
   "source": [
    "suspicious_activity_key_words = [\n",
    "    'suspicious person', 'suspicious activity', 'suspicious vehicle',\n",
    "    'suspicious situation', 'suspicious circumstances',\n",
    "    'suspicious priority', 'suspicious perso', 'suspicious incident',\n",
    "    'suspicious event', 'suspicious subject'\n",
    "]"
   ]
  },
  {
   "cell_type": "code",
   "execution_count": 56,
   "id": "8089636b",
   "metadata": {},
   "outputs": [
    {
     "name": "stdout",
     "output_type": "stream",
     "text": [
      "'suspicious activity', 'suspicious circumstances', 'suspicious event',\n",
      "'suspicious incident', 'suspicious perso', 'suspicious person',\n",
      "'suspicious priority', 'suspicious situation', 'suspicious subject',\n",
      "'suspicious vehicle'\n"
     ]
    }
   ],
   "source": [
    "pritty_print(suspicious_activity_key_words)"
   ]
  },
  {
   "cell_type": "code",
   "execution_count": 57,
   "id": "5e5059b7",
   "metadata": {},
   "outputs": [
    {
     "data": {
      "text/plain": [
       "{'suspicious activity'}"
      ]
     },
     "execution_count": 57,
     "metadata": {},
     "output_type": "execute_result"
    }
   ],
   "source": [
    "SUSPICIOUS_ACTIVITY_KEY_WORDS_REGEX = construct_distinct_word_regex(suspicious_activity_key_words)\n",
    "\n",
    "s = '''\n",
    "La Crosse man arrested for 6th OWI, obstruction while possessing fentanyl, \n",
    "meth after ‘suspicious activity\n",
    "'''\n",
    "\n",
    "set(SUSPICIOUS_ACTIVITY_KEY_WORDS_REGEX.findall(s))"
   ]
  },
  {
   "cell_type": "markdown",
   "id": "f5bb49c5",
   "metadata": {},
   "source": [
    "## Domestic offenses"
   ]
  },
  {
   "cell_type": "code",
   "execution_count": 58,
   "id": "6338822e",
   "metadata": {},
   "outputs": [],
   "source": [
    "domestic_offences_key_words = [\n",
    "    'domestic dispute', 'domestic violence', 'domestic related',\n",
    "    'domestic battery', 'domestic assault', 'domestic progress',\n",
    "    'domestic verbal', 'domestic trouble', 'domestic incident',\n",
    "    'domestic related',\n",
    "    'family trouble', 'family dispute',\n",
    "    'family fight', 'simple assault'\n",
    "]"
   ]
  },
  {
   "cell_type": "code",
   "execution_count": 59,
   "id": "2340bf1f",
   "metadata": {},
   "outputs": [
    {
     "name": "stdout",
     "output_type": "stream",
     "text": [
      "'domestic assault', 'domestic battery', 'domestic dispute',\n",
      "'domestic incident', 'domestic progress', 'domestic related',\n",
      "'domestic trouble', 'domestic verbal', 'domestic violence',\n",
      "'family dispute', 'family fight', 'family trouble',\n",
      "'simple assault'\n"
     ]
    }
   ],
   "source": [
    "pritty_print(domestic_offences_key_words)"
   ]
  },
  {
   "cell_type": "code",
   "execution_count": 60,
   "id": "c1bab040",
   "metadata": {},
   "outputs": [
    {
     "data": {
      "text/plain": [
       "{'domestic violence'}"
      ]
     },
     "execution_count": 60,
     "metadata": {},
     "output_type": "execute_result"
    }
   ],
   "source": [
    "DOMESTIC_OFFENCES_KEY_WORDS_REGEX = construct_distinct_word_regex(domestic_offences_key_words)\n",
    "\n",
    "s = '''\n",
    "‘Holidays always increase the stress’: Portland metro sees rise in \n",
    "domestic violence cases\n",
    "'''\n",
    "\n",
    "set(DOMESTIC_OFFENCES_KEY_WORDS_REGEX.findall(s))"
   ]
  },
  {
   "cell_type": "markdown",
   "id": "732611df",
   "metadata": {},
   "source": [
    "## Drug & Alcohol violations"
   ]
  },
  {
   "cell_type": "code",
   "execution_count": 61,
   "id": "3ee186a0",
   "metadata": {},
   "outputs": [],
   "source": [
    "drug_alcohol_violations_key_words = [\n",
    "    'drugs', 'narcotics', 'drug equipment violations',\n",
    "    'drug violations', 'drug violation', 'drugs violations', \n",
    "    'alcohol violations', 'alcohol violation',\n",
    "    'narcotics offense', 'disturbance firecrackers',\n",
    "    'drug paraphernalia', 'narcotics offence', 'narcotic',\n",
    "    'possess controlled substance', 'drugs narcotics', 'narcotics place',\n",
    "    'drug case', 'drugs case', 'drug overdose', 'drugs overdose',\n",
    "    'drug offence', 'drug offences', 'drugs offence', 'drugs offences',\n",
    "    'possesion marijuana', 'paraphernalia use'\n",
    "]"
   ]
  },
  {
   "cell_type": "code",
   "execution_count": 62,
   "id": "f7ae9dda",
   "metadata": {},
   "outputs": [
    {
     "name": "stdout",
     "output_type": "stream",
     "text": [
      "'alcohol violation', 'alcohol violations', 'disturbance firecrackers',\n",
      "'drug case', 'drug equipment violations', 'drug offence',\n",
      "'drug offences', 'drug overdose', 'drug paraphernalia',\n",
      "'drug violation', 'drug violations', 'drugs',\n",
      "'drugs case', 'drugs narcotics', 'drugs offence',\n",
      "'drugs offences', 'drugs overdose', 'drugs violations',\n",
      "'narcotic', 'narcotics', 'narcotics offence',\n",
      "'narcotics offense', 'narcotics place', 'paraphernalia use',\n",
      "'possesion marijuana', 'possess controlled substance'\n"
     ]
    }
   ],
   "source": [
    "pritty_print(drug_alcohol_violations_key_words)"
   ]
  },
  {
   "cell_type": "code",
   "execution_count": 63,
   "id": "b7f15789",
   "metadata": {},
   "outputs": [
    {
     "data": {
      "text/plain": [
       "{'drug offences'}"
      ]
     },
     "execution_count": 63,
     "metadata": {},
     "output_type": "execute_result"
    }
   ],
   "source": [
    "DRUG_ALCOHOL_KEY_WORDS_REGEX = construct_distinct_word_regex(drug_alcohol_violations_key_words)\n",
    "\n",
    "s = '''Crown and defence far apart on sentencing for drug offences'''\n",
    "\n",
    "set(DRUG_ALCOHOL_KEY_WORDS_REGEX.findall(s))"
   ]
  },
  {
   "cell_type": "markdown",
   "id": "43e19ca6",
   "metadata": {},
   "source": [
    "## Traffic violations"
   ]
  },
  {
   "cell_type": "code",
   "execution_count": 64,
   "id": "36159c87",
   "metadata": {},
   "outputs": [],
   "source": [
    "traffic_violations_key_words = [\n",
    "    'hit run', 'accident hit run', 'hit-and-run', 'hit and run', \n",
    "    'hit-and-run crash', 'hit run crash', 'hit and run crash',\n",
    "    'intoxicated driver',\n",
    "    'hit run property', 'impaired driver', 'driving intoxicated',\n",
    "    'hit run collision', 'dui', 'dui alcohol', 'traffic offense',\n",
    "    'driving influence premise', 'driving influence', 'impaired driving',\n",
    "    'drunk driving', 'drunk drive', 'driving impaired', 'drunk driver',\n",
    "    'motor vehicle violation', 'parking violation', 'reckless driver', 'reckless driving',\n",
    "    'drag racing', 'traffic-moving violations', 'motor vehicle crash accident',\n",
    "    'driving violation', 'drunk driver', 'ran a red light', 'ran red light',\n",
    "    'run a red light', 'run red light', 'street race', 'street races',\n",
    "    'driving under the influence of alcohol', \n",
    "    \n",
    "]"
   ]
  },
  {
   "cell_type": "code",
   "execution_count": 65,
   "id": "3d088c99",
   "metadata": {},
   "outputs": [
    {
     "name": "stdout",
     "output_type": "stream",
     "text": [
      "'accident hit run', 'drag racing', 'driving impaired',\n",
      "'driving influence', 'driving influence premise', 'driving intoxicated',\n",
      "'driving under the influence of alcohol', 'driving violation', 'drunk drive',\n",
      "'drunk driver', 'drunk driving', 'dui',\n",
      "'dui alcohol', 'hit and run', 'hit and run crash',\n",
      "'hit run', 'hit run collision', 'hit run crash',\n",
      "'hit run property', 'hit-and-run', 'hit-and-run crash',\n",
      "'impaired driver', 'impaired driving', 'intoxicated driver',\n",
      "'motor vehicle crash accident', 'motor vehicle violation', 'parking violation',\n",
      "'ran a red light', 'ran red light', 'reckless driver',\n",
      "'reckless driving', 'run a red light', 'run red light',\n",
      "'street race', 'street races', 'traffic offense',\n",
      "'traffic-moving violations'\n"
     ]
    }
   ],
   "source": [
    "pritty_print(traffic_violations_key_words)"
   ]
  },
  {
   "cell_type": "code",
   "execution_count": 66,
   "id": "0830a6e3",
   "metadata": {},
   "outputs": [
    {
     "data": {
      "text/plain": [
       "{'drunk driver', 'impaired driving'}"
      ]
     },
     "execution_count": 66,
     "metadata": {},
     "output_type": "execute_result"
    }
   ],
   "source": [
    "TRAFFIC_VIOLATIONS_KEY_WORDS_REGEX = construct_distinct_word_regex(traffic_violations_key_words)\n",
    "\n",
    "s = '''\n",
    "An Ontario driver is facing impaired driving charges after a \n",
    "concerned citizen phoned 911 to report a suspected drunk driver.\n",
    "In a video posted by York Regional Police, police officers can be \n",
    "seen driving towards a vehicle along Highway 407 as a caller details \n",
    "that customer had left his establishment “very, very drunk.”\n",
    "'''\n",
    "\n",
    "set(TRAFFIC_VIOLATIONS_KEY_WORDS_REGEX.findall(s))"
   ]
  },
  {
   "cell_type": "markdown",
   "id": "6e1c0246",
   "metadata": {},
   "source": [
    "## Trespassing"
   ]
  },
  {
   "cell_type": "code",
   "execution_count": 67,
   "id": "1691724b",
   "metadata": {},
   "outputs": [],
   "source": [
    "trespassing_key_words = [\n",
    "    'trespassing', 'trespass', 'trespasser', \n",
    "    'alarm intrusion incident', 'intrusion'\n",
    "]"
   ]
  },
  {
   "cell_type": "code",
   "execution_count": 68,
   "id": "76b2d8ff",
   "metadata": {},
   "outputs": [
    {
     "data": {
      "text/plain": [
       "{'trespassing'}"
      ]
     },
     "execution_count": 68,
     "metadata": {},
     "output_type": "execute_result"
    }
   ],
   "source": [
    "TRESPASSING_KEY_WORDS_REGEX = construct_distinct_word_regex(trespassing_key_words)\n",
    "\n",
    "s = '''\n",
    "• 8:56 a.m. Longmont police cited a man for trespassing in the \n",
    "1300 block of Dry Creek Drive.\n",
    "• 10:54 a.m. Police took a report of a theft in the 600 block of \n",
    "Martin Street. There is no suspect information.\n",
    "• 5:45 p.m. Officers investigated a vehicle theft in the 1800 block \n",
    "of Lefthand Circle.\n",
    "'''\n",
    "\n",
    "set(TRESPASSING_KEY_WORDS_REGEX.findall(s))"
   ]
  },
  {
   "cell_type": "markdown",
   "id": "31a62610",
   "metadata": {},
   "source": [
    "## Weapon Violations"
   ]
  },
  {
   "cell_type": "code",
   "execution_count": 69,
   "id": "fa122bce",
   "metadata": {},
   "outputs": [],
   "source": [
    "weapon_violations_key_words = [\n",
    "    'shots fired', 'possession weapons', 'armed person', 'weapons',\n",
    "    'sound gunshots', 'shots heard', 'weapon', 'discharging firearm',\n",
    "    'shooting', 'weapon law violations', 'shotspotter', 'shots fire',\n",
    "    'brandishing weapon', 'illegally possessed assault rifle',\n",
    "    'illegally possessed rifle', 'illegally possessed gun',\n",
    "    \"firearm's serial number was obliterated\", 'serial number was obliterated',\n",
    "    \n",
    "]"
   ]
  },
  {
   "cell_type": "code",
   "execution_count": 70,
   "id": "f9b89aa4",
   "metadata": {},
   "outputs": [
    {
     "name": "stdout",
     "output_type": "stream",
     "text": [
      "'armed person', 'brandishing weapon', 'discharging firearm',\n",
      "'firearm's serial number was obliterated', 'illegally possessed assault rifle', 'illegally possessed gun',\n",
      "'illegally possessed rifle', 'possession weapons', 'serial number was obliterated',\n",
      "'shooting', 'shots fire', 'shots fired',\n",
      "'shots heard', 'shotspotter', 'sound gunshots',\n",
      "'weapon', 'weapon law violations', 'weapons',\n",
      "\n"
     ]
    }
   ],
   "source": [
    "pritty_print(weapon_violations_key_words)"
   ]
  },
  {
   "cell_type": "code",
   "execution_count": 71,
   "id": "2dbbd338",
   "metadata": {},
   "outputs": [
    {
     "data": {
      "text/plain": [
       "{'armed person'}"
      ]
     },
     "execution_count": 71,
     "metadata": {},
     "output_type": "execute_result"
    }
   ],
   "source": [
    "WEAPON_VIOLATIONS_KEY_WORDS_REGEX = construct_distinct_word_regex(weapon_violations_key_words)\n",
    "\n",
    "s = '''\n",
    "Police seek to identify a suspect after shots were fired in Oshawa, \n",
    "Ont., over the weekend. Durham Regional Police said on Saturday at \n",
    "around 9:30 p.m., officers received a report of an armed person in \n",
    "the Nassau Street and King Street West area.\n",
    "Officers said an “incident” occurred between a male suspect and a \n",
    "victim.\n",
    "'''\n",
    "\n",
    "set(WEAPON_VIOLATIONS_KEY_WORDS_REGEX.findall(s))"
   ]
  },
  {
   "cell_type": "markdown",
   "id": "bc071109",
   "metadata": {},
   "source": [
    "## Assault"
   ]
  },
  {
   "cell_type": "code",
   "execution_count": 72,
   "id": "5eb97d32",
   "metadata": {},
   "outputs": [],
   "source": [
    "assault_key_words = [\n",
    "    'assault', 'assaulting',\n",
    "    'simple assault', 'common assault', 'aggravated assault',\n",
    "    'assaulted', 'serious injury', 'serious bodily injury', \n",
    "    'injury to', 'injured', 'knifing',\n",
    "    'stabbing', 'stab', 'stabbed', 'stab wound',\n",
    "    'attempt to murder', 'attempted murder', \n",
    "    'attempts or threats to murder', 'attempted homicide',\n",
    "    'hurted', 'bodily harm', 'grievous bodily harm', \n",
    "    'simply bodily harm',\n",
    "    'knife wounds', 'brutally beat', 'violently attacked',\n",
    "    'struck', 'beaten', 'beaten to unconsciousness', 'hit and kick',\n",
    "    'beating the man', 'beating a man', 'beating man', 'beating men',\n",
    "]"
   ]
  },
  {
   "cell_type": "code",
   "execution_count": 73,
   "id": "ee599938",
   "metadata": {},
   "outputs": [
    {
     "name": "stdout",
     "output_type": "stream",
     "text": [
      "'aggravated assault', 'assault', 'assaulted',\n",
      "'assaulting', 'attempt to murder', 'attempted homicide',\n",
      "'attempted murder', 'attempts or threats to murder', 'beaten',\n",
      "'beaten to unconsciousness', 'beating a man', 'beating man',\n",
      "'beating men', 'beating the man', 'bodily harm',\n",
      "'brutally beat', 'common assault', 'grievous bodily harm',\n",
      "'hit and kick', 'hurted', 'injured',\n",
      "'injury to', 'knife wounds', 'knifing',\n",
      "'serious bodily injury', 'serious injury', 'simple assault',\n",
      "'simply bodily harm', 'stab', 'stab wound',\n",
      "'stabbed', 'stabbing', 'struck',\n",
      "'violently attacked'\n"
     ]
    }
   ],
   "source": [
    "pritty_print(assault_key_words)"
   ]
  },
  {
   "cell_type": "code",
   "execution_count": 74,
   "id": "f80468b6",
   "metadata": {},
   "outputs": [
    {
     "data": {
      "text/plain": [
       "{'assault', 'assaulted'}"
      ]
     },
     "execution_count": 74,
     "metadata": {},
     "output_type": "execute_result"
    }
   ],
   "source": [
    "ASSAULT_KEY_WORDS_REGEX = construct_distinct_word_regex(assault_key_words)\n",
    "\n",
    "s = \"\"\"\n",
    "Police from Serious and Organised Crime Branch have arrested four people following an investigation into a serious assault at Henley Beach earlier this month.\n",
    "About 10.45pm on Friday 7 October, a number of staff and security guards were assaulted at a hotel on Seaview Road.\n",
    "Following an investigation, Detectives from Serious and Organised Crime Branch subsequently arrested three men and a woman over the incident. \n",
    "\"\"\"\n",
    "\n",
    "set(ASSAULT_KEY_WORDS_REGEX.findall(s))"
   ]
  },
  {
   "cell_type": "markdown",
   "id": "1d7c0f42",
   "metadata": {},
   "source": [
    "## Homicide"
   ]
  },
  {
   "cell_type": "code",
   "execution_count": 75,
   "id": "02466192",
   "metadata": {},
   "outputs": [],
   "source": [
    "homicide_key_words = [\n",
    "    'murder', 'assassination', 'homicide', 'lynching', 'manslaughter',\n",
    "    'genocide', 'kill', 'killed', 'death investigation',\n",
    "    'fatally shot', 'died after shots fired', 'died after',\n",
    "    'shot', 'shooting', 'shots', 'deadly shooting'\n",
    "    'slaying', 'massacre',\n",
    "    'died of a single gunshot wound', 'died of multiple gunshot wounds',\n",
    "    'deceased victims', 'were found dead', 'was found dead'\n",
    "    'investigated as homicides', 'person is dead',\n",
    "    'fatal head injury', 'declared dead',\n",
    "    'shooting death', 'was shot to death', 'were shot to death', \n",
    "    'did not survive the shooting', 'stabbed to death',\n",
    "    'dismembered', 'concealment of a body',\n",
    "    'reported dead by gunshot wound',\n",
    "    'fatal stabbings', 'fatal stabbing', 'fatally stabed',\n",
    "    'mutilating a corpse', 'shot dead', 'suffocated',\n",
    "    'was beheaded', 'beheaded', \n",
    "]"
   ]
  },
  {
   "cell_type": "code",
   "execution_count": 76,
   "id": "5a61e4c0",
   "metadata": {},
   "outputs": [
    {
     "name": "stdout",
     "output_type": "stream",
     "text": [
      "'assassination', 'beheaded', 'concealment of a body',\n",
      "'deadly shootingslaying', 'death investigation', 'deceased victims',\n",
      "'declared dead', 'did not survive the shooting', 'died after',\n",
      "'died after shots fired', 'died of a single gunshot wound', 'died of multiple gunshot wounds',\n",
      "'dismembered', 'fatal head injury', 'fatal stabbing',\n",
      "'fatal stabbings', 'fatally shot', 'fatally stabed',\n",
      "'genocide', 'homicide', 'kill',\n",
      "'killed', 'lynching', 'manslaughter',\n",
      "'massacre', 'murder', 'mutilating a corpse',\n",
      "'person is dead', 'reported dead by gunshot wound', 'shooting',\n",
      "'shooting death', 'shot', 'shot dead',\n",
      "'shots', 'stabbed to death', 'suffocated',\n",
      "'was beheaded', 'was found deadinvestigated as homicides', 'was shot to death',\n",
      "'were found dead', 'were shot to death'\n"
     ]
    }
   ],
   "source": [
    "pritty_print(homicide_key_words)"
   ]
  },
  {
   "cell_type": "code",
   "execution_count": 77,
   "id": "db4ef822",
   "metadata": {},
   "outputs": [
    {
     "data": {
      "text/plain": [
       "{'homicide', 'murder'}"
      ]
     },
     "execution_count": 77,
     "metadata": {},
     "output_type": "execute_result"
    }
   ],
   "source": [
    "HOMICIDE_KEY_WORDS_REGEX = construct_distinct_word_regex(homicide_key_words)\n",
    "\n",
    "s = \"\"\"\n",
    "Seattle police say they have arrested a 42-year-old man for the double murder of a man and woman in Georgetown.\n",
    "He was booked into the King County jail for investigation of homicide.\n",
    "Police posted in their blotter, a 911 caller reported two down subjects in an apartment in the 6100 block of 4th Avenue South. \n",
    "\"\"\"\n",
    "\n",
    "set(HOMICIDE_KEY_WORDS_REGEX.findall(s))"
   ]
  },
  {
   "cell_type": "markdown",
   "id": "5d3fd731",
   "metadata": {},
   "source": [
    "# Key words for non-relevant\n",
    "## Trials"
   ]
  },
  {
   "cell_type": "code",
   "execution_count": 78,
   "id": "334a694a",
   "metadata": {},
   "outputs": [
    {
     "name": "stdout",
     "output_type": "stream",
     "text": [
      "{'pleaded guilty', 'Convicted', 'judge', 'Supreme Court of the United States', 'convicted', 'sentenced'}\n",
      "{'trials'}\n"
     ]
    }
   ],
   "source": [
    "trials_key_words = [\n",
    "    'prosecutor', 'prosecutors', \n",
    "    'judge', 'jury', 'judges', 'juries', 'Court jury', \n",
    "    'Court jury found',\n",
    "    'trial', 'trials', 'mistrial', \n",
    "    'sentenced', 'verdict', \n",
    "    'probation', 'probations',\n",
    "    'allegation', 'allegations',\n",
    "    'lawsuit', 'lawsuits',\n",
    "    'settle', 'settlement', \n",
    "    'sued', 'convicted',\n",
    "    'testified',\n",
    "    'paroled',\n",
    "    'U.S. Supreme Court decision', 'District Court', 'Supreme Court',\n",
    "    'U.S. District Court', 'US Department of Justice',\n",
    "    'Supreme Court of the United States',\n",
    "    'court-imposed curfew', 'court imposed curfew',\n",
    "    'juvenile petitions', 'juvenile petition', 'petition filed for voluntary',\n",
    "    'judge has denied', 'judges have denied',\n",
    "    'pleaded guilty before U.S. District Court',\n",
    "    'trial began in', 'filed an ethics complaint against', 'ethics complaint',\n",
    "    'introduced a resolution', 'jury ruled in favour of', 'announced indictments',\n",
    "    'judge\\'s sentence', 'judge prohibited', 'acting on a request from prosecutors',\n",
    "    'has been extradited', 'federal judge', 'closely supervised probation', 'special grand jury',\n",
    "    'Supreme Court', 'has been found guilty', 'have been found guilty',\n",
    "    'next hearing is set for', 'sentenced to life in prison',\n",
    "    'execution of a death', 'life sentence', 'opportunity for parole',\n",
    "    'suspended sentence for', 'deferred sentence for', 'was dismissed against',\n",
    "    'has been denied parole', 'denied parole', 'was extradited back',\n",
    "    'were extradicted back', 'was extradicted', 'were extradicted',\n",
    "    'extradicted', 'schedule to be killed', 'scheduled to be killed',\n",
    "    'death by lethal injection', 'scheduled to be put to death by',\n",
    "    'the court entered not guilty pleas', 'not guilty pleas',\n",
    "    'guilty pleas', 'pleading guilty', 'pleaded guilty', 'Lawmakers in Congress',\n",
    "    'Presidential Records Act', 'definition of justified homicide',\n",
    "    'were justified', 'was justified', 'awaits extradition to',\n",
    "    'with conditions of release', 'no unsupervised contact with a child under 18',\n",
    "    'could be sentenced up to 10 years', 'sentenced up to 10 years',\n",
    "    'pleaded not guilty', 'was found guilty', 'were found guilty',\n",
    "    'found guilty',\n",
    "]\n",
    "\n",
    "TRIAL_KEY_WORDS_REGEX = construct_distinct_word_regex(trials_key_words)\n",
    "\n",
    "s = \"\"\"\n",
    "A 25-year-old man has been sentenced to a year in prison for straw purchasing guns in suburban Chicago by Supreme Court of the United States. \n",
    "Ismael Sene in 2019 and 2020 bought a \n",
    "total of seven handguns from licensed firearms dealers in   and Merrionette Park. During one of the purchases, officials say Sene falsely \n",
    "certified that he was the actual buyer. Sene purchased at least one of the guns for a person whom he had reason to believe was a convicted felon, \n",
    "officials said. Convicted felons under federal law may not purchase or possess a firearm. Sene in each purchase also falsely claimed he was not\n",
    "an unlawful drug user when he regularly used cannabis — a violation of federal law. In June, Sene pleaded guilty to making false statements in \n",
    "connection with purchasing a firearm. Last Friday, a judge sentenced Sene to a year and a day in federal prison. Advertisement \"Straw purchasers,\n",
    "like the defendant, perpetuate the cycle of violence that is terrorizing this city,\" Assistant U.S. Attorney James P. Durkin argued in the \n",
    "government’s sentencing memorandum. \"The tools that drive that mayhem are firearms in the hands of dangerous people who are often legally \n",
    "prohibited from purchasing and possessing them.\n",
    "\"\"\"\n",
    "print(set(TRIAL_KEY_WORDS_REGEX.findall(s)))\n",
    "\n",
    "s = \"\"\"\n",
    "Two men have been charged in connection to a robbery and shooting trials that killed an armored car driver and critically wounded another in Chicago's\n",
    "Chatham neighborhood Monday morning. Two women and a man were robbed in separate incidents minutes apart Wednesday night in the   neighborhood. \n",
    "The women, 27 and 28, were walking on the sidewalk at 9:21 p.m. in the 800 block of West Wolfram Street when two gunmen got out of a red Mazda SUV \n",
    "and demanded their belongings, police said. The gunmen took their cellphones and purses, police said. Neither woman was hurt during the incident, \n",
    "police said. Less than a half hour later, a 46-year-old man was approached by gunmen as he was entering his building in the 500 block of West \n",
    "Stratford Place, police said. They took his cellphones, wallet and a yellow backpack, police said. The man suffered a minor injury to his jaw but \n",
    "refused treatment at the scene, police said. The gunmen fled in a red Mazda SUV. Police have not said if they believe the two robberies are connected.\n",
    "Advertisement Area Three detectives are investigating.\n",
    "\"\"\"\n",
    "\n",
    "print(set(TRIAL_KEY_WORDS_REGEX.findall(s)))"
   ]
  },
  {
   "cell_type": "code",
   "execution_count": 79,
   "id": "e29188fd",
   "metadata": {},
   "outputs": [
    {
     "name": "stdout",
     "output_type": "stream",
     "text": [
      "'Court jury', 'Court jury found', 'District Court',\n",
      "'Lawmakers in Congress', 'Presidential Records Act', 'Supreme Court',\n",
      "'Supreme Court of the United States', 'U.S. District Court', 'U.S. Supreme Court decision',\n",
      "'US Department of Justice', 'acting on a request from prosecutors', 'allegation',\n",
      "'allegations', 'announced indictments', 'awaits extradition to',\n",
      "'closely supervised probation', 'convicted', 'could be sentenced up to 10 years',\n",
      "'court imposed curfew', 'court-imposed curfew', 'death by lethal injection',\n",
      "'deferred sentence for', 'definition of justified homicide', 'denied parole',\n",
      "'ethics complaint', 'execution of a death', 'extradicted',\n",
      "'federal judge', 'filed an ethics complaint against', 'found guilty',\n",
      "'guilty pleas', 'has been denied parole', 'has been extradited',\n",
      "'has been found guilty', 'have been found guilty', 'introduced a resolution',\n",
      "'judge', 'judge has denied', 'judge prohibited',\n",
      "'judge's sentence', 'judges', 'judges have denied',\n",
      "'juries', 'jury', 'jury ruled in favour of',\n",
      "'juvenile petition', 'juvenile petitions', 'lawsuit',\n",
      "'lawsuits', 'life sentence', 'mistrial',\n",
      "'next hearing is set for', 'no unsupervised contact with a child under 18', 'not guilty pleas',\n",
      "'opportunity for parole', 'paroled', 'petition filed for voluntary',\n",
      "'pleaded guilty', 'pleaded guilty before U.S. District Court', 'pleaded not guilty',\n",
      "'pleading guilty', 'probation', 'probations',\n",
      "'prosecutor', 'prosecutors', 'schedule to be killed',\n",
      "'scheduled to be killed', 'scheduled to be put to death by', 'sentenced',\n",
      "'sentenced to life in prison', 'sentenced up to 10 years', 'settle',\n",
      "'settlement', 'special grand jury', 'sued',\n",
      "'suspended sentence for', 'testified', 'the court entered not guilty pleas',\n",
      "'trial', 'trial began in', 'trials',\n",
      "'verdict', 'was dismissed against', 'was extradicted',\n",
      "'was extradited back', 'was found guilty', 'was justified',\n",
      "'were extradicted', 'were extradicted back', 'were found guilty',\n",
      "'were justified', 'with conditions of release'\n"
     ]
    }
   ],
   "source": [
    "pritty_print(trials_key_words)"
   ]
  },
  {
   "cell_type": "markdown",
   "id": "3fee79ab",
   "metadata": {},
   "source": [
    "## Car crashes"
   ]
  },
  {
   "cell_type": "code",
   "execution_count": 80,
   "id": "067d88e4",
   "metadata": {},
   "outputs": [
    {
     "name": "stdout",
     "output_type": "stream",
     "text": [
      "['Car crashed', 'crash', 'crash', 'crash', 'Crash']\n"
     ]
    }
   ],
   "source": [
    "car_accidents_key_words = [\n",
    "    'traffic crash', 'car accident', 'car crashed', 'truck crashed', 'crash', 'crashed'\n",
    "]\n",
    "\n",
    "CAR_ACCIDENT_KEY_WORDS_REGEX = construct_distinct_word_regex(car_accidents_key_words)\n",
    "\n",
    "s = \"\"\"Car crashed A Massachusetts State Police cruiser was involved in a multi-car crash on Route 128 in Needham late Sunday night. At least three vehicles \n",
    "were involved in the crash, officials said. It's not clear if anyone was injured in the crash, which remains under investigation Crash.\n",
    "\"\"\"\n",
    "print(CAR_ACCIDENT_KEY_WORDS_REGEX.findall(s))"
   ]
  },
  {
   "cell_type": "markdown",
   "id": "c63ccb6a",
   "metadata": {},
   "source": [
    "## Statistics"
   ]
  },
  {
   "cell_type": "code",
   "execution_count": 81,
   "id": "988265c2",
   "metadata": {},
   "outputs": [
    {
     "name": "stdout",
     "output_type": "stream",
     "text": [
      "{'annual', 'quarterly'}\n"
     ]
    }
   ],
   "source": [
    "statistics_key_words = [\n",
    "    'annual', 'quarterly', 'record number', 'statewide',\n",
    "    'theft prevention unit', 'based on provisional data', 'provisional data',\n",
    "    'arrests each year', 'annual death rates', 'homicide unit',\n",
    "    'spikes in shootings', 'spikes in', 'Police Department homicide',\n",
    "    'police robbery/homicide detectives', 'Motor vehicle theft is up',\n",
    "    'overall theft is up', 'Anti-Defamation League', 'lower crime index rate', 'crime index rate',\n",
    "    'lower property crime index', 'property crime index', '10-year average', 'violent index crimes',\n",
    "    'number of crimes per 1,000 people', 'number of crimes per 1000 people', 'number of crimes per',\n",
    "    'over 2 million kids aged 12 to 17 admitted to using drugs',\n",
    "    'one-in-10', 'one-in-10 female', 'alarming rate of carjackings',\n",
    "    'citing a rise in gun related crimes', 'crime trends',\n",
    "    'crime rate per', 'violent crime rose', 'According to the Institute for',\n",
    "    'in speed-related crashes', 'reported cases',\n",
    "    'reported in the same period this year', 'reported have decreased',\n",
    "    \n",
    "]\n",
    "\n",
    "STATS_KEY_WORDS_REGEX = construct_distinct_word_regex(statistics_key_words)\n",
    "\n",
    "s = \"\"\"\n",
    "The number of homicides in the United States continued to rise in the first three quarters of 2021, but at a slower pace, \n",
    "one year after   that followed  , according to the latest quarterly report published Monday by the Council on Criminal Justice.\n",
    "A study of homicides in 22 cities during the first nine months of this year showed the number of murders was 4% greater than \n",
    "the same period in 2020, with 126 more homicides between January and September, the report says. In the first three quarters of\n",
    "2020, the number of homicides in the same 22 cities rose by 36% over the same time frame in 2019, according to the report. According\n",
    "to a  , the number of homicides during the first half of 2021 increased by 16% compared to the same period last year. The number of\n",
    "homicides in 2020 compared to 2019 rose by 25%, according to an FBI preliminary report, the largest jump since the FBI started releasing\n",
    "annual homicide figures in the 1960s. The spike in violent crime came as the   swept across the country, millions of people protested \n",
    "racial injustice and police brutality following Floyd’s death last year, and the   under the weight of the pandemic. The homicide rate\n",
    "remained elevated through the summer before decreasing in the fall and winter and then increasing again in the spring and summer of \n",
    "this year, the report says\n",
    "\"\"\"\n",
    "\n",
    "print(set(STATS_KEY_WORDS_REGEX.findall(s)))"
   ]
  },
  {
   "cell_type": "code",
   "execution_count": 82,
   "id": "f52d4a07",
   "metadata": {},
   "outputs": [
    {
     "name": "stdout",
     "output_type": "stream",
     "text": [
      "'10-year average', 'According to the Institute for', 'Anti-Defamation League',\n",
      "'Motor vehicle theft is up', 'Police Department homicide', 'alarming rate of carjackings',\n",
      "'annual', 'annual death rates', 'arrests each year',\n",
      "'based on provisional data', 'citing a rise in gun related crimes', 'crime index rate',\n",
      "'crime rate per', 'crime trends', 'homicide unit',\n",
      "'in speed-related crashes', 'lower crime index rate', 'lower property crime index',\n",
      "'number of crimes per', 'number of crimes per 1,000 people', 'number of crimes per 1000 people',\n",
      "'one-in-10', 'one-in-10 female', 'over 2 million kids aged 12 to 17 admitted to using drugs',\n",
      "'overall theft is up', 'police robbery/homicide detectives', 'property crime index',\n",
      "'provisional data', 'quarterly', 'record number',\n",
      "'reported cases', 'reported have decreased', 'reported in the same period this year',\n",
      "'spikes in', 'spikes in shootings', 'statewide',\n",
      "'theft prevention unit', 'violent crime rose', 'violent index crimes',\n",
      "\n"
     ]
    }
   ],
   "source": [
    "pritty_print(statistics_key_words)"
   ]
  },
  {
   "cell_type": "markdown",
   "id": "09257fb6",
   "metadata": {},
   "source": [
    "## Gun policy"
   ]
  },
  {
   "cell_type": "code",
   "execution_count": 83,
   "id": "647fc51f",
   "metadata": {},
   "outputs": [
    {
     "name": "stdout",
     "output_type": "stream",
     "text": [
      "{'Uvalde shooting', 'gun measures', 'gun restrictions'}\n"
     ]
    }
   ],
   "source": [
    "gun_policy_key_words = [\n",
    "    'gun policy', 'gun measures', 'gun policy measures',\n",
    "    'gun restrictions', 'gun-related restrictions',\n",
    "    'gun control advocates', 'assault weapons ban', 'assault weapon ban',\n",
    "    'gun related restrictions', 'gun owners', 'requirements for carrying a handgun',\n",
    "    'gun control laws', 'gun control', 'concealed carry permit', 'concealed carry of a firearm'\n",
    "    'gun free zones', 'gun-free zones', 'tracking gun sales',\n",
    "    'signed a new gun bill', 'gun bill', 'million guns sold',\n",
    "    'gun sales went through the roof', 'anti-gun zealots',\n",
    "    'anti gun zealots', 'gun ownership', 'relationship between state gun ownership rates',\n",
    "    'gun haters', 'gun laws', 'semi-automatic weapon ban', 'anti-gun groups',\n",
    "    'stockpiling weapons', 'suspicious weapons sales',\n",
    "    'tracking large-scale firearms purchases', \n",
    "    'FOID card applications', 'regarding FOID card', 'Uvalde shooting',\n",
    "    'Uvalde highlights', 'law for concealed carry of a firearm',\n",
    "    'restrict guns', 'Uvalde slaughter', \n",
    "]\n",
    "\n",
    "GUN_POLICY_KEY_WORDS_REGEX = construct_distinct_word_regex(gun_policy_key_words)\n",
    "\n",
    "s = \"\"\"\n",
    "By Jennifer De Pinto, Fred Backus, Anthony Salvanto, Kabir Khanna, \\/ CBS News A month after the school shooting \n",
    "in , Texans are overwhelmingly critical of law enforcement's response to the shooting, and a majority feel \n",
    "it's important to investigate their response. Most Texans are concerned about another mass shooting. \n",
    "Texans rate Gov. Abbott's response to Uvalde more negatively than positively. Nearly half of Texans report \n",
    "that the Uvalde shooting has spurred them to support some gun restrictions, and there is support in Texas for \n",
    "some measures. In backing many potential gun measures, Texas looks much like the nation as a whole. We see \n",
    "bipartisan backing for measures like universal background checks and making the minimum age for buying an AR-15 \n",
    "at least 20 years old. But there are more partisan differences on policies focused on the guns themselves. \n",
    "Most Republicans oppose an AR-15 ban in Texas, and more than half oppose a red-flag law, in which a court \n",
    "can order the temporary removal of a gun from a person deemed to be a potential danger. More than half also \n",
    "disapprove of Abbott's overall job performance, but Abbott still leads Beto O'Rourke by eight points among likely \n",
    "voters in the race for governor. Senator John Cornyn is getting mixed marks from his own party on representing \n",
    "Texas' interests as it relates to guns, and this is dragging down Cornyn's overall job approval rating, which is j\n",
    "ust 35% among Texans overall. Almost nine in 10 Texans feel Uvalde law enforcement could have done more to stop the \n",
    "shooter. Criticism is widespread across demographic and political groups. Abbott gets negative marks from younger \n",
    "Texans, women and Black and Latino people for his handling of the Uvalde shooting. Majorities of both Democrats and \n",
    "independents think he's done a bad job, but most in his own party rate his response positively. About eight in 10 \n",
    "Texans are concerned about more mass shootings in Texas like the one in Uvalde, including almost half who are \n",
    "\\\"very concerned.\\\" Women express more concern than men do. Latino and Black people in Texas are more likely than \n",
    "White people to be very concerned about a mass shooting. For about half of Texans, the shooting at Robb elementary \n",
    "has made them more likely to support some gun restrictions. Democrats, whose party has long backed restrictions on \n",
    "guns, are particularly likely to say this, but they are joined by three in 10 Republicans who also say that the \n",
    "shooting has made them more inclined to favor some measures. Texans broadly support background checks and having a \n",
    "minimum age of at least 21. There is majority backing for a \\\"red flag\\\" law in Texas and a ban on the AR-15, \n",
    "but more division among Texans on these measures. Texans' views on these measures are in line with those of \n",
    "\"\"\"\n",
    "\n",
    "print(set(GUN_POLICY_KEY_WORDS_REGEX.findall(s)))"
   ]
  },
  {
   "cell_type": "code",
   "execution_count": 84,
   "id": "56e62b91",
   "metadata": {},
   "outputs": [
    {
     "name": "stdout",
     "output_type": "stream",
     "text": [
      "'FOID card applications', 'Uvalde highlights', 'Uvalde shooting',\n",
      "'Uvalde slaughter', 'anti gun zealots', 'anti-gun groups',\n",
      "'anti-gun zealots', 'assault weapon ban', 'assault weapons ban',\n",
      "'concealed carry of a firearmgun free zones', 'concealed carry permit', 'gun bill',\n",
      "'gun control', 'gun control advocates', 'gun control laws',\n",
      "'gun haters', 'gun laws', 'gun measures',\n",
      "'gun owners', 'gun ownership', 'gun policy',\n",
      "'gun policy measures', 'gun related restrictions', 'gun restrictions',\n",
      "'gun sales went through the roof', 'gun-free zones', 'gun-related restrictions',\n",
      "'law for concealed carry of a firearm', 'million guns sold', 'regarding FOID card',\n",
      "'relationship between state gun ownership rates', 'requirements for carrying a handgun', 'restrict guns',\n",
      "'semi-automatic weapon ban', 'signed a new gun bill', 'stockpiling weapons',\n",
      "'suspicious weapons sales', 'tracking gun sales', 'tracking large-scale firearms purchases',\n",
      "\n"
     ]
    }
   ],
   "source": [
    "pritty_print(gun_policy_key_words)"
   ]
  },
  {
   "cell_type": "markdown",
   "id": "b67f94e1",
   "metadata": {},
   "source": [
    "## Abortion-related news"
   ]
  },
  {
   "cell_type": "code",
   "execution_count": 85,
   "id": "d29357eb",
   "metadata": {},
   "outputs": [
    {
     "data": {
      "text/plain": [
       "{'pro-abortion'}"
      ]
     },
     "execution_count": 85,
     "metadata": {},
     "output_type": "execute_result"
    }
   ],
   "source": [
    "abortion_key_words = [\n",
    "    'pro-abortion', 'exceptions for instances of rape',\n",
    "    'state records provided an abortion', 'provided an abortion',\n",
    "    'abortion disclosure forms', 'abortion disclosure form',\n",
    "    \"state's new abortion law\", 'abortion law', 'abortion advocates',\n",
    "    'pro-abortion group', 'abortion ban', 'pro-life laws',\n",
    "    'pro-abortion propaganda', 'pro-life activist', 'abortion decision',\n",
    "    'outlaws abortion', 'abortion rights', 'right to an abortion',\n",
    "    'pro-life volunteer', 'law on abortion', 'bill banning abortion',\n",
    "    'right to abortion'\n",
    "]\n",
    "\n",
    "ABORTION_KEY_WORDS_REGEX = construct_distinct_word_regex(abortion_key_words)\n",
    "\n",
    "s = '''pro-abortion forces broke the bank to convince voters abortion extremism is normal. They failed.'''\n",
    "\n",
    "set(ABORTION_KEY_WORDS_REGEX.findall(s))"
   ]
  },
  {
   "cell_type": "code",
   "execution_count": 86,
   "id": "be78e96f",
   "metadata": {},
   "outputs": [
    {
     "name": "stdout",
     "output_type": "stream",
     "text": [
      "'abortion advocates', 'abortion ban', 'abortion decision',\n",
      "'abortion disclosure form', 'abortion disclosure forms', 'abortion law',\n",
      "'abortion rights', 'bill banning abortion', 'exceptions for instances of rape',\n",
      "'law on abortion', 'outlaws abortion', 'pro-abortion',\n",
      "'pro-abortion group', 'pro-abortion propaganda', 'pro-life activist',\n",
      "'pro-life laws', 'pro-life volunteer', 'provided an abortion',\n",
      "'right to abortion', 'right to an abortion', 'state records provided an abortion',\n",
      "'state's new abortion law'\n"
     ]
    }
   ],
   "source": [
    "pritty_print(abortion_key_words)"
   ]
  },
  {
   "cell_type": "markdown",
   "id": "b7786de6",
   "metadata": {},
   "source": [
    "## Politics related"
   ]
  },
  {
   "cell_type": "code",
   "execution_count": 87,
   "id": "f742cd3d",
   "metadata": {},
   "outputs": [
    {
     "data": {
      "text/plain": [
       "{'Biden administration'}"
      ]
     },
     "execution_count": 87,
     "metadata": {},
     "output_type": "execute_result"
    }
   ],
   "source": [
    "politics_key_words = [\n",
    "    'Biden administration', 'President Joe Biden', \"this year's election\",\n",
    "    'Democrat opponent', 'steps to stabilise economy', 'political weapon',\n",
    "    'stronger penalties', 'stronger penalty', 'signed House Bill',\n",
    "    'constitution was adopted', 'constitution specifies', 'constitutional convention',\n",
    "    'signed the bill into law', 'Amendment', 'voting laws', 'voting rights restored',\n",
    "    'municipal elections', 'gross domestic product', 'GDP', 'Republican Party',\n",
    "    'legislature', 'threats to public health', 'law aimed at',\n",
    "    'law aimed at cracking down on violent protests', \n",
    "    'signed a bill into law', 'Donald Trump', 'legislation',\n",
    "    'legislation would limit', 'property crimes bill', 'sponsored in the state Senate',\n",
    "    'Democratic Senator', 'US senators are asking President',\n",
    "    'Republican Senate candidate', 'President Donald Trump',\n",
    "    'Donald Trump', 'White Lives Matter', 'anti-mandate group',\n",
    "    'conspiracy theorists', 'House Bill', 'House Speaker', \n",
    "    'against protesters', 'several dozen demonstrators', 'protest in support of',\n",
    "    'hunger strike', 'anti-transgender healthcare protesters',\n",
    "    'anti-transgender protesters', 'Senator', 'Senate',\n",
    "    'mob invasion of the U.S. Capitol', 'U.S. Capitol', 'State Capitol',\n",
    "    'White House', 'President of the United States',\n",
    "    \n",
    "]\n",
    "\n",
    "POLITICS_KEY_WORDS_REGEX = construct_distinct_word_regex(politics_key_words)\n",
    "\n",
    "s = 'Biden administration warns of potential influx of migrants immediately after Title 42 ends'\n",
    "\n",
    "set(POLITICS_KEY_WORDS_REGEX.findall(s))"
   ]
  },
  {
   "cell_type": "code",
   "execution_count": 88,
   "id": "09d2289b",
   "metadata": {},
   "outputs": [
    {
     "name": "stdout",
     "output_type": "stream",
     "text": [
      "'Amendment', 'Biden administration', 'Democrat opponent',\n",
      "'Democratic Senator', 'Donald Trump', 'GDP',\n",
      "'House Bill', 'House Speaker', 'President Donald Trump',\n",
      "'President Joe Biden', 'President of the United States', 'Republican Party',\n",
      "'Republican Senate candidate', 'Senate', 'Senator',\n",
      "'State Capitol', 'U.S. Capitol', 'US senators are asking President',\n",
      "'White House', 'White Lives Matter', 'against protesters',\n",
      "'anti-mandate group', 'anti-transgender healthcare protesters', 'anti-transgender protesters',\n",
      "'conspiracy theorists', 'constitution specifies', 'constitution was adopted',\n",
      "'constitutional convention', 'gross domestic product', 'hunger strike',\n",
      "'law aimed at', 'law aimed at cracking down on violent protests', 'legislation',\n",
      "'legislation would limit', 'legislature', 'mob invasion of the U.S. Capitol',\n",
      "'municipal elections', 'political weapon', 'property crimes bill',\n",
      "'protest in support of', 'several dozen demonstrators', 'signed House Bill',\n",
      "'signed a bill into law', 'signed the bill into law', 'sponsored in the state Senate',\n",
      "'steps to stabilise economy', 'stronger penalties', 'stronger penalty',\n",
      "'this year's election', 'threats to public health', 'voting laws',\n",
      "'voting rights restored'\n"
     ]
    }
   ],
   "source": [
    "pritty_print(politics_key_words)"
   ]
  },
  {
   "cell_type": "markdown",
   "id": "ce8034c7",
   "metadata": {},
   "source": [
    "## Blaze-related news (not arson)"
   ]
  },
  {
   "cell_type": "code",
   "execution_count": 89,
   "id": "5ab1667b",
   "metadata": {},
   "outputs": [
    {
     "data": {
      "text/plain": [
       "{'brush fire', 'firefighters'}"
      ]
     },
     "execution_count": 89,
     "metadata": {},
     "output_type": "execute_result"
    }
   ],
   "source": [
    "blaze_key_words = [\n",
    "    'brush fire off', 'brush fire', 'wildland fire', 'wildfire',\n",
    "    'fire broke out', 'destructive wildfire', 'blaze', 'firefighters battled the fire',\n",
    "    'firefighters stop the spread', 'Firefighters', 'mopping up a burn area',\n",
    "    \n",
    "]\n",
    "\n",
    "BLAZE_KEY_WORDS_REGEX = construct_distinct_word_regex(blaze_key_words)\n",
    "\n",
    "s = '''\n",
    "A brush fire in Deerfield was likely sparked by what a homeowner thought was extinguished coals, the Fire Department said Saturday. \n",
    "Crews responded to Upper Road for a fire around noon on Sunday. A neighbor initially made the call after seeing smoke and flames \n",
    "in the side yard of a nearby house, firefighters said.\n",
    "'''\n",
    "\n",
    "set(BLAZE_KEY_WORDS_REGEX.findall(s))"
   ]
  },
  {
   "cell_type": "code",
   "execution_count": 90,
   "id": "91212f63",
   "metadata": {},
   "outputs": [
    {
     "name": "stdout",
     "output_type": "stream",
     "text": [
      "'Firefighters', 'blaze', 'brush fire',\n",
      "'brush fire off', 'destructive wildfire', 'fire broke out',\n",
      "'firefighters battled the fire', 'firefighters stop the spread', 'mopping up a burn area',\n",
      "'wildfire', 'wildland fire'\n"
     ]
    }
   ],
   "source": [
    "pritty_print(blaze_key_words)"
   ]
  },
  {
   "cell_type": "markdown",
   "id": "02c3ce82",
   "metadata": {},
   "source": [
    "## Film-related news"
   ]
  },
  {
   "cell_type": "code",
   "execution_count": 91,
   "id": "d8289efc",
   "metadata": {},
   "outputs": [
    {
     "data": {
      "text/plain": [
       "{'Star As'}"
      ]
     },
     "execution_count": 91,
     "metadata": {},
     "output_type": "execute_result"
    }
   ],
   "source": [
    "film_key_words = [\n",
    "    'actor was shooting', 'tops the Netflix chart', 'tops chart',\n",
    "    'tops the chart', 'star in the film', 'starred in the film',\n",
    "    'starred in film', 'star in film', 'Jeffrey Dahmer',\n",
    "    \"Netflix's\", 'Netflix', 'starring', 'star as', 'Focused completely on real events',\n",
    "    'trailers for', 'based on real events', 'science-fiction', \n",
    "    'horror genre', 'horror movies',\n",
    "    'drama', 'first premiered in', 'scene had to be shot with',\n",
    "    'streaming service', 'docuseries', 'Film Festival', 'anime series', \n",
    "    'DC Comics', 'rehearsal', 'live shot', 'shooting for her Hollywood debut film',\n",
    "    'debut film', 'shooting for film', 'stole the show at the premiere',\n",
    "    'stole the show', 'at the premiere', 'film revolves around',\n",
    "    'hit the full interview above', 'album of songs', 'Vogue article',\n",
    "    'showbiz gossip', 'speaking on a podcast', \n",
    "]\n",
    "\n",
    "FILM_KEY_WORDS_REGEX = construct_distinct_word_regex(film_key_words)\n",
    "\n",
    "s = 'Watch Margot Robbie Star As Barbie in first trailer for Greta Gerwig adaptation'\n",
    "\n",
    "set(FILM_KEY_WORDS_REGEX.findall(s))"
   ]
  },
  {
   "cell_type": "code",
   "execution_count": 92,
   "id": "40232b06",
   "metadata": {},
   "outputs": [
    {
     "name": "stdout",
     "output_type": "stream",
     "text": [
      "'DC Comics', 'Film Festival', 'Focused completely on real events',\n",
      "'Jeffrey Dahmer', 'Netflix', 'Netflix's',\n",
      "'Vogue article', 'actor was shooting', 'album of songs',\n",
      "'anime series', 'at the premiere', 'based on real events',\n",
      "'debut film', 'docuseries', 'drama',\n",
      "'film revolves around', 'first premiered in', 'hit the full interview above',\n",
      "'horror genre', 'horror movies', 'live shot',\n",
      "'rehearsal', 'scene had to be shot with', 'science-fiction',\n",
      "'shooting for film', 'shooting for her Hollywood debut film', 'showbiz gossip',\n",
      "'speaking on a podcast', 'star as', 'star in film',\n",
      "'star in the film', 'starred in film', 'starred in the film',\n",
      "'starring', 'stole the show', 'stole the show at the premiere',\n",
      "'streaming service', 'tops chart', 'tops the Netflix chart',\n",
      "'tops the chart', 'trailers for'\n"
     ]
    }
   ],
   "source": [
    "pritty_print(film_key_words)"
   ]
  },
  {
   "cell_type": "markdown",
   "id": "7b3781ce",
   "metadata": {},
   "source": [
    "## Weather related news"
   ]
  },
  {
   "cell_type": "code",
   "execution_count": 93,
   "id": "70832aa8",
   "metadata": {},
   "outputs": [
    {
     "name": "stdout",
     "output_type": "stream",
     "text": [
      "{'Tornado warning'}\n"
     ]
    }
   ],
   "source": [
    "weather_key_words = [\n",
    "    'tracking a chance of storms', 'tracking closures',\n",
    "    'Mostly clear and cool with lows falling into the lower',\n",
    "    'Mostly clear and cool', 'Mostly sunny with increasing clouds by late afternoon',\n",
    "    'Mostly sunny', 'increasing clouds', 'weekend starts off warm',\n",
    "    'tracking low pressure to our east', 'storm tracking',\n",
    "    'tornado warnings expired', 'tornado warnings', 'tornado warning',\n",
    "    'storm survey', 'severe winds', 'severe weather', \n",
    "    'possibility of a tornado', 'hazardous air quality',\n",
    "]\n",
    "\n",
    "WEATHER_KEY_WORDS_REGEX = construct_distinct_word_regex(weather_key_words)\n",
    "\n",
    "s = \"\"\"\n",
    "The National Weather Service in Jackson has issued a Tornado warning until 2:45 p.m. Wednesday:\n",
    "\n",
    "Northern Forrest County in southeastern Mississippi\n",
    "Northeastern Lamar County in southeastern Mississippi\n",
    "Jones County in southeastern Mississippi\n",
    "“At 1:43 p.m. CST, a severe thunderstorm capable of producing a tornado was located over Hattiesburg, moving northeast at 45 mph,” the NWS said.\n",
    "\"\"\"\n",
    "\n",
    "print(set(WEATHER_KEY_WORDS_REGEX.findall(s)))"
   ]
  },
  {
   "cell_type": "code",
   "execution_count": 94,
   "id": "3f7c3021",
   "metadata": {},
   "outputs": [
    {
     "name": "stdout",
     "output_type": "stream",
     "text": [
      "'Mostly clear and cool', 'Mostly clear and cool with lows falling into the lower', 'Mostly sunny',\n",
      "'Mostly sunny with increasing clouds by late afternoon', 'hazardous air quality', 'increasing clouds',\n",
      "'possibility of a tornado', 'severe weather', 'severe winds',\n",
      "'storm survey', 'storm tracking', 'tornado warning',\n",
      "'tornado warnings', 'tornado warnings expired', 'tracking a chance of storms',\n",
      "'tracking closures', 'tracking low pressure to our east', 'weekend starts off warm',\n",
      "\n"
     ]
    }
   ],
   "source": [
    "pritty_print(weather_key_words)"
   ]
  },
  {
   "cell_type": "markdown",
   "id": "7c7b5244",
   "metadata": {},
   "source": [
    "## COVID-19 related news"
   ]
  },
  {
   "cell_type": "code",
   "execution_count": 95,
   "id": "4d938798",
   "metadata": {},
   "outputs": [
    {
     "name": "stdout",
     "output_type": "stream",
     "text": [
      "{'Covid vaccines'}\n"
     ]
    }
   ],
   "source": [
    "covid_key_words = [\n",
    "    'COVID-19 booster shots', 'COVID-19 shots', 'COVID-19 struck',\n",
    "    'COVID-19 cases',\n",
    "    'Pfizer shots', 'Pfizer shot', 'shots from Moderna and Pfizer',\n",
    "    'tracking Covid-19', 'shots for those under five',\n",
    "    'shots for under five', 'offering shots to children',\n",
    "    'eligible for the shots', 'vaccine is safe', 'COVID-19 vaccines for children',\n",
    "    'Covid vaccines', 'Anti-vaccination', \n",
    "    'booster shot', 'booster shots', 'COVID-19 booster',\n",
    "    'primary shots plus a booster', 'primary shots',\n",
    "    'flu shot', 'flu shots', \n",
    "]\n",
    "\n",
    "COVID_KEY_WORDS_REGEX = construct_distinct_word_regex(covid_key_words)\n",
    "\n",
    "s = \"\"\"\n",
    "Omicron BF.7: Is mixing Covid vaccines more effective against the new subvariant? What experts say\n",
    "\"\"\"\n",
    "\n",
    "print(set(COVID_KEY_WORDS_REGEX.findall(s)))"
   ]
  },
  {
   "cell_type": "code",
   "execution_count": 96,
   "id": "ee8e874e",
   "metadata": {},
   "outputs": [
    {
     "name": "stdout",
     "output_type": "stream",
     "text": [
      "'Anti-vaccination', 'COVID-19 booster', 'COVID-19 booster shots',\n",
      "'COVID-19 cases', 'COVID-19 shots', 'COVID-19 struck',\n",
      "'COVID-19 vaccines for children', 'Covid vaccines', 'Pfizer shot',\n",
      "'Pfizer shots', 'booster shot', 'booster shots',\n",
      "'eligible for the shots', 'flu shot', 'flu shots',\n",
      "'offering shots to children', 'primary shots', 'primary shots plus a booster',\n",
      "'shots for those under five', 'shots for under five', 'shots from Moderna and Pfizer',\n",
      "'tracking Covid-19', 'vaccine is safe'\n"
     ]
    }
   ],
   "source": [
    "pritty_print(covid_key_words)"
   ]
  },
  {
   "cell_type": "markdown",
   "id": "e3c5e84f",
   "metadata": {},
   "source": [
    "## Other non-relevant news"
   ]
  },
  {
   "cell_type": "code",
   "execution_count": 97,
   "id": "2224f830",
   "metadata": {
    "scrolled": true
   },
   "outputs": [
    {
     "name": "stdout",
     "output_type": "stream",
     "text": [
      "{'injured in a shark attack'}\n"
     ]
    }
   ],
   "source": [
    "other_key_words = [\n",
    "    'injured in a shark attack',\n",
    "    'radio tracking collar',\n",
    "    'coins struck', 'struck a panic', 'struck panic', '9/11 videos',\n",
    "    '9/11 attacks', \n",
    "    'army closed areas', 'honors a fallen officer', 'honors officer',\n",
    "    'irrigation efforts', 'turned to drugs', 'steel intrusion plates',\n",
    "    'intrusion plates', 'attacked by a large shark', 'flag known patterns of suspicious activity',\n",
    "    'month investigation of the case', 'non-emergency lockdown',\n",
    "    'victims and heroes of the 9/11 terrorist attacks', '9/11 attacks', \n",
    "    'cut pharmacy robberies', 'time delay safes', 'Coalition Against Sexual Assault',\n",
    "    'guide for combating bullying', 'twin towers in New York City',\n",
    "    'September 11th, 2001', 'go up against in the upper bracket final',\n",
    "    'upper bracket final', 'carrying his squad to victory',\n",
    "    'winning a round', 'hit match point', 'PETA supporters', \n",
    "    'Today we solemnly remember the lives', 'Ground Zero',\n",
    "    'mourned the victims', 'fight for a livable wage', 'safer working conditions',\n",
    "    'right to form a union', 'active shooter training session',\n",
    "    'All fireworks are illegal', 'fireworks use', 'Department of Transportation',\n",
    "    'project was compiled into a book titled', 'amoeba', 'gored by a bison',\n",
    "    'offering their condolences', 'Rest in peace', 'in our thoughts and prayers',\n",
    "    'UFC', 'years since the attack', 'Flowers and a message left in memory of the victims',\n",
    "    'in memory of the victims', 'realistic combat scenarios for pilots',\n",
    "    'advanced aerial tactics', 'air combat training',\n",
    "    'On this day in history', 'September 11, 2001', 'prevent fake reports of emergencies',\n",
    "    \n",
    "]\n",
    "\n",
    "OTHER_KEY_WORDS_REGEX = construct_distinct_word_regex(other_key_words)\n",
    "\n",
    "s = \"\"\"\n",
    "Omicron Boosters: 9 Questions Answered About the Updated COVID-19 Shots injured in a shark attack\n",
    "\"\"\"\n",
    "\n",
    "print(set(OTHER_KEY_WORDS_REGEX.findall(s)))"
   ]
  },
  {
   "cell_type": "code",
   "execution_count": 98,
   "id": "f4bc95a4",
   "metadata": {},
   "outputs": [
    {
     "name": "stdout",
     "output_type": "stream",
     "text": [
      "'9/11 attacks', '9/11 videos', 'All fireworks are illegal',\n",
      "'Coalition Against Sexual Assault', 'Department of Transportation', 'Flowers and a message left in memory of the victims',\n",
      "'Ground Zero', 'On this day in history', 'PETA supporters',\n",
      "'Rest in peace', 'September 11, 2001', 'September 11th, 2001',\n",
      "'Today we solemnly remember the lives', 'UFC', 'active shooter training session',\n",
      "'advanced aerial tactics', 'air combat training', 'amoeba',\n",
      "'army closed areas', 'attacked by a large shark', 'carrying his squad to victory',\n",
      "'coins struck', 'cut pharmacy robberies', 'fight for a livable wage',\n",
      "'fireworks use', 'flag known patterns of suspicious activity', 'go up against in the upper bracket final',\n",
      "'gored by a bison', 'guide for combating bullying', 'hit match point',\n",
      "'honors a fallen officer', 'honors officer', 'in memory of the victims',\n",
      "'in our thoughts and prayers', 'injured in a shark attack', 'intrusion plates',\n",
      "'irrigation efforts', 'month investigation of the case', 'mourned the victims',\n",
      "'non-emergency lockdown', 'offering their condolences', 'prevent fake reports of emergencies',\n",
      "'project was compiled into a book titled', 'radio tracking collar', 'realistic combat scenarios for pilots',\n",
      "'right to form a union', 'safer working conditions', 'steel intrusion plates',\n",
      "'struck a panic', 'struck panic', 'time delay safes',\n",
      "'turned to drugs', 'twin towers in New York City', 'upper bracket final',\n",
      "'victims and heroes of the 9/11 terrorist attacks', 'winning a round', 'years since the attack',\n",
      "\n"
     ]
    }
   ],
   "source": [
    "pritty_print(other_key_words)"
   ]
  },
  {
   "cell_type": "code",
   "execution_count": 99,
   "id": "8188e040",
   "metadata": {},
   "outputs": [
    {
     "data": {
      "text/html": [
       "<div>\n",
       "<style scoped>\n",
       "    .dataframe tbody tr th:only-of-type {\n",
       "        vertical-align: middle;\n",
       "    }\n",
       "\n",
       "    .dataframe tbody tr th {\n",
       "        vertical-align: top;\n",
       "    }\n",
       "\n",
       "    .dataframe thead th {\n",
       "        text-align: right;\n",
       "    }\n",
       "</style>\n",
       "<table border=\"1\" class=\"dataframe\">\n",
       "  <thead>\n",
       "    <tr style=\"text-align: right;\">\n",
       "      <th></th>\n",
       "      <th>cleaned_body</th>\n",
       "      <th>paragraphs_nwords</th>\n",
       "    </tr>\n",
       "  </thead>\n",
       "  <tbody>\n",
       "    <tr>\n",
       "      <th>0</th>\n",
       "      <td>By Jennifer De Pinto, Fred Backus, Anthony Sal...</td>\n",
       "      <td>781.0</td>\n",
       "    </tr>\n",
       "    <tr>\n",
       "      <th>1</th>\n",
       "      <td>(ENCINAL, Texas) -- Four people were killed an...</td>\n",
       "      <td>107.0</td>\n",
       "    </tr>\n",
       "    <tr>\n",
       "      <th>2</th>\n",
       "      <td>On Wednesday, June 29, at 1:09 a.m, officers r...</td>\n",
       "      <td>430.0</td>\n",
       "    </tr>\n",
       "    <tr>\n",
       "      <th>3</th>\n",
       "      <td>Sonny Barger, the leather-clad figurehead of t...</td>\n",
       "      <td>650.0</td>\n",
       "    </tr>\n",
       "    <tr>\n",
       "      <th>4</th>\n",
       "      <td>If she's not cheffing it up in her Apartment M...</td>\n",
       "      <td>1313.0</td>\n",
       "    </tr>\n",
       "  </tbody>\n",
       "</table>\n",
       "</div>"
      ],
      "text/plain": [
       "                                        cleaned_body  paragraphs_nwords\n",
       "0  By Jennifer De Pinto, Fred Backus, Anthony Sal...              781.0\n",
       "1  (ENCINAL, Texas) -- Four people were killed an...              107.0\n",
       "2  On Wednesday, June 29, at 1:09 a.m, officers r...              430.0\n",
       "3  Sonny Barger, the leather-clad figurehead of t...              650.0\n",
       "4  If she's not cheffing it up in her Apartment M...             1313.0"
      ]
     },
     "execution_count": 99,
     "metadata": {},
     "output_type": "execute_result"
    }
   ],
   "source": [
    "prelabeled_df = pd.DataFrame(news_df[['cleaned_body', 'paragraphs_nwords']].dropna())\n",
    "prelabeled_df.head()"
   ]
  },
  {
   "cell_type": "code",
   "execution_count": 100,
   "id": "9c15b8dd",
   "metadata": {},
   "outputs": [
    {
     "data": {
      "text/plain": [
       "(49309, 2)"
      ]
     },
     "execution_count": 100,
     "metadata": {},
     "output_type": "execute_result"
    }
   ],
   "source": [
    "prelabeled_df.shape"
   ]
  },
  {
   "cell_type": "code",
   "execution_count": 101,
   "id": "b7313b7d",
   "metadata": {},
   "outputs": [
    {
     "ename": "NameError",
     "evalue": "name 'q' is not defined",
     "output_type": "error",
     "traceback": [
      "\u001b[1;31m---------------------------------------------------------------------------\u001b[0m",
      "\u001b[1;31mNameError\u001b[0m                                 Traceback (most recent call last)",
      "\u001b[1;32m~\\AppData\\Local\\Temp/ipykernel_10736/2044696608.py\u001b[0m in \u001b[0;36m<module>\u001b[1;34m\u001b[0m\n\u001b[1;32m----> 1\u001b[1;33m \u001b[0mq\u001b[0m\u001b[1;33m\u001b[0m\u001b[1;33m\u001b[0m\u001b[0m\n\u001b[0m",
      "\u001b[1;31mNameError\u001b[0m: name 'q' is not defined"
     ]
    }
   ],
   "source": [
    "q"
   ]
  },
  {
   "cell_type": "markdown",
   "id": "450379cf",
   "metadata": {},
   "source": [
    "# Regex prelabeling"
   ]
  },
  {
   "cell_type": "code",
   "execution_count": null,
   "id": "e9464939",
   "metadata": {
    "scrolled": true
   },
   "outputs": [],
   "source": [
    "relevant_cols = [\n",
    "    'is_harassment', 'is_theft',\n",
    "    'is_robbery', 'is_auto_theft',\n",
    "    'is_assault', 'is_exortion',\n",
    "    'is_kidnapping', 'is_sex_offences',\n",
    "    'is_vandalism', 'is_trafficking_illegalgoods',\n",
    "    'is_fraud', 'is_organised_crime',\n",
    "    'is_homicide', 'is_terrorist_threats',\n",
    "    'is_diturbance', 'is_suspicious_activity',\n",
    "    'is_domestic_offences', 'is_drugalcohol_violations',\n",
    "    'is_traffic_violations', 'is_trespassing',\n",
    "    'is_weapon_violations'\n",
    "]\n",
    "\n",
    "relevant_regexs = [\n",
    "    HARASSMENT_KEY_WORDS_REGEX, THEFT_KEY_WORDS_REGEX,\n",
    "    ROBBERY_KEY_WORDS_REGEX, AUTO_THEFT_KEY_WORDS_REGEX,\n",
    "    ASSAULT_KEY_WORDS_REGEX, EXTORTION_KEY_WORDS_REGEX,\n",
    "    KIDNAPING_KEY_WORD_REGEX, SEX_OFFENCES_KEY_WORD_REGEX,\n",
    "    VANDALISM_KEY_WORDS_REGEX, TRAFFICKING_ILLEGAL_GOODS_REGEX,\n",
    "    FRAUD_KEY_WORDS_REGEX, ORGANISED_CRIME_KEY_WORDS_REGEX,\n",
    "    HOMICIDE_KEY_WORDS_REGEX, TERRORIST_THREATS_KEY_WORDS_REGEX,\n",
    "    DISTURBANCE_KEY_WORDS_REGEX, SUSPICIOUS_ACTIVITY_KEY_WORDS_REGEX,\n",
    "    DOMESTIC_OFFENCES_KEY_WORDS_REGEX, DRUG_ALCOHOL_KEY_WORDS_REGEX,\n",
    "    TRAFFIC_VIOLATIONS_KEY_WORDS_REGEX, TRESPASSING_KEY_WORDS_REGEX,\n",
    "    WEAPON_VIOLATIONS_KEY_WORDS_REGEX\n",
    "]\n",
    "\n",
    "for col, regex in zip(relevant_cols, relevant_regexs):\n",
    "    \n",
    "    col_name = (col.split('_')[1] if len(col.split('_')) == 2 else '_'.join(col.split('_')[1:])) + '_keywords_body'\n",
    "    prelabeled_df[col_name] = prelabeled_df['cleaned_body'].str.lower().apply(lambda x: re.sub(PUNCTUATION_REGEX, \" \", x) if isinstance(x, str) else x)\n",
    "    prelabeled_df[col_name] = prelabeled_df[col_name].apply(regex.findall)\n",
    "    prelabeled_df[col_name] = prelabeled_df[col_name].apply(lambda x: [x.strip() for x in sorted(set(x))])\n",
    "    \n",
    "    prelabeled_df[col] = 0\n",
    "    prelabeled_df.loc[prelabeled_df[col_name].astype(str) != '[]', col] = 1\n",
    "    #prelabeled_df[col] = prelabeled_df[col].astype(int)\n",
    "    \n",
    "    print(prelabeled_df[col].value_counts().head())\n",
    "    print(prelabeled_df[col_name].astype(str).value_counts().head(5))\n",
    "    print('\\n'+'-'*30+'\\n')"
   ]
  },
  {
   "cell_type": "code",
   "execution_count": null,
   "id": "18900665",
   "metadata": {
    "scrolled": true
   },
   "outputs": [],
   "source": [
    "non_relevant_cols = [\n",
    "    'is_trial',\n",
    "    'is_car_accident',\n",
    "    'is_stats_news',\n",
    "    'is_gun_policy_news',\n",
    "    'is_abortion_news',\n",
    "    'is_politics_news',\n",
    "    'is_blaze_news',\n",
    "    'is_film_news',\n",
    "    'is_weather_news',\n",
    "    'is_covid_news',\n",
    "    'is_other',\n",
    "]\n",
    "\n",
    "non_relevant_regexs = [\n",
    "    TRIAL_KEY_WORDS_REGEX,\n",
    "    CAR_ACCIDENT_KEY_WORDS_REGEX,\n",
    "    STATS_KEY_WORDS_REGEX,\n",
    "    GUN_POLICY_KEY_WORDS_REGEX,\n",
    "    ABORTION_KEY_WORDS_REGEX,\n",
    "    POLITICS_KEY_WORDS_REGEX,\n",
    "    BLAZE_KEY_WORDS_REGEX,\n",
    "    FILM_KEY_WORDS_REGEX,\n",
    "    WEATHER_KEY_WORDS_REGEX,\n",
    "    COVID_KEY_WORDS_REGEX,\n",
    "    OTHER_KEY_WORDS_REGEX\n",
    "]\n",
    "\n",
    "for col, regex in zip(non_relevant_cols, non_relevant_regexs):\n",
    "    \n",
    "    col_name = (col.split('_')[1] if len(col.split('_')) == 2 else '_'.join(col.split('_')[1:])) + '_keywords_body'\n",
    "    prelabeled_df[col_name] = prelabeled_df['cleaned_body'].str.lower().apply(lambda x: re.sub(PUNCTUATION_REGEX, \" \", x) if isinstance(x, str) else x)\n",
    "    prelabeled_df[col_name] = prelabeled_df[col_name].apply(regex.findall)\n",
    "    prelabeled_df[col_name] = prelabeled_df[col_name].apply(lambda x: [x.strip() for x in sorted(set(x))])\n",
    "    \n",
    "    prelabeled_df[col] = 0\n",
    "    prelabeled_df.loc[prelabeled_df[col_name].astype(str) != '[]', col] = 1\n",
    "    prelabeled_df[col] = prelabeled_df[col].astype(int)\n",
    "    \n",
    "    print(prelabeled_df[col].value_counts().head())\n",
    "    print(prelabeled_df[col_name].astype(str).value_counts().head(5))\n",
    "    print('\\n'+'-'*30+'\\n')"
   ]
  },
  {
   "cell_type": "code",
   "execution_count": null,
   "id": "6092528a",
   "metadata": {},
   "outputs": [],
   "source": [
    "prelabeled_df[non_relevant_cols].apply(any, axis=1).astype(int).value_counts()"
   ]
  },
  {
   "cell_type": "code",
   "execution_count": null,
   "id": "ccb8fa02",
   "metadata": {},
   "outputs": [],
   "source": [
    "prelabeled_df['relevant_pred'] = prelabeled_df[relevant_cols].apply(any, axis=1).astype(int)\n",
    "prelabeled_df['not-relevant_pred'] = prelabeled_df[non_relevant_cols].apply(any, axis=1).astype(int)\n",
    "\n",
    "#mask = (prelabeled_df['relevant_pred'] == 1) & (prelabeled_df['not-relevant_pred'] == 1)\n",
    "#mask.sum()\n",
    "\n",
    "grouped = prelabeled_df.groupby(by=['relevant_pred', 'not-relevant_pred'], as_index=False)\n",
    "#grouped_count = grouped_count[['relevant_pred', 'not-relevant_pred', 'cleaned_body']].rename(columns={'cleaned_body': 'count'})\n",
    "grouped_count = grouped.agg({'cleaned_body': 'count', 'paragraphs_nwords': ['mean', 'median']})\n",
    "#grouped_count[('cleaned_body', 'count_normalised')] = np.round(100 * grouped_count['cleaned_body'] / grouped_count['cleaned_body'].sum(), 4)\n",
    "#grouped_count.columns = grouped_count.columns.sort_values()\n",
    "grouped_count"
   ]
  },
  {
   "cell_type": "code",
   "execution_count": null,
   "id": "ebf0db9e",
   "metadata": {},
   "outputs": [],
   "source": [
    "def categorize(x):\n",
    "    if np.array_equal(x[['relevant_pred', 'not-relevant_pred']], [1, 1]):\n",
    "        return (1, 1)\n",
    "    if np.array_equal(x[['relevant_pred', 'not-relevant_pred']], [1, 0]):\n",
    "        return (1, 0)\n",
    "    if np.array_equal(x[['relevant_pred', 'not-relevant_pred']], [0, 1]):\n",
    "        return (0, 1)\n",
    "    return (0, 0)\n",
    "\n",
    "prelabeled_df['category'] = prelabeled_df.apply(categorize, axis=1)"
   ]
  },
  {
   "cell_type": "code",
   "execution_count": null,
   "id": "253477e6",
   "metadata": {},
   "outputs": [],
   "source": [
    "sns.kdeplot(data=prelabeled_df, x='paragraphs_nwords', hue='category')"
   ]
  },
  {
   "cell_type": "markdown",
   "id": "15a39f39",
   "metadata": {},
   "source": [
    "## Sample news for labeling"
   ]
  },
  {
   "cell_type": "code",
   "execution_count": null,
   "id": "7cd3cad0",
   "metadata": {},
   "outputs": [],
   "source": [
    "q"
   ]
  },
  {
   "cell_type": "code",
   "execution_count": null,
   "id": "506857a4",
   "metadata": {},
   "outputs": [],
   "source": [
    "# this cell is for sampling news grouped by having and not having relevent/not-relevant key words\n",
    "\n",
    "grouped_df = prelabeled_df.groupby(by=['relevant_pred', 'not-relevant_pred'], as_index=False)\n",
    "groups = [(0, 1), ]\n",
    "\n",
    "sample_df = pd.Series()\n",
    "\n",
    "for group in groups:\n",
    "    s = grouped_df.get_group(group)#.sample(n=100, random_state=SEED)['cleaned_body']\n",
    "    s['nword_bin'] = pd.qcut(s['paragraphs_nwords'], q = 10)\n",
    "    s = s.groupby(by='nword_bin', group_keys=False).apply(lambda x: x.sample(n=5, random_state=SEED))['cleaned_body']\n",
    "    sample_df = pd.concat([sample_df, s])\n",
    "    \n",
    "sample_df = pd.DataFrame(sample_df, columns=['text'])\n",
    "sample_df = sample_df.sort_values(by='text', key=lambda x: x.apply(len))\n",
    "\n",
    "print(sample_df.head())\n",
    "print(sample_df.shape)"
   ]
  },
  {
   "cell_type": "code",
   "execution_count": null,
   "id": "bd6d151e",
   "metadata": {},
   "outputs": [],
   "source": [
    "# this cell is for sampling news for labeling with specific key words\n",
    "q\n",
    "\n",
    "cols_to_sample = [\n",
    "    'is_fraud', 'is_exortion', 'is_trafficking_illegalgoods',\n",
    "    'is_terrorist_threats', 'is_organised_crime', 'is_trespassing',\n",
    "    'is_suspicious_activity', 'is_vandalism',\n",
    "    'is_drugalcohol_violations', 'is_traffic_violations',\n",
    "    'is_auto_theft',\n",
    "    ######\n",
    "    'is_film_news', 'is_politics_news', 'is_abortion_news',\n",
    "    'is_gun_policy_news', 'is_stats_news', 'is_other', 'is_blaze_news'\n",
    "]\n",
    "\n",
    "sample_df = pd.Series()\n",
    "\n",
    "for col in cols_to_sample:\n",
    "    s = prelabeled_df[prelabeled_df[col] == 1].sample(n=5, random_state=SEED+1)['cleaned_body']\n",
    "    sample_df = pd.concat([sample_df, s])\n",
    "    \n",
    "sample_df = pd.DataFrame(sample_df, columns=['text'])\n",
    "sample_df = sample_df.sort_values(by='text', key=lambda x: x.apply(len))\n",
    "sample_df.head()"
   ]
  },
  {
   "cell_type": "code",
   "execution_count": null,
   "id": "4e8bdd14",
   "metadata": {},
   "outputs": [],
   "source": [
    "# this cell is for sampling from all columns equal number of samples\n",
    "q\n",
    "\n",
    "sample_df = pd.Series()\n",
    "\n",
    "for col in relevant_cols + non_relevant_cols:\n",
    "    s = prelabeled_df[prelabeled_df[col] == 1].sample(n=10, random_state=SEED)['cleaned_body']\n",
    "    sample_df = pd.concat([sample_df, s])\n",
    "    \n",
    "sample_df = pd.DataFrame(sample_df, columns=['text'])\n",
    "sample_df = sample_df.sort_values(by='text', key=lambda x: x.apply(len))\n",
    "sample_df.head()"
   ]
  },
  {
   "cell_type": "code",
   "execution_count": null,
   "id": "2ea1cf15",
   "metadata": {},
   "outputs": [],
   "source": [
    "suffix = '_not_relevant_key_words'\n",
    "\n",
    "fpath = os.path.join(PATH_TO_DATA_ROOT_DIR, fr'data_providers\\gdelt\\scraped_news\\level_0_filter_data{suffix}.jsonl')\n",
    "sample_df.to_json(fpath, orient='records', lines=True)"
   ]
  },
  {
   "cell_type": "markdown",
   "id": "c111ec55",
   "metadata": {},
   "source": [
    "# Create patterns"
   ]
  },
  {
   "cell_type": "code",
   "execution_count": 102,
   "id": "d76d2231",
   "metadata": {},
   "outputs": [
    {
     "name": "stdout",
     "output_type": "stream",
     "text": [
      "9/11 False 9/11\n",
      "attack True attack\n",
      "shop True shop\n",
      "- False -\n",
      "lifting True lifting\n",
      "Nazar True nazar\n",
      "'s False 's\n",
      "sister True sister\n"
     ]
    }
   ],
   "source": [
    "nlp = spacy.blank('en')\n",
    "doc = nlp(\"9/11 attack shop-lifting Nazar's sister\")\n",
    "\n",
    "for t in doc:\n",
    "    print(t, t.is_alpha, t.lower_)"
   ]
  },
  {
   "cell_type": "code",
   "execution_count": 116,
   "id": "872c9012",
   "metadata": {},
   "outputs": [],
   "source": [
    "test_patterns = create_prodigy_patterns(theft_key_words+other_key_words+weapon_violations_key_words, label=\"RELEVANT\")\n",
    "with open(os.path.join(PATH_TO_PATTERNS, 'test-patterns.jsonl'), 'w') as file:\n",
    "    file.write(test_patterns)"
   ]
  },
  {
   "cell_type": "code",
   "execution_count": 117,
   "id": "d86d6ba3",
   "metadata": {},
   "outputs": [
    {
     "data": {
      "text/html": [
       "<span class=\"tex2jax_ignore\"><div class=\"entities\" style=\"line-height: 2.5; direction: ltr\">\n",
       "<mark class=\"entity\" style=\"background: #ddd; padding: 0.45em 0.6em; margin: 0 0.25em; line-height: 1; border-radius: 0.35em;\">\n",
       "    Shop-lifting\n",
       "    <span style=\"font-size: 0.8em; font-weight: bold; line-height: 1; border-radius: 0.35em; vertical-align: middle; margin-left: 0.5rem\">RELEVANT</span>\n",
       "</mark>\n",
       " goes up during \n",
       "<mark class=\"entity\" style=\"background: #ddd; padding: 0.45em 0.6em; margin: 0 0.25em; line-height: 1; border-radius: 0.35em;\">\n",
       "    9/11 attacks\n",
       "    <span style=\"font-size: 0.8em; font-weight: bold; line-height: 1; border-radius: 0.35em; vertical-align: middle; margin-left: 0.5rem\">RELEVANT</span>\n",
       "</mark>\n",
       " and lot of \n",
       "<mark class=\"entity\" style=\"background: #ddd; padding: 0.45em 0.6em; margin: 0 0.25em; line-height: 1; border-radius: 0.35em;\">\n",
       "    firearm's serial number was obliterated\n",
       "    <span style=\"font-size: 0.8em; font-weight: bold; line-height: 1; border-radius: 0.35em; vertical-align: middle; margin-left: 0.5rem\">RELEVANT</span>\n",
       "</mark>\n",
       "</div></span>"
      ],
      "text/plain": [
       "<IPython.core.display.HTML object>"
      ]
     },
     "metadata": {},
     "output_type": "display_data"
    }
   ],
   "source": [
    "nlp = spacy.blank('en')\n",
    "new_ruler = nlp.add_pipe(\"entity_ruler\").from_disk(os.path.join(PATH_TO_PATTERNS, 'test-patterns.jsonl'))\n",
    "\n",
    "example = 'Shop-lifting goes up during 9/11 attacks and lot of firearm\\'s serial number was obliterated'\n",
    "\n",
    "doc = nlp(example)\n",
    "displacy.render(doc, style=\"ent\")"
   ]
  },
  {
   "cell_type": "code",
   "execution_count": null,
   "id": "9746b288",
   "metadata": {},
   "outputs": [],
   "source": [
    "relevant_key_words = [\n",
    "    harassment_key_words,\n",
    "    theft_key_words,\n",
    "    robbery_key_words,\n",
    "    auto_theft_key_words,\n",
    "    assault_key_words,\n",
    "    extortion_key_words,\n",
    "    kidnapping_key_words,\n",
    "    sex_offences_key_words,\n",
    "    vandalism_key_words,\n",
    "    trafficking_illegal_goods,\n",
    "    fraud_key_words,\n",
    "    organised_crime_key_words,\n",
    "    homicide_key_words,\n",
    "    terrorist_threats_key_words,\n",
    "    disturbance_key_words,\n",
    "    suspicious_activity_key_words,\n",
    "    domestic_offences_key_words,\n",
    "    drug_alcohol_violations_key_words,\n",
    "    traffic_violations_key_words,\n",
    "    trespassing_key_words,\n",
    "    weapon_violations_key_words\n",
    "]\n",
    "\n",
    "not_relevant_key_words = [\n",
    "    trials_key_words,\n",
    "    car_accidents_key_words,\n",
    "    statistics_key_words,\n",
    "    gun_policy_key_words,\n",
    "    abortion_key_words,\n",
    "    politics_key_words,\n",
    "    blaze_key_words,\n",
    "    film_key_words,\n",
    "    weather_key_words,\n",
    "    covid_key_words,\n",
    "    other_key_words\n",
    "]\n",
    "\n",
    "PATH_TO_PATTERNS = os.path.join(PATH_TO_PROJECT_X_REPO, r\"notebooks\\nazar_notebooks\\labeling_patterns\")"
   ]
  },
  {
   "cell_type": "code",
   "execution_count": null,
   "id": "2c85dd51",
   "metadata": {},
   "outputs": [],
   "source": [
    "level_0_pattern = ''\n",
    "\n",
    "for key_words in relevant_key_words:\n",
    "    for key in key_words:\n",
    "        if len(key.split()) > 1:\n",
    "            pattern = []\n",
    "            for word in key.split():\n",
    "                pattern.append({'lower' : word.lower()})\n",
    "            level_0_pattern += json.dumps({'label': 'RELEVANT', 'pattern': pattern}) + '\\n'\n",
    "        else:\n",
    "            level_0_pattern += json.dumps({'label': 'RELEVANT', 'pattern': [{'lower': key.lower()}]}) + '\\n'\n",
    "            \n",
    "for key_words in not_relevant_key_words:\n",
    "    for key in key_words:\n",
    "        if len(key.split()) > 1:\n",
    "            pattern = []\n",
    "            for word in key.split():\n",
    "                pattern.append({'lower' : word.lower()})\n",
    "            level_0_pattern += json.dumps({'label': 'NOT-RELEVANT', 'pattern': pattern}) + '\\n'\n",
    "        else:\n",
    "            level_0_pattern += json.dumps({'label': 'NOT-RELEVANT', 'pattern': [{'lower': key.lower()}]}) + '\\n'\n",
    "            \n",
    "#level_0_pattern = level_0_pattern.replace(\"'\", '\"')\n",
    "#level_0_pattern = re.sub('(^\\')|(\\'$)', '\\\"', level_0_pattern)\n",
    "print(level_0_pattern)"
   ]
  },
  {
   "cell_type": "code",
   "execution_count": null,
   "id": "330c20d7",
   "metadata": {},
   "outputs": [],
   "source": [
    "with open(os.path.join(PATH_TO_PATTERNS, 'relevant-patterns.jsonl'), 'w') as file:\n",
    "    file.write(level_0_pattern)"
   ]
  },
  {
   "cell_type": "code",
   "execution_count": null,
   "id": "02f43285",
   "metadata": {},
   "outputs": [],
   "source": [
    "print(os.path.join(PATH_TO_PATTERNS, 'relevant-patterns.jsonl'))"
   ]
  },
  {
   "cell_type": "markdown",
   "id": "95172937",
   "metadata": {},
   "source": [
    "# Labeled stats"
   ]
  },
  {
   "cell_type": "code",
   "execution_count": null,
   "id": "8997f0f3",
   "metadata": {},
   "outputs": [],
   "source": [
    "import seaborn as sns\n",
    "from sklearn import metrics\n",
    "    \n",
    "def evaluate_results(actual, predicted, title='Classifier', threshold=0.5):\n",
    "    \n",
    "    if predicted.shape[1] == 2:\n",
    "        predicted = np.argmax(predicted, axis=1)\n",
    "    else:\n",
    "        if not isinstance(predicted, int):\n",
    "            predicted = np.where(predicted > threshold, 1, 0)\n",
    "    \n",
    "    actual = actual.reshape(1, -1).T\n",
    "    predicted = predicted.reshape(1, -1).T\n",
    "    \n",
    "    # Classification report\n",
    "    print(metrics.classification_report(actual, predicted))\n",
    "    \n",
    "    # Confusion matrix\n",
    "    cf = metrics.confusion_matrix(actual, predicted, normalize=None)\n",
    "    cf_norm = metrics.confusion_matrix(actual, predicted, normalize='true')\n",
    "    \n",
    "    df_cm = pd.DataFrame(cf)\n",
    "    df_cm_norm = pd.DataFrame(cf_norm)\n",
    "    \n",
    "    fig, (ax1, ax2) = plt.subplots(1, 2, figsize=(16,6))\n",
    "    sns.heatmap(df_cm, annot=True, ax = ax1, annot_kws={\"size\": 14}, fmt='g')\n",
    "    ax1.set_title('Unnormalized confusion matrix')\n",
    "    ax1.set_xlabel('PREDICTED VALUES')\n",
    "    ax1.set_ylabel('ACTUAL VALUES')\n",
    "\n",
    "    sns.heatmap(df_cm_norm, annot=True, ax = ax2, annot_kws={\"size\": 14})\n",
    "    ax2.set_title('Normalized confusion matrix')\n",
    "    ax2.set_xlabel('PREDICTED VALUES')\n",
    "    ax2.set_ylabel('ACTUAL VALUES')\n",
    "\n",
    "    fig.suptitle(title, fontsize=16)\n",
    "    plt.show()"
   ]
  },
  {
   "cell_type": "code",
   "execution_count": null,
   "id": "732138c4",
   "metadata": {},
   "outputs": [],
   "source": [
    "fpath = os.path.join(PATH_TO_SCRAPED_NEWS, 'level_0_filter_labeled.jsonl')\n",
    "df = pd.read_json(fpath, lines=True, encoding='utf-16')\n",
    "df.head()\n",
    "#type(df.loc[0, 'accept'])"
   ]
  },
  {
   "cell_type": "code",
   "execution_count": null,
   "id": "26383938",
   "metadata": {},
   "outputs": [],
   "source": [
    "df['answer'].value_counts()"
   ]
  },
  {
   "cell_type": "code",
   "execution_count": null,
   "id": "f3727ffc",
   "metadata": {},
   "outputs": [],
   "source": [
    "df[df['answer']=='accept']['accept'].astype(str).value_counts(normalize=True)"
   ]
  },
  {
   "cell_type": "markdown",
   "id": "ee68892f",
   "metadata": {},
   "source": [
    "### Merge previously labeled news into 6 categories which are relevant"
   ]
  },
  {
   "cell_type": "code",
   "execution_count": null,
   "id": "dbf7672f",
   "metadata": {},
   "outputs": [],
   "source": [
    "usa_news_path = r'C:\\ProjectX\\workspace\\data\\data_providers\\gdelt\\scraped_news\\usa-news-annotated.jsonl'\n",
    "usa_news_df = pd.read_json(usa_news_path, lines=True, encoding='utf-16')\n",
    "usa_news_df.head()"
   ]
  },
  {
   "cell_type": "code",
   "execution_count": null,
   "id": "03eacf19",
   "metadata": {
    "scrolled": true
   },
   "outputs": [],
   "source": [
    "accept_mask = (usa_news_df['answer'] == 'accept') & (usa_news_df['accept'].astype(str) != '[]')\n",
    "#cols = ['text', 'accept']\n",
    "usa_news_out = usa_news_df[accept_mask]\n",
    "usa_news_out['accept'] = [['RELEVANT']] * usa_news_out.shape[0]\n",
    "usa_news_out.head()"
   ]
  },
  {
   "cell_type": "code",
   "execution_count": null,
   "id": "eb9c97df",
   "metadata": {},
   "outputs": [],
   "source": [
    "usa_news_out.shape"
   ]
  },
  {
   "cell_type": "code",
   "execution_count": null,
   "id": "14c3f9b4",
   "metadata": {},
   "outputs": [],
   "source": [
    "fpath = os.path.join(PATH_TO_DATA_ROOT_DIR, fr'data_providers\\gdelt\\scraped_news\\usa_news_merge_level_0_filter.jsonl')\n",
    "usa_news_out.to_json(fpath, orient='records', lines=True)"
   ]
  },
  {
   "cell_type": "code",
   "execution_count": null,
   "id": "9860d1f1",
   "metadata": {},
   "outputs": [],
   "source": [
    "accept_mask = (usa_news_df['answer'] == 'accept') & (usa_news_df['accept'].astype(str) != '[]')\n",
    "cols = ['text', 'accept']\n",
    "usa_news_df_prep = usa_news_df.loc[accept_mask, cols]\n",
    "\n",
    "usa_news_df_prep = usa_news_df_prep.drop_duplicates(subset='text')\n",
    "usa_news_df_prep['accept'] = usa_news_df_prep['accept'].apply(set).apply(list)\n",
    "usa_news_df_prep['accept_int'] = (usa_news_df_prep['accept'].astype(str) != '[]').astype(int)\n",
    "usa_news_df_prep.head()"
   ]
  },
  {
   "cell_type": "code",
   "execution_count": null,
   "id": "72ff8a1a",
   "metadata": {},
   "outputs": [],
   "source": [
    "df_prep = df[df['answer'] == 'accept'][['text', 'accept']]\n",
    "df_prep['accept_int'] = (df_prep['accept'].astype(str) == \"['RELEVANT']\").astype(int)\n",
    "df_prep.head()"
   ]
  },
  {
   "cell_type": "code",
   "execution_count": null,
   "id": "8f295971",
   "metadata": {},
   "outputs": [],
   "source": [
    "t = pd.concat([usa_news_df_prep, df_prep])\n",
    "t.duplicated(subset='text').sum()"
   ]
  },
  {
   "cell_type": "code",
   "execution_count": null,
   "id": "0f983e8d",
   "metadata": {},
   "outputs": [],
   "source": [
    "labeled_df = pd.concat([usa_news_df_prep, df_prep])\n",
    "labeled_df = labeled_df.drop_duplicates(subset='text', keep='last').reset_index(drop=True)\n",
    "labeled_df['length'] = labeled_df['text'].apply(len)\n",
    "labeled_df.shape"
   ]
  },
  {
   "cell_type": "markdown",
   "id": "9aa0a834",
   "metadata": {},
   "source": [
    "### Merged stats"
   ]
  },
  {
   "cell_type": "code",
   "execution_count": null,
   "id": "5c54c8be",
   "metadata": {},
   "outputs": [],
   "source": [
    "labeled_df['accept_int'].value_counts(normalize=True)"
   ]
  },
  {
   "cell_type": "code",
   "execution_count": null,
   "id": "120e23cd",
   "metadata": {
    "scrolled": false
   },
   "outputs": [],
   "source": [
    "sns.kdeplot(data=labeled_df, x='length', hue='accept_int', )"
   ]
  },
  {
   "cell_type": "code",
   "execution_count": null,
   "id": "a2afdcb8",
   "metadata": {},
   "outputs": [],
   "source": [
    "labeled_df.groupby(by='accept_int')['length'].agg(['mean', 'median'])"
   ]
  },
  {
   "cell_type": "code",
   "execution_count": null,
   "id": "17514cc8",
   "metadata": {},
   "outputs": [],
   "source": [
    "relevant_cols = [\n",
    "    'is_harassment', 'is_theft',\n",
    "    'is_robbery', 'is_auto_theft',\n",
    "    'is_assault', 'is_exortion',\n",
    "    'is_kidnapping', 'is_sex_offences',\n",
    "    'is_vandalism', 'is_trafficking_illegalgoods',\n",
    "    'is_fraud', 'is_organised_crime',\n",
    "    'is_homicide', 'is_terrorist_threats',\n",
    "    'is_diturbance', 'is_suspicious_activity',\n",
    "    'is_domestic_offences', 'is_drugalcohol_violations',\n",
    "    'is_traffic_violations', 'is_trespassing',\n",
    "    'is_weapon_violations'\n",
    "]\n",
    "\n",
    "relevant_regexs = [\n",
    "    HARASSMENT_KEY_WORDS_REGEX, THEFT_KEY_WORDS_REGEX,\n",
    "    ROBBERY_KEY_WORDS_REGEX, AUTO_THEFT_KEY_WORDS_REGEX,\n",
    "    ASSAULT_KEY_WORDS_REGEX, EXTORTION_KEY_WORDS_REGEX,\n",
    "    KIDNAPING_KEY_WORD_REGEX, SEX_OFFENCES_KEY_WORD_REGEX,\n",
    "    VANDALISM_KEY_WORDS_REGEX, TRAFFICKING_ILLEGAL_GOODS_REGEX,\n",
    "    FRAUD_KEY_WORDS_REGEX, ORGANISED_CRIME_KEY_WORDS_REGEX,\n",
    "    HOMICIDE_KEY_WORDS_REGEX, TERRORIST_THREATS_KEY_WORDS_REGEX,\n",
    "    DISTURBANCE_KEY_WORDS_REGEX, SUSPICIOUS_ACTIVITY_KEY_WORDS_REGEX,\n",
    "    DOMESTIC_OFFENCES_KEY_WORDS_REGEX, DRUG_ALCOHOL_KEY_WORDS_REGEX,\n",
    "    TRAFFIC_VIOLATIONS_KEY_WORDS_REGEX, TRESPASSING_KEY_WORDS_REGEX,\n",
    "    WEAPON_VIOLATIONS_KEY_WORDS_REGEX\n",
    "]\n",
    "\n",
    "non_relevant_cols = [\n",
    "    'is_trial',\n",
    "    'is_car_accident',\n",
    "    'is_stats_news',\n",
    "    'is_gun_policy_news',\n",
    "    'is_abortion_news',\n",
    "    'is_politics_news',\n",
    "    'is_blaze_news',\n",
    "    'is_film_news',\n",
    "    'is_weather_news',\n",
    "    'is_covid_news',\n",
    "    'is_other',\n",
    "]\n",
    "\n",
    "non_relevant_regexs = [\n",
    "    TRIAL_KEY_WORDS_REGEX,\n",
    "    CAR_ACCIDENT_KEY_WORDS_REGEX,\n",
    "    STATS_KEY_WORDS_REGEX,\n",
    "    GUN_POLICY_KEY_WORDS_REGEX,\n",
    "    ABORTION_KEY_WORDS_REGEX,\n",
    "    POLITICS_KEY_WORDS_REGEX,\n",
    "    BLAZE_KEY_WORDS_REGEX,\n",
    "    FILM_KEY_WORDS_REGEX,\n",
    "    WEATHER_KEY_WORDS_REGEX,\n",
    "    COVID_KEY_WORDS_REGEX,\n",
    "    OTHER_KEY_WORDS_REGEX\n",
    "]"
   ]
  },
  {
   "cell_type": "code",
   "execution_count": null,
   "id": "a5d8538e",
   "metadata": {},
   "outputs": [],
   "source": [
    "for col, regex in zip(relevant_cols+non_relevant_cols, relevant_regexs+non_relevant_regexs):\n",
    "    \n",
    "    col_name = (col.split('_')[1] if len(col.split('_')) == 2 else '_'.join(col.split('_')[1:])) + '_keywords_body'\n",
    "    labeled_df[col_name] = labeled_df['text'].str.lower().apply(lambda x: re.sub(PUNCTUATION_REGEX, \" \", x) if isinstance(x, str) else x)\n",
    "    labeled_df[col_name] = labeled_df[col_name].apply(regex.findall)\n",
    "    labeled_df[col_name] = labeled_df[col_name].apply(lambda x: [x.strip() for x in sorted(set(x))])\n",
    "    \n",
    "    labeled_df[col] = 0\n",
    "    labeled_df.loc[labeled_df[col_name].astype(str) != '[]', col] = 1\n",
    "    labeled_df[col] = labeled_df[col].astype(int)\n",
    "    \n",
    "    print(labeled_df[col].value_counts().head())\n",
    "    print(labeled_df[col_name].astype(str).value_counts().head(5))\n",
    "    print('\\n'+'-'*30+'\\n')"
   ]
  },
  {
   "cell_type": "code",
   "execution_count": null,
   "id": "65625fe9",
   "metadata": {},
   "outputs": [],
   "source": [
    "l = []\n",
    "\n",
    "for col in relevant_cols:\n",
    "    s = (labeled_df[col] == 1).sum()\n",
    "    l.append([col, s])\n",
    "    \n",
    "relevent_cols_stats = pd.DataFrame(data=l, columns=['col_name', 'count']).sort_values(by='count')\n",
    "relevent_cols_stats[relevent_cols_stats['count'] < 10]['col_name'].values"
   ]
  },
  {
   "cell_type": "code",
   "execution_count": null,
   "id": "59029957",
   "metadata": {},
   "outputs": [],
   "source": [
    "l = []\n",
    "\n",
    "for col in non_relevant_cols:\n",
    "    s = (labeled_df[col] == 1).sum()\n",
    "    l.append([col, s])\n",
    "    \n",
    "not_relevent_cols_stats = pd.DataFrame(data=l, columns=['col_name', 'count']).sort_values(by='count')\n",
    "not_relevent_cols_stats[not_relevent_cols_stats['count'] < 10]['col_name'].values"
   ]
  },
  {
   "cell_type": "markdown",
   "id": "27247822",
   "metadata": {},
   "source": [
    "# Level-0 filter"
   ]
  },
  {
   "cell_type": "markdown",
   "id": "6449ceb3",
   "metadata": {},
   "source": [
    "## Base filter by key words\n",
    "* If there is only relevant key words than its relevant, otherwise not relevant"
   ]
  },
  {
   "cell_type": "code",
   "execution_count": null,
   "id": "693d4440",
   "metadata": {},
   "outputs": [],
   "source": [
    "labeled_df['relevant_pred'] = labeled_df[relevant_cols].apply(any, axis=1).astype(int)\n",
    "labeled_df['not-relevant_pred'] = labeled_df[non_relevant_cols].apply(any, axis=1).astype(int)\n",
    "labeled_df['base-filter'] = np.all(labeled_df[['relevant_pred', 'not-relevant_pred']].values == [1, 0], axis=1)\n",
    "labeled_df['base-filter'] = labeled_df['base-filter'].astype(int)\n",
    "labeled_df[['text', 'accept_int', 'base-filter', 'relevant_pred', 'not-relevant_pred']].head(10)"
   ]
  },
  {
   "cell_type": "code",
   "execution_count": null,
   "id": "519ab6d1",
   "metadata": {},
   "outputs": [],
   "source": [
    "labeled_df['base-filter'] = labeled_df['text'].apply(base_filter)\n",
    "labeled_df['base-filter'] = (labeled_df['base-filter'] == 'RELEVANT').astype(int)\n",
    "labeled_df.head()"
   ]
  },
  {
   "cell_type": "code",
   "execution_count": null,
   "id": "164ff9f9",
   "metadata": {},
   "outputs": [],
   "source": [
    "y_true = labeled_df['accept_int'].values.reshape(-1, 1)\n",
    "y_pred = labeled_df['base-filter'].values.reshape(-1, 1)\n",
    "\n",
    "evaluate_results(y_true, y_pred, title='Base-filter')"
   ]
  },
  {
   "cell_type": "code",
   "execution_count": null,
   "id": "c0760550",
   "metadata": {},
   "outputs": [],
   "source": [
    "(labeled_df['accept_int'] == labeled_df['base-filter']).astype(int).mean()"
   ]
  },
  {
   "cell_type": "markdown",
   "id": "d1070a5e",
   "metadata": {},
   "source": [
    "## Analyze false negative and false positives"
   ]
  },
  {
   "cell_type": "code",
   "execution_count": null,
   "id": "fd28a5f7",
   "metadata": {
    "scrolled": true
   },
   "outputs": [],
   "source": [
    "import spacy\n",
    "from spacy import displacy\n",
    "\n",
    "PATH_TO_PATTERNS = os.path.join(PATH_TO_PROJECT_X_REPO, r\"notebooks\\nazar_notebooks\\labeling_patterns\\relevant-patterns.jsonl\")\n",
    "\n",
    "nlp = spacy.blank('en')\n",
    "new_ruler = nlp.add_pipe(\"entity_ruler\").from_disk(PATH_TO_PATTERNS)\n",
    "\n",
    "false_neg = labeled_df[(labeled_df['accept_int'] == 1) & (labeled_df['base-filter'] == 0)]\n",
    "print(f\"There are {false_neg.shape[0]} false negatives\\n\")\n",
    "\n",
    "for idx in false_neg.index:\n",
    "    #print(false_neg.loc[idx, 'text'])\n",
    "    #print('-'*150)\n",
    "    doc = nlp(false_neg.loc[idx, 'text'])\n",
    "    displacy.render(doc, style=\"ent\")\n",
    "    print('-'*150)"
   ]
  },
  {
   "cell_type": "code",
   "execution_count": null,
   "id": "eda4a64f",
   "metadata": {},
   "outputs": [],
   "source": [
    "false_pos = labeled_df[(labeled_df['accept_int'] == 0) & (labeled_df['base-filter'] == 1)]\n",
    "print(f\"There are {false_pos.shape[0]} false positives\\n\")\n",
    "\n",
    "for idx in false_pos.index:\n",
    "    #print(false_neg.loc[idx, 'text'])\n",
    "    #print('-'*150)\n",
    "    doc = nlp(false_pos.loc[idx, 'text'])\n",
    "    displacy.render(doc, style=\"ent\")\n",
    "    print('-'*150)"
   ]
  },
  {
   "cell_type": "code",
   "execution_count": null,
   "id": "11356995",
   "metadata": {},
   "outputs": [],
   "source": []
  },
  {
   "cell_type": "code",
   "execution_count": null,
   "id": "0ee48974",
   "metadata": {},
   "outputs": [],
   "source": [
    "%load_ext autoreload\n",
    "%autoreload 2"
   ]
  },
  {
   "cell_type": "code",
   "execution_count": null,
   "id": "75c8e176",
   "metadata": {},
   "outputs": [],
   "source": [
    "from level_0_filter_utils import (base_filter, base_filter_with_key_words)"
   ]
  },
  {
   "cell_type": "code",
   "execution_count": null,
   "id": "d2e33ab8",
   "metadata": {},
   "outputs": [],
   "source": [
    "base_filter(labeled_df.loc[0, 'text'])"
   ]
  },
  {
   "cell_type": "code",
   "execution_count": null,
   "id": "b7a6667a",
   "metadata": {},
   "outputs": [],
   "source": [
    "labeled_df.loc[:10, 'text'].apply(base_filter)"
   ]
  },
  {
   "cell_type": "code",
   "execution_count": null,
   "id": "a14b6e01",
   "metadata": {},
   "outputs": [],
   "source": [
    "res = pd.DataFrame(labeled_df['text'], columns=['text'])\n",
    "res['base-filter'] = res['text'].apply(base_filter)\n",
    "res['base-filter'] = (res['base-filter'] == 'RELEVANT').astype(int)\n",
    "res.head()"
   ]
  },
  {
   "cell_type": "code",
   "execution_count": null,
   "id": "6a3c8397",
   "metadata": {},
   "outputs": [],
   "source": [
    "labeled_df[['text', 'base-filter']].head()"
   ]
  },
  {
   "cell_type": "code",
   "execution_count": null,
   "id": "99b69e9d",
   "metadata": {},
   "outputs": [],
   "source": [
    "(labeled_df['text'] == res['text']).value_counts()"
   ]
  },
  {
   "cell_type": "code",
   "execution_count": null,
   "id": "d0114561",
   "metadata": {},
   "outputs": [],
   "source": [
    "(labeled_df['base-filter'] == res['base-filter']).value_counts()"
   ]
  },
  {
   "cell_type": "code",
   "execution_count": null,
   "id": "36126b87",
   "metadata": {},
   "outputs": [],
   "source": [
    "example = labeled_df.loc[29, 'text']\n",
    "\n",
    "rel = []\n",
    "not_rel = []\n",
    "\n",
    "for r in relevant_regexs:\n",
    "    t = r.findall(example)\n",
    "    if t:\n",
    "        rel.append(t)\n",
    "        \n",
    "for r in non_relevant_regexs:\n",
    "    t = r.findall(example)\n",
    "    if t:\n",
    "        not_rel.append(t)\n",
    "        \n",
    "print(rel)\n",
    "print(not_rel)"
   ]
  },
  {
   "cell_type": "code",
   "execution_count": null,
   "id": "db82bd03",
   "metadata": {},
   "outputs": [],
   "source": [
    "base_filter_with_key_words(labeled_df.loc[29, 'text'])"
   ]
  },
  {
   "cell_type": "code",
   "execution_count": null,
   "id": "cfe362b2",
   "metadata": {},
   "outputs": [],
   "source": [
    "labeled_df.loc[29, :]"
   ]
  },
  {
   "cell_type": "code",
   "execution_count": null,
   "id": "aed072b0",
   "metadata": {},
   "outputs": [],
   "source": [
    "base_filter(labeled_df.loc[29, 'text'])"
   ]
  },
  {
   "cell_type": "code",
   "execution_count": null,
   "id": "2fcc43d7",
   "metadata": {},
   "outputs": [],
   "source": [
    "mask = (labeled_df['base-filter'] != res['base-filter'])\n",
    "\n",
    "labeled_df.loc[mask, ['text']]"
   ]
  }
 ],
 "metadata": {
  "kernelspec": {
   "display_name": "Python [conda env:py38dnn]",
   "language": "python",
   "name": "conda-env-py38dnn-py"
  },
  "language_info": {
   "codemirror_mode": {
    "name": "ipython",
    "version": 3
   },
   "file_extension": ".py",
   "mimetype": "text/x-python",
   "name": "python",
   "nbconvert_exporter": "python",
   "pygments_lexer": "ipython3",
   "version": "3.8.12"
  }
 },
 "nbformat": 4,
 "nbformat_minor": 5
}
