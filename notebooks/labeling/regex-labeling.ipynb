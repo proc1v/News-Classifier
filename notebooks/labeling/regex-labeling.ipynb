{
 "cells": [
  {
   "cell_type": "code",
   "execution_count": 1,
   "id": "ae15239a",
   "metadata": {},
   "outputs": [],
   "source": [
    "import warnings\n",
    "warnings.filterwarnings(\"ignore\") "
   ]
  },
  {
   "cell_type": "code",
   "execution_count": 2,
   "id": "e1d0c279",
   "metadata": {},
   "outputs": [
    {
     "data": {
      "text/html": [
       "<style>.container { width:100% !important; }</style>"
      ],
      "text/plain": [
       "<IPython.core.display.HTML object>"
      ]
     },
     "metadata": {},
     "output_type": "display_data"
    }
   ],
   "source": [
    "import os\n",
    "import re\n",
    "import sys\n",
    "import json\n",
    "import numpy as np\n",
    "import pandas as pd\n",
    "from wordcloud import WordCloud\n",
    "\n",
    "import spacy\n",
    "from spacy import displacy\n",
    "from spacy.matcher import Matcher\n",
    "\n",
    "from nltk.corpus import stopwords\n",
    "\n",
    "import seaborn as sns\n",
    "from matplotlib import pyplot as plt\n",
    "\n",
    "from IPython.core.display import display, HTML\n",
    "display(HTML(\"<style>.container { width:100% !important; }</style>\"))\n",
    "\n",
    "#os.environ[\"KMP_DUPLICATE_LIB_OK\"]=\"TRUE\"\n",
    "pd.set_option('display.max_columns', 200)\n",
    "pd.set_option('display.max_rows', 500)\n",
    "#pd.set_option('display.max_colwidth', -1)\n",
    "\n",
    "SPACE_REGEX = re.compile(r\"\\s+\")\n",
    "STOP_WORDS = set(stopwords.words('english'))\n",
    "SEED = 2022"
   ]
  },
  {
   "cell_type": "code",
   "execution_count": 3,
   "id": "f8c1ca4c",
   "metadata": {},
   "outputs": [],
   "source": [
    "HOME_DIR = r'C:\\ProjectX'\n",
    "\n",
    "WORKSPACE_ROOT = os.path.join(HOME_DIR, 'workspace')\n",
    "PATH_TO_PROJECT_X_REPO = os.path.join(WORKSPACE_ROOT, 'project_x')\n",
    "PATH_TO_DATA_ROOT_DIR = os.path.join(WORKSPACE_ROOT, \"data\")\n",
    "PATH_TO_SCRAPED_NEWS = os.path.join(PATH_TO_DATA_ROOT_DIR, \"data_providers\\gdelt\\scraped_news\")"
   ]
  },
  {
   "cell_type": "code",
   "execution_count": 4,
   "id": "1a59b44f",
   "metadata": {},
   "outputs": [],
   "source": [
    "# Add path to library to sys path\n",
    "generic_utils_lib_dir = os.path.join(PATH_TO_PROJECT_X_REPO, 'common')\n",
    "\n",
    "sys.path.extend([generic_utils_lib_dir])\n",
    "\n",
    "#from generic_utils import (downcast_datatypes, timing, create_output_dir, parallelize)\n",
    "\n",
    "from crime_mapper_utils import crimemapper, map_event_types_from_es_to_en"
   ]
  },
  {
   "cell_type": "code",
   "execution_count": 5,
   "id": "75483876",
   "metadata": {},
   "outputs": [],
   "source": [
    "def plot_wordcloud(text, mask=None, max_words=200, max_font_size=100, figure_size=(12.0,8.0),\n",
    "                   title: str = None, title_size: int = 24):\n",
    "\n",
    "    wordcloud = WordCloud(background_color='black',\n",
    "                          stopwords=STOP_WORDS,\n",
    "                          max_words=max_words,\n",
    "                          max_font_size=max_font_size,\n",
    "                          random_state=SEED,\n",
    "                          width=1200,\n",
    "                          height=600,\n",
    "                          mask=mask)\n",
    "\n",
    "    wordcloud.generate(str(text))\n",
    "\n",
    "    plt.figure(figsize=figure_size)\n",
    "\n",
    "    plt.imshow(wordcloud)\n",
    "    plt.title(title, fontdict={'size': title_size, 'color': 'black',\n",
    "                              'verticalalignment': 'bottom'})\n",
    "    plt.axis('off')\n",
    "    plt.tight_layout()"
   ]
  },
  {
   "cell_type": "code",
   "execution_count": 7,
   "id": "200531d2",
   "metadata": {
    "scrolled": true
   },
   "outputs": [
    {
     "data": {
      "text/html": [
       "<div>\n",
       "<style scoped>\n",
       "    .dataframe tbody tr th:only-of-type {\n",
       "        vertical-align: middle;\n",
       "    }\n",
       "\n",
       "    .dataframe tbody tr th {\n",
       "        vertical-align: top;\n",
       "    }\n",
       "\n",
       "    .dataframe thead th {\n",
       "        text-align: right;\n",
       "    }\n",
       "</style>\n",
       "<table border=\"1\" class=\"dataframe\">\n",
       "  <thead>\n",
       "    <tr style=\"text-align: right;\">\n",
       "      <th></th>\n",
       "      <th>source_name</th>\n",
       "      <th>url</th>\n",
       "      <th>paragraphs</th>\n",
       "      <th>paragraphs_nwords</th>\n",
       "      <th>dateadded</th>\n",
       "      <th>eventrootcode</th>\n",
       "      <th>eventbasecode</th>\n",
       "      <th>eventcode</th>\n",
       "      <th>actiongeo_fullname</th>\n",
       "      <th>actiongeo_countrycode_iso3</th>\n",
       "      <th>v2themes_names</th>\n",
       "      <th>body</th>\n",
       "      <th>cleaned_body</th>\n",
       "    </tr>\n",
       "  </thead>\n",
       "  <tbody>\n",
       "    <tr>\n",
       "      <th>0</th>\n",
       "      <td>www.cbsnews.com</td>\n",
       "      <td>https://www.cbsnews.com/news/law-enforcement-c...</td>\n",
       "      <td>By Jennifer De Pinto, Fred Backus, Anthony Sal...</td>\n",
       "      <td>781.0</td>\n",
       "      <td>2022-07-01 00:00:00</td>\n",
       "      <td>1.0</td>\n",
       "      <td>12.0</td>\n",
       "      <td>12.0</td>\n",
       "      <td>Uvalde, Texas, United States</td>\n",
       "      <td>USA</td>\n",
       "      <td>['BAN' 'CRISISLEX_C07_SAFETY' 'CRISISLEX_CRISI...</td>\n",
       "      <td>By Jennifer De Pinto, Fred Backus, Anthony Sal...</td>\n",
       "      <td>By Jennifer De Pinto, Fred Backus, Anthony Sal...</td>\n",
       "    </tr>\n",
       "    <tr>\n",
       "      <th>1</th>\n",
       "      <td>www.850wftl.com</td>\n",
       "      <td>https://www.850wftl.com/four-dead-three-injure...</td>\n",
       "      <td>(ENCINAL, Texas) — Four people were killed and...</td>\n",
       "      <td>107.0</td>\n",
       "      <td>2022-07-01 00:00:00</td>\n",
       "      <td>19.0</td>\n",
       "      <td>190.0</td>\n",
       "      <td>190.0</td>\n",
       "      <td>San Antonio, Texas, United States</td>\n",
       "      <td>USA</td>\n",
       "      <td>['BORDER' 'CRISISLEX_C07_SAFETY' 'CRISISLEX_CR...</td>\n",
       "      <td>(ENCINAL, Texas) -- Four people were killed an...</td>\n",
       "      <td>(ENCINAL, Texas) -- Four people were killed an...</td>\n",
       "    </tr>\n",
       "    <tr>\n",
       "      <th>2</th>\n",
       "      <td>www.potomaclocal.com</td>\n",
       "      <td>https://www.potomaclocal.com/2022/06/30/manass...</td>\n",
       "      <td>On Wednesday, June 29, at 1:09 a.m, officers r...</td>\n",
       "      <td>430.0</td>\n",
       "      <td>2022-07-01 00:00:00</td>\n",
       "      <td>4.0</td>\n",
       "      <td>43.0</td>\n",
       "      <td>43.0</td>\n",
       "      <td>Willacoochee, Georgia, United States</td>\n",
       "      <td>USA</td>\n",
       "      <td>['ARREST' 'CRISISLEX_C03_WELLBEING_HEALTH' 'CR...</td>\n",
       "      <td>On Wednesday, June 29, at 1:09 a.m, officers r...</td>\n",
       "      <td>On Wednesday, June 29, at 1:09 a.m, officers r...</td>\n",
       "    </tr>\n",
       "    <tr>\n",
       "      <th>3</th>\n",
       "      <td>www.wfae.org</td>\n",
       "      <td>https://www.wfae.org/2022-06-30/hells-angels-f...</td>\n",
       "      <td>Sonny Barger, the leather-clad figurehead of t...</td>\n",
       "      <td>650.0</td>\n",
       "      <td>2022-07-01 00:00:00</td>\n",
       "      <td>8.0</td>\n",
       "      <td>84.0</td>\n",
       "      <td>84.0</td>\n",
       "      <td>Altamont, California, United States</td>\n",
       "      <td>USA</td>\n",
       "      <td>['ARMEDCONFLICT' 'ARREST' 'BAN' 'CRISISLEX_C07...</td>\n",
       "      <td>Sonny Barger, the leather-clad figurehead of t...</td>\n",
       "      <td>Sonny Barger, the leather-clad figurehead of t...</td>\n",
       "    </tr>\n",
       "    <tr>\n",
       "      <th>4</th>\n",
       "      <td>news.yahoo.com</td>\n",
       "      <td>https://news.yahoo.com/exclusive-sophia-roe-ta...</td>\n",
       "      <td>If she’s not cheffing it up in her Apartment M...</td>\n",
       "      <td>1313.0</td>\n",
       "      <td>2022-07-01 00:00:00</td>\n",
       "      <td>19.0</td>\n",
       "      <td>190.0</td>\n",
       "      <td>190.0</td>\n",
       "      <td>United States</td>\n",
       "      <td>USA</td>\n",
       "      <td>['ARMEDCONFLICT' 'CRISISLEX_CRISISLEXREC' 'CRI...</td>\n",
       "      <td>If she's not cheffing it up in her Apartment M...</td>\n",
       "      <td>If she's not cheffing it up in her Apartment M...</td>\n",
       "    </tr>\n",
       "  </tbody>\n",
       "</table>\n",
       "</div>"
      ],
      "text/plain": [
       "            source_name                                                url  \\\n",
       "0       www.cbsnews.com  https://www.cbsnews.com/news/law-enforcement-c...   \n",
       "1       www.850wftl.com  https://www.850wftl.com/four-dead-three-injure...   \n",
       "2  www.potomaclocal.com  https://www.potomaclocal.com/2022/06/30/manass...   \n",
       "3          www.wfae.org  https://www.wfae.org/2022-06-30/hells-angels-f...   \n",
       "4        news.yahoo.com  https://news.yahoo.com/exclusive-sophia-roe-ta...   \n",
       "\n",
       "                                          paragraphs  paragraphs_nwords  \\\n",
       "0  By Jennifer De Pinto, Fred Backus, Anthony Sal...              781.0   \n",
       "1  (ENCINAL, Texas) — Four people were killed and...              107.0   \n",
       "2  On Wednesday, June 29, at 1:09 a.m, officers r...              430.0   \n",
       "3  Sonny Barger, the leather-clad figurehead of t...              650.0   \n",
       "4  If she’s not cheffing it up in her Apartment M...             1313.0   \n",
       "\n",
       "             dateadded  eventrootcode  eventbasecode  eventcode  \\\n",
       "0  2022-07-01 00:00:00            1.0           12.0       12.0   \n",
       "1  2022-07-01 00:00:00           19.0          190.0      190.0   \n",
       "2  2022-07-01 00:00:00            4.0           43.0       43.0   \n",
       "3  2022-07-01 00:00:00            8.0           84.0       84.0   \n",
       "4  2022-07-01 00:00:00           19.0          190.0      190.0   \n",
       "\n",
       "                     actiongeo_fullname actiongeo_countrycode_iso3  \\\n",
       "0          Uvalde, Texas, United States                        USA   \n",
       "1     San Antonio, Texas, United States                        USA   \n",
       "2  Willacoochee, Georgia, United States                        USA   \n",
       "3   Altamont, California, United States                        USA   \n",
       "4                         United States                        USA   \n",
       "\n",
       "                                      v2themes_names  \\\n",
       "0  ['BAN' 'CRISISLEX_C07_SAFETY' 'CRISISLEX_CRISI...   \n",
       "1  ['BORDER' 'CRISISLEX_C07_SAFETY' 'CRISISLEX_CR...   \n",
       "2  ['ARREST' 'CRISISLEX_C03_WELLBEING_HEALTH' 'CR...   \n",
       "3  ['ARMEDCONFLICT' 'ARREST' 'BAN' 'CRISISLEX_C07...   \n",
       "4  ['ARMEDCONFLICT' 'CRISISLEX_CRISISLEXREC' 'CRI...   \n",
       "\n",
       "                                                body  \\\n",
       "0  By Jennifer De Pinto, Fred Backus, Anthony Sal...   \n",
       "1  (ENCINAL, Texas) -- Four people were killed an...   \n",
       "2  On Wednesday, June 29, at 1:09 a.m, officers r...   \n",
       "3  Sonny Barger, the leather-clad figurehead of t...   \n",
       "4  If she's not cheffing it up in her Apartment M...   \n",
       "\n",
       "                                        cleaned_body  \n",
       "0  By Jennifer De Pinto, Fred Backus, Anthony Sal...  \n",
       "1  (ENCINAL, Texas) -- Four people were killed an...  \n",
       "2  On Wednesday, June 29, at 1:09 a.m, officers r...  \n",
       "3  Sonny Barger, the leather-clad figurehead of t...  \n",
       "4  If she's not cheffing it up in her Apartment M...  "
      ]
     },
     "execution_count": 7,
     "metadata": {},
     "output_type": "execute_result"
    }
   ],
   "source": [
    "news_df.head()"
   ]
  },
  {
   "cell_type": "code",
   "execution_count": 8,
   "id": "95845c68",
   "metadata": {},
   "outputs": [
    {
     "data": {
      "text/plain": [
       "585"
      ]
     },
     "execution_count": 8,
     "metadata": {},
     "output_type": "execute_result"
    }
   ],
   "source": [
    "news_df['cleaned_body'].isnull().sum()"
   ]
  },
  {
   "cell_type": "code",
   "execution_count": 9,
   "id": "fe972029",
   "metadata": {},
   "outputs": [
    {
     "data": {
      "text/plain": [
       "(49894, 13)"
      ]
     },
     "execution_count": 9,
     "metadata": {},
     "output_type": "execute_result"
    }
   ],
   "source": [
    "news_df.shape"
   ]
  },
  {
   "cell_type": "code",
   "execution_count": 10,
   "id": "06a31557",
   "metadata": {},
   "outputs": [
    {
     "data": {
      "text/plain": [
       "(49309, 13)"
      ]
     },
     "execution_count": 10,
     "metadata": {},
     "output_type": "execute_result"
    }
   ],
   "source": [
    "news_df = news_df.dropna(subset=['cleaned_body'])\n",
    "news_df.shape"
   ]
  },
  {
   "cell_type": "code",
   "execution_count": 11,
   "id": "7f0defff",
   "metadata": {
    "scrolled": false
   },
   "outputs": [
    {
     "data": {
      "text/plain": [
       "count    49309.000000\n",
       "mean       574.425865\n",
       "std        369.156367\n",
       "min         60.000000\n",
       "25%        283.000000\n",
       "50%        489.000000\n",
       "75%        791.000000\n",
       "max       1702.000000\n",
       "Name: paragraphs_nwords, dtype: float64"
      ]
     },
     "execution_count": 11,
     "metadata": {},
     "output_type": "execute_result"
    }
   ],
   "source": [
    "news_df['paragraphs_nwords'].describe()"
   ]
  },
  {
   "cell_type": "markdown",
   "id": "5ac3ad65",
   "metadata": {},
   "source": [
    "### Key words in 6 categories"
   ]
  },
  {
   "cell_type": "markdown",
   "id": "e9c58593",
   "metadata": {},
   "source": [
    "### 1) Harassment"
   ]
  },
  {
   "cell_type": "code",
   "execution_count": 35,
   "id": "abc07242",
   "metadata": {},
   "outputs": [],
   "source": [
    "harassment_key_words = [\n",
    "    'abused',\n",
    "    'obscenity',\n",
    "    'defamation',\n",
    "    'tracking',\n",
    "    'harassment',\n",
    "    'harassing',\n",
    "    'harass',\n",
    "    'harassed',\n",
    "    'stalking',\n",
    "    'bully',\n",
    "    'bullied',\n",
    "    'intimidation',\n",
    "    'peeping tom',\n",
    "    'insult',\n",
    "    'intent to outrage her modesty',\n",
    "    'unlawful exposure',\n",
    "    'accosting',\n",
    "    'intimidating',\n",
    "    'intimidate',\n",
    "    'intimidated',\n",
    "    'obscene',\n",
    "    'obscene phone calls',\n",
    "    'Obscene phone call',\n",
    "    'armed disturb',\n",
    "    'hurled racist slurs',\n",
    "    'coercion',\n",
    "    'cursing',\n",
    "    'threatened to kill',\n",
    "    'threatening to kill',\n",
    "    'groping',\n",
    "    'groped',\n",
    "    'intimidation with a dangerous weapon',\n",
    "    'threatening to shoot'\n",
    "]"
   ]
  },
  {
   "cell_type": "code",
   "execution_count": 36,
   "id": "e7c17f87",
   "metadata": {},
   "outputs": [
    {
     "data": {
      "text/plain": [
       "{'harassment', 'unlawful exposure'}"
      ]
     },
     "execution_count": 36,
     "metadata": {},
     "output_type": "execute_result"
    }
   ],
   "source": [
    "HARASSMENT_KEY_WORDS = \"|\".join(fr'\\b{str.lower(harass_key_word)}\\b' for harass_key_word in set(harassment_key_words))\n",
    "HARASSMENT_KEY_WORDS_REGEX = re.compile(r'%s' % HARASSMENT_KEY_WORDS, flags=re.I)\n",
    "\n",
    "s = \"\"\"\n",
    "The head of the Royal Navy has ordered an investigation into allegations of bullying and sexual harassment against \n",
    "women in the Submarine Service. Several whistleblowers who served in the fleet told the Daily Mail they faced \n",
    "mistreatment from all ranks. Adm Sir Ben Key, the First Sea Lord, called the claims \"abhorrent\", adding \n",
    "\"sexual harassment has no place in the Royal Navy and will not be tolerated\". \"Anyone who is found culpable will \n",
    "be held accountable,\" he said. The allegations, revealed in detail by the Mail, include male crew members \n",
    "compiling a list setting out the order in which women would be assaulted in the event of a catastrophic event. unlawful exposure\n",
    "\"\"\"\n",
    "\n",
    "set(HARASSMENT_KEY_WORDS_REGEX.findall(s))"
   ]
  },
  {
   "cell_type": "markdown",
   "id": "b5701583",
   "metadata": {},
   "source": [
    "### 2) Theft"
   ]
  },
  {
   "cell_type": "code",
   "execution_count": 15,
   "id": "e1d0640a",
   "metadata": {},
   "outputs": [],
   "source": [
    "theft_key_words =[\n",
    "    'theft',\n",
    "    'industrial espionage',\n",
    "    'burglary',\n",
    "    'burglaries',\n",
    "    'burglar',\n",
    "    'steal',\n",
    "    'stole',\n",
    "    'shoplifting',\n",
    "    'larceny',\n",
    "    'pocket-picking',\n",
    "    'obtaining a service without payment',\n",
    "    'obtained a service without payment',\n",
    "    'false pretenses',\n",
    "    'swindle',\n",
    "    'confidence game',\n",
    "    'making off from a hotel',\n",
    "    'made off from a hotel',\n",
    "    'restaurant without payment',\n",
    "    'bar without payment',\n",
    "    'pickpocketing',\n",
    "    'pickpocket',\n",
    "    'shop-lifting',\n",
    "    'shoplift',\n",
    "    'shoplifted'\n",
    "]"
   ]
  },
  {
   "cell_type": "code",
   "execution_count": 17,
   "id": "0b3b6422",
   "metadata": {},
   "outputs": [
    {
     "data": {
      "text/plain": [
       "{'burglary', 'industrial espionage', 'theft'}"
      ]
     },
     "execution_count": 17,
     "metadata": {},
     "output_type": "execute_result"
    }
   ],
   "source": [
    "THEFT_KEY_WORDS = \"|\".join(fr'\\b{str.lower(theft_key_word)}\\b' for theft_key_word in set(theft_key_words))\n",
    "THEFT_KEY_WORDS_REGEX = re.compile(r'%s' % THEFT_KEY_WORDS, flags=re.I)\n",
    "\n",
    "s = \"\"\"\n",
    "A 33-year-old man was arrested on Saturday morning on the Limassol – Nicosia motorway, to facilitate police investigations into cases of house burglary \n",
    "and theft. In a written statement police stated that at around 8.20am on Saturday, traffic police, who were conducting a traffic control on the \n",
    "Limassol-Nicosia motorway close to Mari, stopped a driver for inspection having noticed that his car did not have a registration plate at the front. \n",
    "industrial espionage \n",
    "\"\"\"\n",
    "\n",
    "set(THEFT_KEY_WORDS_REGEX.findall(s))"
   ]
  },
  {
   "cell_type": "markdown",
   "id": "1a34ec56",
   "metadata": {},
   "source": [
    "### 3) Robbery"
   ]
  },
  {
   "cell_type": "code",
   "execution_count": 18,
   "id": "09c50974",
   "metadata": {},
   "outputs": [],
   "source": [
    "robbery_key_words = [\n",
    "    'snatching',\n",
    "    'purse-snatching',\n",
    "    'robbery',\n",
    "    'robbers', \n",
    "    'robberies',\n",
    "    'robbing',\n",
    "    'robber', \n",
    "    'robbed',\n",
    "    'housebreaking',\n",
    "    'break and enter',\n",
    "    'violent robbery',\n",
    "    'snatch',\n",
    "    'snatched',\n",
    "    'mugging',\n",
    "    'armed robbery'\n",
    "]"
   ]
  },
  {
   "cell_type": "code",
   "execution_count": 19,
   "id": "2dbd120c",
   "metadata": {},
   "outputs": [],
   "source": [
    "#[{'lemma': 'gun'}, {'not_in': ['store']}\n",
    "# concealed firearmsROBBERY"
   ]
  },
  {
   "cell_type": "code",
   "execution_count": 20,
   "id": "e9b663c5",
   "metadata": {},
   "outputs": [
    {
     "data": {
      "text/plain": [
       "{'armed robbery'}"
      ]
     },
     "execution_count": 20,
     "metadata": {},
     "output_type": "execute_result"
    }
   ],
   "source": [
    "ROBBERY_KEY_WORDS = \"|\".join(fr'\\b{str.lower(robbery_key_word)}\\b' for robbery_key_word in set(robbery_key_words))\n",
    "ROBBERY_KEY_WORDS_REGEX = re.compile(r'%s' % ROBBERY_KEY_WORDS, flags=re.I)\n",
    "\n",
    "s = \"\"\"\n",
    "A teenager who was out on two previous gun arrests was busted again in Queens on Wednesday for an armed robbery, according to police sources.\n",
    "Alleged gang member Jeffrey Mendoza, 18, was arrested after he and two friends pistol whipped a person with a 9 mm handgun and stole the victim’s cellphone \n",
    "and wallet, sources said. \n",
    "\"\"\"\n",
    "\n",
    "set(ROBBERY_KEY_WORDS_REGEX.findall(s))"
   ]
  },
  {
   "cell_type": "markdown",
   "id": "991425e2",
   "metadata": {},
   "source": [
    "### Auto Theft"
   ]
  },
  {
   "cell_type": "code",
   "execution_count": 21,
   "id": "f22e5672",
   "metadata": {},
   "outputs": [],
   "source": [
    "auto_theft_key_words = [\n",
    "    'carjacking',\n",
    "    'carjackings',\n",
    "    'hijacking',\n",
    "    'hijackings',\n",
    "    'hijacked',\n",
    "    'hijack',\n",
    "    'conveyance',\n",
    "    'vehicle larceny',\n",
    "    'vehicle theft',\n",
    "    'vehicle grand',\n",
    "    'gta',\n",
    "    'car jack',\n",
    "    'car theft',\n",
    "    'car was stolen',\n",
    "    'carjacker',\n",
    "    'carjackers',\n",
    "    'carjack',\n",
    "    'carjacked',\n",
    "    'steal a car',\n",
    "    'stole a car',\n",
    "    'steal car',\n",
    "    'stole car',\n",
    "    'stole a vehicle',\n",
    "    'stole another vehicle',\n",
    "    'stole a Chevy truck',\n",
    "    'stole another motor vehicle',\n",
    "    'armed carjacking',\n",
    "    'stole her car',\n",
    "    'stole his car',\n",
    "    'stole their car',\n",
    "    'theft of a motor vehicle',\n",
    "    'stole a truck',\n",
    "    'grand theft',\n",
    "    'grand theft auto',\n",
    "    'stole his vehicle',\n",
    "    'commandeered the vehicle',\n",
    "    'motor vehicle theft',\n",
    "    'vehicle was stolen',\n",
    "    'Vehicle was burglarized',\n",
    "    'stolen van',\n",
    "    'van robbers',\n",
    "    'stolen pickup truck',\n",
    "]"
   ]
  },
  {
   "cell_type": "code",
   "execution_count": 22,
   "id": "a1e1929c",
   "metadata": {},
   "outputs": [
    {
     "data": {
      "text/plain": [
       "{'car theft'}"
      ]
     },
     "execution_count": 22,
     "metadata": {},
     "output_type": "execute_result"
    }
   ],
   "source": [
    "AUTO_THEFT_KEY_WORDS = \"|\".join(fr'\\b{str.lower(auto_theft_key_word)}\\b' for auto_theft_key_word in set(auto_theft_key_words))\n",
    "AUTO_THEFT_KEY_WORDS_REGEX = re.compile(r'%s' % AUTO_THEFT_KEY_WORDS, flags=re.I)\n",
    "\n",
    "s = \"\"\"\n",
    "Ottawa police say three men from Montreal are facing charges in connection with an alleged car theft in Kanata South.\n",
    "Officers were called to Gowrie Street and Barra Avenue Tuesday afternoon after someone reported a man disconnecting a trailer from a vehicle and thought \n",
    "it was suspicious, police said in a news release. A similar vehicle was stopped some time later on Highway 417. Police said it was reported stolen. \n",
    "\"\"\"\n",
    "\n",
    "set(AUTO_THEFT_KEY_WORDS_REGEX.findall(s))"
   ]
  },
  {
   "cell_type": "markdown",
   "id": "ef9d12f2",
   "metadata": {},
   "source": [
    "### Assault"
   ]
  },
  {
   "cell_type": "code",
   "execution_count": 1,
   "id": "fe696ea3",
   "metadata": {},
   "outputs": [],
   "source": [
    "assault_key_words = [\n",
    "    'assault',\n",
    "    'aggravated assault',\n",
    "    'assaulted',\n",
    "    'weapons offense',\n",
    "    'hit-and-run',\n",
    "    'hit and run',\n",
    "    'strangulation',\n",
    "    'obstruct breath',\n",
    "    'serious injury',\n",
    "    'injury to',\n",
    "    'injured',\n",
    "    'knifing',\n",
    "    'stabbing',\n",
    "    'stab',\n",
    "    'poison',\n",
    "    'attempt to murder',\n",
    "    'attempted murder',\n",
    "    'hurt',\n",
    "    'hurted',\n",
    "    'wounding',\n",
    "    'wound',\n",
    "    'wounded',\n",
    "    'attempts or threats to murder',\n",
    "    'weapons and explosives offenses',\n",
    "    'aggressive panhandling',\n",
    "    'affray',\n",
    "    'shooting',\n",
    "    'attempted homicide',\n",
    "    'bodily harm',\n",
    "    'grievous bodily harm',\n",
    "    'simply bodily harm',\n",
    "    'female genital mutilation',\n",
    "    'endangering the life or health',\n",
    "    'endangering the welfare',\n",
    "    'participation brawl',\n",
    "    'participation attack',\n",
    "    'representations of acts of violence',\n",
    "    'against humanity',\n",
    "    'endangering public safety with weapons',\n",
    "    'crimes against persons',\n",
    "    'an offense against a person',\n",
    "    'offensive weapon',\n",
    "    'armed dispute',\n",
    "    'abduction',\n",
    "    'violently attacked',\n",
    "    'knife wounds',\n",
    "    'gunshot wounds',\n",
    "    'struck him multiple times',\n",
    "    'stab wound',\n",
    "    'brutally beat',\n",
    "    'was bound with duct tape',\n",
    "    'were bound with duct tape',\n",
    "    'strangled'\n",
    "]"
   ]
  },
  {
   "cell_type": "code",
   "execution_count": 24,
   "id": "32ec5748",
   "metadata": {},
   "outputs": [
    {
     "data": {
      "text/plain": [
       "{'assault', 'assaulted'}"
      ]
     },
     "execution_count": 24,
     "metadata": {},
     "output_type": "execute_result"
    }
   ],
   "source": [
    "ASSAULT_KEY_WORDS = \"|\".join(fr'\\b{str.lower(assault_key_word)}\\b' for assault_key_word in set(assault_key_words))\n",
    "ASSAULT_KEY_WORDS_REGEX = re.compile(r'%s' % ASSAULT_KEY_WORDS, flags=re.I)\n",
    "\n",
    "s = \"\"\"\n",
    "Police from Serious and Organised Crime Branch have arrested four people following an investigation into a serious assault at Henley Beach earlier this month.\n",
    "About 10.45pm on Friday 7 October, a number of staff and security guards were assaulted at a hotel on Seaview Road.\n",
    "Following an investigation, Detectives from Serious and Organised Crime Branch subsequently arrested three men and a woman over the incident. \n",
    "\"\"\"\n",
    "\n",
    "set(ASSAULT_KEY_WORDS_REGEX.findall(s))"
   ]
  },
  {
   "cell_type": "markdown",
   "id": "542a2324",
   "metadata": {},
   "source": [
    "### Homicide"
   ]
  },
  {
   "cell_type": "code",
   "execution_count": 25,
   "id": "8dc03188",
   "metadata": {},
   "outputs": [],
   "source": [
    "homicide_key_words = [\n",
    "    'murder',\n",
    "    'assassination',\n",
    "    'homicide',\n",
    "    'lynching',\n",
    "    'manslaughter',\n",
    "    'genocide',\n",
    "    'kill',\n",
    "    'killed',\n",
    "    'dowry death',\n",
    "    'death investigation',\n",
    "    'fatally shot',\n",
    "    'died after shots fired',\n",
    "    'died after',\n",
    "    'shot', \n",
    "    'shooting', \n",
    "    'shots', \n",
    "    'opened fire', \n",
    "    'gunfire',\n",
    "    'stabbed',\n",
    "    'slaying',\n",
    "    'massacre',\n",
    "    'died of a single gunshot wound', \n",
    "    'died of multiple gunshot wounds',\n",
    "    'deceased victims',\n",
    "    'were found dead',\n",
    "    'investigated as homicides',\n",
    "    'person is dead',\n",
    "    'fatal head injury',\n",
    "    'declared dead',\n",
    "    'shooting death',\n",
    "    'was shot to death',\n",
    "    'were shot to death',\n",
    "    'did not survive the shooting',\n",
    "    'stabbed to death',\n",
    "    'deadly shooting',\n",
    "    'dismembered',\n",
    "    'concealment of a body',\n",
    "    'reported dead by gunshot wound',\n",
    "    'fatal stabbings',\n",
    "]"
   ]
  },
  {
   "cell_type": "code",
   "execution_count": 26,
   "id": "561e8987",
   "metadata": {},
   "outputs": [
    {
     "data": {
      "text/plain": [
       "{'homicide', 'murder'}"
      ]
     },
     "execution_count": 26,
     "metadata": {},
     "output_type": "execute_result"
    }
   ],
   "source": [
    "HOMICIDE_KEY_WORDS = \"|\".join(fr'\\b{str.lower(homicide_key_word)}\\b' for homicide_key_word in set(homicide_key_words))\n",
    "HOMICIDE_KEY_WORDS_REGEX = re.compile(r'%s' % HOMICIDE_KEY_WORDS, flags=re.I)\n",
    "\n",
    "s = \"\"\"\n",
    "Seattle police say they have arrested a 42-year-old man for the double murder of a man and woman in Georgetown.\n",
    "He was booked into the King County jail for investigation of homicide.\n",
    "Police posted in their blotter, a 911 caller reported two down subjects in an apartment in the 6100 block of 4th Avenue South. \n",
    "\"\"\"\n",
    "\n",
    "set(HOMICIDE_KEY_WORDS_REGEX.findall(s))"
   ]
  },
  {
   "cell_type": "code",
   "execution_count": 28,
   "id": "4755f8d2",
   "metadata": {},
   "outputs": [
    {
     "data": {
      "text/plain": [
       "{'Homicide', 'opened fire', 'shooting', 'shot', 'wounded'}"
      ]
     },
     "execution_count": 28,
     "metadata": {},
     "output_type": "execute_result"
    }
   ],
   "source": [
    "crime_words_key = harassment_key_words + theft_key_words + robbery_key_words \\\n",
    "                + auto_theft_key_words + assault_key_words + homicide_key_words\n",
    "\n",
    "CRIME_KEY_WORDS = \"|\".join(fr'\\b{str.lower(crime_key_word)}\\b' for crime_key_word in set(crime_words_key))\n",
    "CRIME_KEY_WORDS_REGEX = re.compile(r'%s' % CRIME_KEY_WORDS, flags=re.I)\n",
    "\n",
    "s = \"\"\"\n",
    "Homicide Filed under: The group was standing outside about 9 p.m. in the 800 block of East 79th Street when someone opened fire before fleeing the scene. \n",
    "Five people wounded in a shooting Friday night in Chatham on the South Side. The group was standing outside about 9 p.m. in the 800 block of\n",
    "East 79th Street when someone opened fire before fleeing the scene, Chicago police said.  A male and female, whose ages weren’t known, were shot \n",
    "in the arm and transported to the University of Chicago Medical Center, police said. The male was in critical condition and the  female was stabilized.\n",
    "A 50-year-old woman was shot in the arm while a man, also 50, was struck in the ankle, police said. Another man, 43, was shot in the shoulder. \n",
    "They were all stabilized and taken to the same hospital, according to police.  Area Two detectives are investigating.  \n",
    "\"\"\"\n",
    "\n",
    "set(CRIME_KEY_WORDS_REGEX.findall(s))"
   ]
  },
  {
   "cell_type": "markdown",
   "id": "70d40447",
   "metadata": {},
   "source": [
    "### Detect news with trials key words"
   ]
  },
  {
   "cell_type": "code",
   "execution_count": 29,
   "id": "2e64815c",
   "metadata": {},
   "outputs": [
    {
     "name": "stdout",
     "output_type": "stream",
     "text": [
      "{'Supreme Court of the United States', 'sentenced', 'judge', 'Convicted', 'convicted'}\n",
      "{'have been charged'}\n"
     ]
    }
   ],
   "source": [
    "trials_key_words = [\n",
    "    'prosecutor', 'prosecutors', \n",
    "    'judge', 'jury', \n",
    "    'trial', 'mistrial', \n",
    "    'sentenced', 'verdict', \n",
    "    'was charged', 'were charged', 'have been charged', 'facing charges',\n",
    "    'probation', 'probations',\n",
    "    'allegation', 'allegations',\n",
    "    'lawsuit', 'lawsuits',\n",
    "    'settle', 'settlement', \n",
    "    'sued', 'convicted',\n",
    "    'letter',\n",
    "    'testified',\n",
    "    'paroled',\n",
    "    'U.S. Supreme Court decision',\n",
    "    'Supreme Court of the United States',\n",
    "]\n",
    "\n",
    "TRIAL_KEY_WORDS = \"|\".join(fr'\\b{str.lower(trials_key_word)}\\b' for trials_key_word in set(trials_key_words))\n",
    "TRIAL_KEY_WORDS_REGEX = re.compile(r'%s' % TRIAL_KEY_WORDS, flags=re.I)\n",
    "\n",
    "s = \"\"\"\n",
    "A 25-year-old man has been sentenced to a year in prison for straw purchasing guns in suburban Chicago by Supreme Court of the United States. \n",
    "Ismael Sene in 2019 and 2020 bought a \n",
    "total of seven handguns from licensed firearms dealers in   and Merrionette Park. During one of the purchases, officials say Sene falsely \n",
    "certified that he was the actual buyer. Sene purchased at least one of the guns for a person whom he had reason to believe was a convicted felon, \n",
    "officials said. Convicted felons under federal law may not purchase or possess a firearm. Sene in each purchase also falsely claimed he was not\n",
    "an unlawful drug user when he regularly used cannabis — a violation of federal law. In June, Sene pleaded guilty to making false statements in \n",
    "connection with purchasing a firearm. Last Friday, a judge sentenced Sene to a year and a day in federal prison. Advertisement \"Straw purchasers,\n",
    "like the defendant, perpetuate the cycle of violence that is terrorizing this city,\" Assistant U.S. Attorney James P. Durkin argued in the \n",
    "government’s sentencing memorandum. \"The tools that drive that mayhem are firearms in the hands of dangerous people who are often legally \n",
    "prohibited from purchasing and possessing them.\n",
    "\"\"\"\n",
    "print(set(TRIAL_KEY_WORDS_REGEX.findall(s)))\n",
    "\n",
    "s = \"\"\"\n",
    "Two men have been charged in connection to a robbery and shooting that killed an armored car driver and critically wounded another in Chicago's\n",
    "Chatham neighborhood Monday morning. Two women and a man were robbed in separate incidents minutes apart Wednesday night in the   neighborhood. \n",
    "The women, 27 and 28, were walking on the sidewalk at 9:21 p.m. in the 800 block of West Wolfram Street when two gunmen got out of a red Mazda SUV \n",
    "and demanded their belongings, police said. The gunmen took their cellphones and purses, police said. Neither woman was hurt during the incident, \n",
    "police said. Less than a half hour later, a 46-year-old man was approached by gunmen as he was entering his building in the 500 block of West \n",
    "Stratford Place, police said. They took his cellphones, wallet and a yellow backpack, police said. The man suffered a minor injury to his jaw but \n",
    "refused treatment at the scene, police said. The gunmen fled in a red Mazda SUV. Police have not said if they believe the two robberies are connected.\n",
    "Advertisement Area Three detectives are investigating.\n",
    "\"\"\"\n",
    "\n",
    "print(set(TRIAL_KEY_WORDS_REGEX.findall(s)))"
   ]
  },
  {
   "cell_type": "markdown",
   "id": "53b3946e",
   "metadata": {},
   "source": [
    "### Detect news with crash keywords"
   ]
  },
  {
   "cell_type": "code",
   "execution_count": 30,
   "id": "090e87d6",
   "metadata": {},
   "outputs": [
    {
     "name": "stdout",
     "output_type": "stream",
     "text": [
      "['Car crashed', 'crash', 'crash', 'crash', 'Crash']\n"
     ]
    }
   ],
   "source": [
    "car_accidents_key_words = [\n",
    "    'traffic crash', 'car accident', 'car crashed', 'truck crashed', 'crash'\n",
    "]\n",
    "\n",
    "CAR_ACCIDENT_KEY_WORDS = \"|\".join(fr'\\b{str.lower(car_accidents_key_word)}\\b'\n",
    "                                    for car_accidents_key_word in set(car_accidents_key_words))\n",
    "\n",
    "CAR_ACCIDENT_KEY_WORDS_REGEX = re.compile(r'%s' % CAR_ACCIDENT_KEY_WORDS, flags=re.I)\n",
    "\n",
    "s = \"\"\"Car crashed A Massachusetts State Police cruiser was involved in a multi-car crash on Route 128 in Needham late Sunday night. At least three vehicles \n",
    "were involved in the crash, officials said. It's not clear if anyone was injured in the crash, which remains under investigation Crash.\n",
    "\"\"\"\n",
    "print(CAR_ACCIDENT_KEY_WORDS_REGEX.findall(s))"
   ]
  },
  {
   "cell_type": "markdown",
   "id": "174aca19",
   "metadata": {},
   "source": [
    "### Detect news about statistics"
   ]
  },
  {
   "cell_type": "code",
   "execution_count": 31,
   "id": "1edbb2d5",
   "metadata": {},
   "outputs": [
    {
     "name": "stdout",
     "output_type": "stream",
     "text": [
      "{'annual', 'this year', 'quarterly'}\n"
     ]
    }
   ],
   "source": [
    "statistics_key_words = [\n",
    "    'annual', 'quarterly', 'record number', 'this year', 'statewide'\n",
    "]\n",
    "\n",
    "STATS_KEY_WORDS = \"|\".join(fr'\\b{str.lower(statistics_key_word)}\\b'\n",
    "                             for statistics_key_word in set(statistics_key_words))\n",
    "\n",
    "STATS_KEY_WORDS_REGEX = re.compile(r'%s' % STATS_KEY_WORDS, flags=re.I)\n",
    "\n",
    "s = \"\"\"\n",
    "The number of homicides in the United States continued to rise in the first three quarters of 2021, but at a slower pace, \n",
    "one year after   that followed  , according to the latest quarterly report published Monday by the Council on Criminal Justice.\n",
    "A study of homicides in 22 cities during the first nine months of this year showed the number of murders was 4% greater than \n",
    "the same period in 2020, with 126 more homicides between January and September, the report says. In the first three quarters of\n",
    "2020, the number of homicides in the same 22 cities rose by 36% over the same time frame in 2019, according to the report. According\n",
    "to a  , the number of homicides during the first half of 2021 increased by 16% compared to the same period last year. The number of\n",
    "homicides in 2020 compared to 2019 rose by 25%, according to an FBI preliminary report, the largest jump since the FBI started releasing\n",
    "annual homicide figures in the 1960s. The spike in violent crime came as the   swept across the country, millions of people protested \n",
    "racial injustice and police brutality following Floyd’s death last year, and the   under the weight of the pandemic. The homicide rate\n",
    "remained elevated through the summer before decreasing in the fall and winter and then increasing again in the spring and summer of \n",
    "this year, the report says\n",
    "\"\"\"\n",
    "\n",
    "print(set(STATS_KEY_WORDS_REGEX.findall(s)))"
   ]
  },
  {
   "cell_type": "markdown",
   "id": "8f601084",
   "metadata": {},
   "source": [
    "### Detect news about gun policy"
   ]
  },
  {
   "cell_type": "code",
   "execution_count": 32,
   "id": "caed4b38",
   "metadata": {},
   "outputs": [
    {
     "name": "stdout",
     "output_type": "stream",
     "text": [
      "{'gun measures', 'gun policy', 'gun owners', 'gun restrictions', 'gun-related restrictions', 'Gun owners'}\n"
     ]
    }
   ],
   "source": [
    "gun_policy_key_words = [\n",
    "    'gun policy', 'gun measures', 'gun policy measures',\n",
    "    'gun restrictions', 'gun-related restrictions', \n",
    "    'gun related restrictions', 'gun owners', 'requirements for carrying a handgun',\n",
    "    'gun control laws', 'gun control', 'concealed carry permit', 'concealed carry of a firearm'\n",
    "    'gun free zones', 'gun-free zones'\n",
    "]\n",
    "\n",
    "GUN_POLICY_KEY_WORDS = \"|\".join(fr'\\b{str.lower(gun_policy_key_word)}\\b'\n",
    "                             for gun_policy_key_word in set(gun_policy_key_words))\n",
    "\n",
    "GUN_POLICY_KEY_WORDS_REGEX = re.compile(r'%s' % GUN_POLICY_KEY_WORDS, flags=re.I)\n",
    "\n",
    "s = \"\"\"\n",
    "By Jennifer De Pinto, Fred Backus, Anthony Salvanto, Kabir Khanna, \\/ CBS News A month after the school shooting \n",
    "in , Texans are overwhelmingly critical of law enforcement's response to the shooting, and a majority feel \n",
    "it's important to investigate their response. Most Texans are concerned about another mass shooting. \n",
    "Texans rate Gov. Abbott's response to Uvalde more negatively than positively. Nearly half of Texans report \n",
    "that the Uvalde shooting has spurred them to support some gun restrictions, and there is support in Texas for \n",
    "some measures. In backing many potential gun measures, Texas looks much like the nation as a whole. We see \n",
    "bipartisan backing for measures like universal background checks and making the minimum age for buying an AR-15 \n",
    "at least 20 years old. But there are more partisan differences on policies focused on the guns themselves. \n",
    "Most Republicans oppose an AR-15 ban in Texas, and more than half oppose a red-flag law, in which a court \n",
    "can order the temporary removal of a gun from a person deemed to be a potential danger. More than half also \n",
    "disapprove of Abbott's overall job performance, but Abbott still leads Beto O'Rourke by eight points among likely \n",
    "voters in the race for governor. Senator John Cornyn is getting mixed marks from his own party on representing \n",
    "Texas' interests as it relates to guns, and this is dragging down Cornyn's overall job approval rating, which is j\n",
    "ust 35% among Texans overall. Almost nine in 10 Texans feel Uvalde law enforcement could have done more to stop the \n",
    "shooter. Criticism is widespread across demographic and political groups. Abbott gets negative marks from younger \n",
    "Texans, women and Black and Latino people for his handling of the Uvalde shooting. Majorities of both Democrats and \n",
    "independents think he's done a bad job, but most in his own party rate his response positively. About eight in 10 \n",
    "Texans are concerned about more mass shootings in Texas like the one in Uvalde, including almost half who are \n",
    "\\\"very concerned.\\\" Women express more concern than men do. Latino and Black people in Texas are more likely than \n",
    "White people to be very concerned about a mass shooting. For about half of Texans, the shooting at Robb elementary \n",
    "has made them more likely to support some gun restrictions. Democrats, whose party has long backed restrictions on \n",
    "guns, are particularly likely to say this, but they are joined by three in 10 Republicans who also say that the \n",
    "shooting has made them more inclined to favor some measures. Texans broadly support background checks and having a \n",
    "minimum age of at least 21. There is majority backing for a \\\"red flag\\\" law in Texas and a ban on the AR-15, \n",
    "but more division among Texans on these measures. Texans' views on these measures are in line with those of \n",
    "Americans overall. Texans' opinions on gun policy measures are connected to what they think would be most \n",
    "effective in trying to prevent mass shootings. Republicans tend to focus on measures not related to guns: more \n",
    "religion and faith in people's lives, better mental health services and more armed security in public places. \n",
    "Democrats look for more gun-related restrictions -- including background checks and red-flag laws, along with more \n",
    "mental health services. Republicans who think Cornyn has done a bad job on gun policy overwhelmingly disapprove of \n",
    "his overall job performance. Cornyn's job approval among Republicans is 20 points lower than it is for Ted Cruz. \n",
    "Most of the interviewing for the poll was conducted as the legislation was being considered and before it was passed. \n",
    "More Texas Republicans said they oppose the legislation that was being considered than favor it. The Texas public \n",
    "overall is more inclined to favor it. Gun owners in Texas, like those in the country overall, are more likely to \n",
    "identify as Republican than Democrat, and that's reflected in some of their views on gun policies, which are similar \n",
    "to Republicans generally. But what does being a gun owner represent? Far and away the top answer is \\\"protection\\\", \n",
    "followed by \\\"responsibility\\\", \\\" freedom\\\" and \\\"self-reliance.\\\" These sentiments are similar across demographics \n",
    "of gun owners, including both men and women. Gov. Abbott gets mixed results when Texans look at the job he's doing. \n",
    "Most Republicans like the job he's doing, most Democrats do not, while independents are split down the middle. \n",
    "Still, in a state that leans more red than the rest of the country, he is viewed as doing a better job as governor \n",
    "than Joe Biden is as president. Despite his low approval marks, early polling shows Greg Abbott with an eight-point \n",
    "lead over Democratic challenger Beto O'Rourke, if the election for governor of Texas were held today.\n",
    "\"\"\"\n",
    "\n",
    "print(set(GUN_POLICY_KEY_WORDS_REGEX.findall(s)))"
   ]
  },
  {
   "cell_type": "markdown",
   "id": "f99bdff5",
   "metadata": {},
   "source": [
    "### Other non-crime key words (COVID-19, firefighters, etc)"
   ]
  },
  {
   "cell_type": "code",
   "execution_count": 37,
   "id": "560a2cad",
   "metadata": {},
   "outputs": [
    {
     "name": "stdout",
     "output_type": "stream",
     "text": [
      "{'COVID-19 Shots', 'injured in a shark attack'}\n"
     ]
    }
   ],
   "source": [
    "no_crime_key_words = [\n",
    "    'injured in a shark attack',\n",
    "    'COVID-19 booster shots',\n",
    "    'COVID-19 shots',\n",
    "    'Pfizer shots', 'shots from Moderna and Pfizer',\n",
    "    'blaze', 'firefighters battled the fire',\n",
    "    'firefighters stop the spread',\n",
    "    'radio tracking collar',\n",
    "    'Tracking Covid-19',\n",
    "    'tracking a chance of storms'\n",
    "]\n",
    "\n",
    "NO_CRIME_KEY_WORDS = \"|\".join(fr'\\b{str.lower(no_crime_key_word)}\\b'\n",
    "                             for no_crime_key_word in set(no_crime_key_words))\n",
    "\n",
    "NO_CRIME_KEY_WORDS_REGEX = re.compile(r'%s' % NO_CRIME_KEY_WORDS, flags=re.I)\n",
    "\n",
    "s = \"\"\"\n",
    "Omicron Boosters: 9 Questions Answered About the Updated COVID-19 Shots injured in a shark attack\n",
    "\"\"\"\n",
    "\n",
    "print(set(NO_CRIME_KEY_WORDS_REGEX.findall(s)))"
   ]
  },
  {
   "cell_type": "markdown",
   "id": "0e213103",
   "metadata": {},
   "source": [
    "### Labeling"
   ]
  },
  {
   "cell_type": "code",
   "execution_count": 38,
   "id": "606851d2",
   "metadata": {},
   "outputs": [
    {
     "data": {
      "text/plain": [
       "0"
      ]
     },
     "execution_count": 38,
     "metadata": {},
     "output_type": "execute_result"
    }
   ],
   "source": [
    "news_df['cleaned_body'].isnull().sum()"
   ]
  },
  {
   "cell_type": "code",
   "execution_count": 39,
   "id": "07848f1a",
   "metadata": {},
   "outputs": [],
   "source": [
    "PUNCTUATION_REGEX= re.compile(r\"\"\"[?.,\\/\\\\><:;'\"\\()!%$*|^\\~`+#]\"\"\")"
   ]
  },
  {
   "cell_type": "code",
   "execution_count": 40,
   "id": "f58e2037",
   "metadata": {},
   "outputs": [
    {
     "name": "stdout",
     "output_type": "stream",
     "text": [
      "0    45241\n",
      "1     4068\n",
      "Name: is_harassment, dtype: int64\n",
      "[]                45241\n",
      "['tracking']        614\n",
      "['abused']          512\n",
      "['harassment']      426\n",
      "['defamation']      328\n",
      "Name: harassment_keywords_body, dtype: int64\n",
      "\n",
      "------------------------------\n",
      "\n",
      "0    46726\n",
      "1     2583\n",
      "Name: is_theft, dtype: int64\n",
      "[]              46726\n",
      "['theft']         640\n",
      "['burglary']      414\n",
      "['stole']         361\n",
      "['steal']         355\n",
      "Name: theft_keywords_body, dtype: int64\n",
      "\n",
      "------------------------------\n",
      "\n",
      "0    47266\n",
      "1     2043\n",
      "Name: is_robbery, dtype: int64\n",
      "[]                   47266\n",
      "['robbery']            844\n",
      "['robbed']             198\n",
      "['armed robbery']      165\n",
      "['robberies']          125\n",
      "Name: robbery_keywords_body, dtype: int64\n",
      "\n",
      "------------------------------\n",
      "\n",
      "0    48624\n",
      "1      685\n",
      "Name: is_auto_theft, dtype: int64\n",
      "[]                 48624\n",
      "['carjacking']       118\n",
      "['hijacked']          92\n",
      "['grand theft']       64\n",
      "['carjackings']       43\n",
      "Name: auto_theft_keywords_body, dtype: int64\n",
      "\n",
      "------------------------------\n",
      "\n",
      "0    26829\n",
      "1    22480\n",
      "Name: is_assault, dtype: int64\n",
      "[]                         26829\n",
      "['shooting']                5083\n",
      "['assault']                 2686\n",
      "['injured']                 1727\n",
      "['injured', 'shooting']     1038\n",
      "Name: assault_keywords_body, dtype: int64\n",
      "\n",
      "------------------------------\n",
      "\n",
      "1    26425\n",
      "0    22884\n",
      "Name: is_homicide, dtype: int64\n",
      "[]              22884\n",
      "['killed']       2671\n",
      "['shot']         1865\n",
      "['murder']       1758\n",
      "['shooting']     1675\n",
      "Name: homicide_keywords_body, dtype: int64\n",
      "\n",
      "------------------------------\n",
      "\n"
     ]
    }
   ],
   "source": [
    "cols = [\n",
    "    'is_harassment',\n",
    "    'is_theft',\n",
    "    'is_robbery',\n",
    "    'is_auto_theft',\n",
    "    'is_assault',\n",
    "    'is_homicide'\n",
    "]\n",
    "\n",
    "regexs = [\n",
    "    HARASSMENT_KEY_WORDS_REGEX,\n",
    "    THEFT_KEY_WORDS_REGEX,\n",
    "    ROBBERY_KEY_WORDS_REGEX,\n",
    "    AUTO_THEFT_KEY_WORDS_REGEX,\n",
    "    ASSAULT_KEY_WORDS_REGEX,\n",
    "    HOMICIDE_KEY_WORDS_REGEX\n",
    "]\n",
    "\n",
    "for col, regex in zip(cols, regexs):\n",
    "    \n",
    "    col_name = (col.split('_')[1] if len(col.split('_')) == 2 else '_'.join(col.split('_')[1:])) + '_keywords_body'\n",
    "    news_df[col_name] = news_df['cleaned_body'].str.lower().apply(lambda x: re.sub(PUNCTUATION_REGEX, \" \", x) if isinstance(x, str) else x)\n",
    "    news_df[col_name] = news_df[col_name].apply(regex.findall)\n",
    "    news_df[col_name] = news_df[col_name].apply(lambda x: [x.strip() for x in sorted(set(x))])\n",
    "    \n",
    "    news_df[col] = 0\n",
    "    news_df.loc[news_df[col_name].astype(str) != '[]', col] = 1\n",
    "    news_df[col] = news_df[col].astype(int)\n",
    "    \n",
    "    print(news_df[col].value_counts().head())\n",
    "    print(news_df[col_name].astype(str).value_counts().head(5))\n",
    "    print('\\n'+'-'*30+'\\n')"
   ]
  },
  {
   "cell_type": "code",
   "execution_count": 41,
   "id": "b612b80a",
   "metadata": {},
   "outputs": [
    {
     "name": "stdout",
     "output_type": "stream",
     "text": [
      "0    31264\n",
      "1    18045\n",
      "Name: is_trial, dtype: int64\n",
      "[]                 31264\n",
      "['judge']           1315\n",
      "['letter']           990\n",
      "['was charged']      806\n",
      "['trial']            610\n",
      "Name: trial_keywords_body, dtype: int64\n",
      "\n",
      "------------------------------\n",
      "\n",
      "0    46583\n",
      "1     2726\n",
      "Name: is_car_accident, dtype: int64\n",
      "[]                           46583\n",
      "['crash']                     2462\n",
      "['car accident']                92\n",
      "['car accident', 'crash']       43\n",
      "['car crashed', 'crash']        43\n",
      "Name: car_accident_keywords_body, dtype: int64\n",
      "\n",
      "------------------------------\n",
      "\n",
      "0    41649\n",
      "1     7660\n",
      "Name: is_stats_news, dtype: int64\n",
      "[]                         41649\n",
      "['this year']               4701\n",
      "['annual']                  1239\n",
      "['statewide']                780\n",
      "['annual', 'this year']      428\n",
      "Name: stats_news_keywords_body, dtype: int64\n",
      "\n",
      "------------------------------\n",
      "\n",
      "0    48279\n",
      "1     1030\n",
      "Name: is_gun_policy_news, dtype: int64\n",
      "[]                               48279\n",
      "['gun control']                    519\n",
      "['gun owners']                     161\n",
      "['gun control', 'gun owners']       64\n",
      "['gun control laws']                44\n",
      "Name: gun_policy_news_keywords_body, dtype: int64\n",
      "\n",
      "------------------------------\n",
      "\n",
      "0    48305\n",
      "1     1004\n",
      "Name: is_non_crime, dtype: int64\n",
      "[]                            48305\n",
      "['blaze']                       824\n",
      "['covid-19 booster shots']       54\n",
      "['covid-19 shots']               54\n",
      "['tracking covid-19']            21\n",
      "Name: non_crime_keywords_body, dtype: int64\n",
      "\n",
      "------------------------------\n",
      "\n"
     ]
    }
   ],
   "source": [
    "cols = [\n",
    "    'is_trial',\n",
    "    'is_car_accident',\n",
    "    'is_stats_news',\n",
    "    'is_gun_policy_news',\n",
    "    'is_non_crime',\n",
    "]\n",
    "\n",
    "regexs = [\n",
    "    TRIAL_KEY_WORDS_REGEX,\n",
    "    CAR_ACCIDENT_KEY_WORDS_REGEX,\n",
    "    STATS_KEY_WORDS_REGEX,\n",
    "    GUN_POLICY_KEY_WORDS_REGEX,\n",
    "    NO_CRIME_KEY_WORDS_REGEX\n",
    "]\n",
    "\n",
    "for col, regex in zip(cols, regexs):\n",
    "    \n",
    "    col_name = (col.split('_')[1] if len(col.split('_')) == 2 else '_'.join(col.split('_')[1:])) + '_keywords_body'\n",
    "    news_df[col_name] = news_df['cleaned_body'].str.lower().apply(lambda x: re.sub(PUNCTUATION_REGEX, \" \", x) if isinstance(x, str) else x)\n",
    "    news_df[col_name] = news_df[col_name].apply(regex.findall)\n",
    "    news_df[col_name] = news_df[col_name].apply(lambda x: [x.strip() for x in sorted(set(x))])\n",
    "    \n",
    "    news_df[col] = 0\n",
    "    news_df.loc[news_df[col_name].astype(str) != '[]', col] = 1\n",
    "    news_df[col] = news_df[col].astype(int)\n",
    "    \n",
    "    print(news_df[col].value_counts().head())\n",
    "    print(news_df[col_name].astype(str).value_counts().head(5))\n",
    "    print('\\n'+'-'*30+'\\n')"
   ]
  },
  {
   "cell_type": "code",
   "execution_count": 42,
   "id": "364bb94e",
   "metadata": {},
   "outputs": [
    {
     "name": "stdout",
     "output_type": "stream",
     "text": [
      "True     0.524914\n",
      "False    0.475086\n",
      "Name: is_criminal, dtype: float64\n",
      "\n",
      "0    48127\n",
      "1     1182\n",
      "Name: is_harassment, dtype: int64\n",
      "------------------------------\n",
      "0    48571\n",
      "1      738\n",
      "Name: is_theft, dtype: int64\n",
      "------------------------------\n",
      "0    48620\n",
      "1      689\n",
      "Name: is_robbery, dtype: int64\n",
      "------------------------------\n",
      "0    49083\n",
      "1      226\n",
      "Name: is_auto_theft, dtype: int64\n",
      "------------------------------\n",
      "0    39690\n",
      "1     9619\n",
      "Name: is_assault, dtype: int64\n",
      "------------------------------\n",
      "0    37483\n",
      "1    11826\n",
      "Name: is_homicide, dtype: int64\n",
      "------------------------------\n"
     ]
    }
   ],
   "source": [
    "# set is_criminal = 0 if is_trial/is_car_accident/is_stats_news = 1\n",
    "crime_cols = [\n",
    "    'is_harassment',\n",
    "    'is_theft',\n",
    "    'is_robbery',\n",
    "    'is_auto_theft',\n",
    "    'is_assault',\n",
    "    'is_homicide'\n",
    "]\n",
    "\n",
    "news_df.loc[news_df['is_trial'] == 1, crime_cols] = 0\n",
    "news_df.loc[news_df['is_car_accident'] == 1, crime_cols] = 0\n",
    "news_df.loc[news_df['is_stats_news'] == 1, crime_cols] = 0\n",
    "news_df.loc[news_df['is_gun_policy_news'] == 1, crime_cols] = 0\n",
    "news_df.loc[news_df['is_non_crime'] == 1, crime_cols] = 0\n",
    "\n",
    "news_df['is_criminal'] = news_df[cols].apply(any, axis=1)\n",
    "\n",
    "print(news_df['is_criminal'].value_counts(normalize=True), end='\\n\\n')\n",
    "\n",
    "for col in crime_cols:\n",
    "    print(news_df[col].value_counts())\n",
    "    print('-'*30)"
   ]
  },
  {
   "cell_type": "code",
   "execution_count": 36,
   "id": "afa15a48",
   "metadata": {},
   "outputs": [],
   "source": [
    "#plot_wordcloud(news_df[news_df['is_criminal'] == 0][\"cleaned_body\"], \n",
    "#               title=\"Word Cloud of non-criminal news\",\n",
    "#               max_words=200)"
   ]
  },
  {
   "cell_type": "code",
   "execution_count": 37,
   "id": "b576fd57",
   "metadata": {},
   "outputs": [],
   "source": [
    "#plot_wordcloud(news_df[news_df['is_harassment'] == 1][\"cleaned_body\"], \n",
    "#               title=\"Word Cloud of harassment news\",\n",
    "#               max_words=200)"
   ]
  },
  {
   "cell_type": "code",
   "execution_count": 38,
   "id": "9b042324",
   "metadata": {},
   "outputs": [],
   "source": [
    "#plot_wordcloud(news_df[news_df['is_theft'] == 1][\"cleaned_body\"], \n",
    "#               title=\"Word Cloud of theft news\",\n",
    "#               max_words=200)"
   ]
  },
  {
   "cell_type": "code",
   "execution_count": 39,
   "id": "3d8ad166",
   "metadata": {},
   "outputs": [],
   "source": [
    "#plot_wordcloud(news_df[news_df['is_robbery'] == 1][\"cleaned_body\"], \n",
    "#               title=\"Word Cloud of robbery news\",\n",
    "#               max_words=200)"
   ]
  },
  {
   "cell_type": "code",
   "execution_count": 40,
   "id": "0abf5a4d",
   "metadata": {},
   "outputs": [],
   "source": [
    "#plot_wordcloud(news_df[news_df['is_auto_theft'] == 1][\"cleaned_body\"], \n",
    "#               title=\"Word Cloud of auto theft news\",\n",
    "#               max_words=200)"
   ]
  },
  {
   "cell_type": "code",
   "execution_count": 41,
   "id": "0fa3b9fd",
   "metadata": {},
   "outputs": [],
   "source": [
    "#plot_wordcloud(news_df[news_df['is_assault'] == 1][\"cleaned_body\"], \n",
    "#               title=\"Word Cloud of assault news\",\n",
    "#               max_words=200)"
   ]
  },
  {
   "cell_type": "code",
   "execution_count": 42,
   "id": "7cbd8be2",
   "metadata": {},
   "outputs": [],
   "source": [
    "#plot_wordcloud(news_df[news_df['is_homicide'] == 1][\"cleaned_body\"], \n",
    "#               title=\"Word Cloud of homicide news\",\n",
    "#               max_words=200)"
   ]
  },
  {
   "cell_type": "markdown",
   "id": "b95b177e",
   "metadata": {},
   "source": [
    "## Create patterns (PhraseMatcher) for prodigy"
   ]
  },
  {
   "cell_type": "code",
   "execution_count": 43,
   "id": "1554e8a6",
   "metadata": {},
   "outputs": [],
   "source": [
    "PATH_TO_PATTERNS = os.path.join(PATH_TO_PROJECT_X_REPO, r\"notebooks\\nazar_notebooks\\labeling_patterns\")"
   ]
  },
  {
   "cell_type": "code",
   "execution_count": 44,
   "id": "4e829d2d",
   "metadata": {},
   "outputs": [
    {
     "name": "stdout",
     "output_type": "stream",
     "text": [
      "{'label': 'HARASSMENT', 'pattern': [{'lower': 'abused'}]}\n",
      "{'label': 'HARASSMENT', 'pattern': [{'lower': 'obscenity'}]}\n",
      "{'label': 'HARASSMENT', 'pattern': [{'lower': 'defamation'}]}\n",
      "{'label': 'HARASSMENT', 'pattern': [{'lower': 'tracking'}]}\n",
      "{'label': 'HARASSMENT', 'pattern': [{'lower': 'harassment'}]}\n",
      "{'label': 'HARASSMENT', 'pattern': [{'lower': 'harassing'}]}\n",
      "{'label': 'HARASSMENT', 'pattern': [{'lower': 'harass'}]}\n",
      "{'label': 'HARASSMENT', 'pattern': [{'lower': 'harassed'}]}\n",
      "{'label': 'HARASSMENT', 'pattern': [{'lower': 'stalking'}]}\n",
      "{'label': 'HARASSMENT', 'pattern': [{'lower': 'bully'}]}\n",
      "{'label': 'HARASSMENT', 'pattern': [{'lower': 'bullied'}]}\n",
      "{'label': 'HARASSMENT', 'pattern': [{'lower': 'intimidation'}]}\n",
      "{'label': 'HARASSMENT', 'pattern': [{'lower': 'peeping'}, {'lower': 'tom'}]}\n",
      "{'label': 'HARASSMENT', 'pattern': [{'lower': 'insult'}]}\n",
      "{'label': 'HARASSMENT', 'pattern': [{'lower': 'intent'}, {'lower': 'to'}, {'lower': 'outrage'}, {'lower': 'her'}, {'lower': 'modesty'}]}\n",
      "{'label': 'HARASSMENT', 'pattern': [{'lower': 'unlawful'}, {'lower': 'exposure'}]}\n",
      "{'label': 'HARASSMENT', 'pattern': [{'lower': 'accosting'}]}\n",
      "{'label': 'HARASSMENT', 'pattern': [{'lower': 'intimidating'}]}\n",
      "{'label': 'HARASSMENT', 'pattern': [{'lower': 'intimidate'}]}\n",
      "{'label': 'HARASSMENT', 'pattern': [{'lower': 'intimidated'}]}\n",
      "{'label': 'HARASSMENT', 'pattern': [{'lower': 'obscene'}]}\n",
      "{'label': 'HARASSMENT', 'pattern': [{'lower': 'obscene'}, {'lower': 'phone'}, {'lower': 'calls'}]}\n",
      "{'label': 'HARASSMENT', 'pattern': [{'lower': 'Obscene'}, {'lower': 'phone'}, {'lower': 'call'}]}\n",
      "{'label': 'HARASSMENT', 'pattern': [{'lower': 'armed'}, {'lower': 'disturb'}]}\n",
      "{'label': 'HARASSMENT', 'pattern': [{'lower': 'hurled'}, {'lower': 'racist'}, {'lower': 'slurs'}]}\n",
      "{'label': 'HARASSMENT', 'pattern': [{'lower': 'coercion'}]}\n",
      "{'label': 'HARASSMENT', 'pattern': [{'lower': 'cursing'}]}\n",
      "{'label': 'HARASSMENT', 'pattern': [{'lower': 'threatened'}, {'lower': 'to'}, {'lower': 'kill'}]}\n",
      "{'label': 'HARASSMENT', 'pattern': [{'lower': 'threatening'}, {'lower': 'to'}, {'lower': 'kill'}]}\n",
      "{'label': 'HARASSMENT', 'pattern': [{'lower': 'groping'}]}\n",
      "{'label': 'HARASSMENT', 'pattern': [{'lower': 'groped'}]}\n",
      "{'label': 'HARASSMENT', 'pattern': [{'lower': 'intimidation'}, {'lower': 'with'}, {'lower': 'a'}, {'lower': 'dangerous'}, {'lower': 'weapon'}]}\n",
      "{'label': 'HARASSMENT', 'pattern': [{'lower': 'threatening'}, {'lower': 'to'}, {'lower': 'shoot'}]}\n",
      "\n"
     ]
    }
   ],
   "source": [
    "harassment_pattern = ''\n",
    "\n",
    "for key in harassment_key_words:\n",
    "    if len(key.split()) > 1:\n",
    "        pattern = []\n",
    "        for word in key.split():\n",
    "            pattern.append({'lower' : word})\n",
    "        #theft_pattern += json.dumps({'label': 'THEFT', 'pattern': pattern}) + '\\n'\n",
    "        harassment_pattern += str({'label': 'HARASSMENT', 'pattern': pattern}) + '\\n'\n",
    "    else:\n",
    "        #theft_pattern += json.dumps({'label': 'THEFT', 'pattern': [{'lower': key}]}) + '\\n'\n",
    "        harassment_pattern += str({'label': 'HARASSMENT', 'pattern': [{'lower': key}]}) + '\\n'\n",
    "        \n",
    "print(harassment_pattern)"
   ]
  },
  {
   "cell_type": "code",
   "execution_count": 45,
   "id": "c971ba05",
   "metadata": {},
   "outputs": [
    {
     "name": "stdout",
     "output_type": "stream",
     "text": [
      "{'label': 'THEFT', 'pattern': [{'lower': 'theft'}]}\n",
      "{'label': 'THEFT', 'pattern': [{'lower': 'industrial'}, {'lower': 'espionage'}]}\n",
      "{'label': 'THEFT', 'pattern': [{'lower': 'burglary'}]}\n",
      "{'label': 'THEFT', 'pattern': [{'lower': 'burglaries'}]}\n",
      "{'label': 'THEFT', 'pattern': [{'lower': 'burglar'}]}\n",
      "{'label': 'THEFT', 'pattern': [{'lower': 'steal'}]}\n",
      "{'label': 'THEFT', 'pattern': [{'lower': 'stole'}]}\n",
      "{'label': 'THEFT', 'pattern': [{'lower': 'shoplifting'}]}\n",
      "{'label': 'THEFT', 'pattern': [{'lower': 'larceny'}]}\n",
      "{'label': 'THEFT', 'pattern': [{'lower': 'pocket-picking'}]}\n",
      "{'label': 'THEFT', 'pattern': [{'lower': 'obtaining'}, {'lower': 'a'}, {'lower': 'service'}, {'lower': 'without'}, {'lower': 'payment'}]}\n",
      "{'label': 'THEFT', 'pattern': [{'lower': 'obtained'}, {'lower': 'a'}, {'lower': 'service'}, {'lower': 'without'}, {'lower': 'payment'}]}\n",
      "{'label': 'THEFT', 'pattern': [{'lower': 'false'}, {'lower': 'pretenses'}]}\n",
      "{'label': 'THEFT', 'pattern': [{'lower': 'swindle'}]}\n",
      "{'label': 'THEFT', 'pattern': [{'lower': 'confidence'}, {'lower': 'game'}]}\n",
      "{'label': 'THEFT', 'pattern': [{'lower': 'making'}, {'lower': 'off'}, {'lower': 'from'}, {'lower': 'a'}, {'lower': 'hotel'}]}\n",
      "{'label': 'THEFT', 'pattern': [{'lower': 'made'}, {'lower': 'off'}, {'lower': 'from'}, {'lower': 'a'}, {'lower': 'hotel'}]}\n",
      "{'label': 'THEFT', 'pattern': [{'lower': 'restaurant'}, {'lower': 'without'}, {'lower': 'payment'}]}\n",
      "{'label': 'THEFT', 'pattern': [{'lower': 'bar'}, {'lower': 'without'}, {'lower': 'payment'}]}\n",
      "{'label': 'THEFT', 'pattern': [{'lower': 'pickpocketing'}]}\n",
      "{'label': 'THEFT', 'pattern': [{'lower': 'pickpocket'}]}\n",
      "{'label': 'THEFT', 'pattern': [{'lower': 'shop-lifting'}]}\n",
      "{'label': 'THEFT', 'pattern': [{'lower': 'shoplift'}]}\n",
      "{'label': 'THEFT', 'pattern': [{'lower': 'shoplifted'}]}\n",
      "\n",
      "1790\n"
     ]
    }
   ],
   "source": [
    "theft_pattern = ''\n",
    "\n",
    "for key in theft_key_words:\n",
    "    if len(key.split()) > 1:\n",
    "        pattern = []\n",
    "        for word in key.split():\n",
    "            pattern.append({'lower' : word})\n",
    "        #theft_pattern += json.dumps({'label': 'THEFT', 'pattern': pattern}) + '\\n'\n",
    "        theft_pattern += str({'label': 'THEFT', 'pattern': pattern}) + '\\n'\n",
    "    else:\n",
    "        #theft_pattern += json.dumps({'label': 'THEFT', 'pattern': [{'lower': key}]}) + '\\n'\n",
    "        theft_pattern += str({'label': 'THEFT', 'pattern': [{'lower': key}]}) + '\\n'\n",
    "        \n",
    "print(theft_pattern)\n",
    "print(len(theft_pattern))"
   ]
  },
  {
   "cell_type": "code",
   "execution_count": 46,
   "id": "70204dbf",
   "metadata": {},
   "outputs": [
    {
     "name": "stdout",
     "output_type": "stream",
     "text": [
      "{'label': 'ROBBERY', 'pattern': [{'lower': 'snatching'}]}\n",
      "{'label': 'ROBBERY', 'pattern': [{'lower': 'purse-snatching'}]}\n",
      "{'label': 'ROBBERY', 'pattern': [{'lower': 'robbery'}]}\n",
      "{'label': 'ROBBERY', 'pattern': [{'lower': 'robbers'}]}\n",
      "{'label': 'ROBBERY', 'pattern': [{'lower': 'robberies'}]}\n",
      "{'label': 'ROBBERY', 'pattern': [{'lower': 'robbing'}]}\n",
      "{'label': 'ROBBERY', 'pattern': [{'lower': 'robber'}]}\n",
      "{'label': 'ROBBERY', 'pattern': [{'lower': 'robbed'}]}\n",
      "{'label': 'ROBBERY', 'pattern': [{'lower': 'housebreaking'}]}\n",
      "{'label': 'ROBBERY', 'pattern': [{'lower': 'break'}, {'lower': 'and'}, {'lower': 'enter'}]}\n",
      "{'label': 'ROBBERY', 'pattern': [{'lower': 'violent'}, {'lower': 'robbery'}]}\n",
      "{'label': 'ROBBERY', 'pattern': [{'lower': 'snatch'}]}\n",
      "{'label': 'ROBBERY', 'pattern': [{'lower': 'snatched'}]}\n",
      "{'label': 'ROBBERY', 'pattern': [{'lower': 'mugging'}]}\n",
      "{'label': 'ROBBERY', 'pattern': [{'lower': 'armed'}, {'lower': 'robbery'}]}\n",
      "\n"
     ]
    }
   ],
   "source": [
    "robbery_pattern = ''\n",
    "\n",
    "for key in robbery_key_words:\n",
    "    if len(key.split()) > 1:\n",
    "        pattern = []\n",
    "        for word in key.split():\n",
    "            pattern.append({'lower' : word})\n",
    "        robbery_pattern += str({'label': 'ROBBERY', 'pattern': pattern}) + '\\n'\n",
    "    else:\n",
    "        robbery_pattern += str({'label': 'ROBBERY', 'pattern': [{'lower': key}]}) + '\\n'\n",
    "        \n",
    "print(robbery_pattern)"
   ]
  },
  {
   "cell_type": "code",
   "execution_count": 47,
   "id": "2d6af403",
   "metadata": {},
   "outputs": [
    {
     "name": "stdout",
     "output_type": "stream",
     "text": [
      "{'label': 'AUTO_THEFT', 'pattern': [{'lower': 'carjacking'}]}\n",
      "{'label': 'AUTO_THEFT', 'pattern': [{'lower': 'carjackings'}]}\n",
      "{'label': 'AUTO_THEFT', 'pattern': [{'lower': 'hijacking'}]}\n",
      "{'label': 'AUTO_THEFT', 'pattern': [{'lower': 'hijackings'}]}\n",
      "{'label': 'AUTO_THEFT', 'pattern': [{'lower': 'hijacked'}]}\n",
      "{'label': 'AUTO_THEFT', 'pattern': [{'lower': 'hijack'}]}\n",
      "{'label': 'AUTO_THEFT', 'pattern': [{'lower': 'conveyance'}]}\n",
      "{'label': 'AUTO_THEFT', 'pattern': [{'lower': 'vehicle'}, {'lower': 'larceny'}]}\n",
      "{'label': 'AUTO_THEFT', 'pattern': [{'lower': 'vehicle'}, {'lower': 'theft'}]}\n",
      "{'label': 'AUTO_THEFT', 'pattern': [{'lower': 'vehicle'}, {'lower': 'grand'}]}\n",
      "{'label': 'AUTO_THEFT', 'pattern': [{'lower': 'gta'}]}\n",
      "{'label': 'AUTO_THEFT', 'pattern': [{'lower': 'car'}, {'lower': 'jack'}]}\n",
      "{'label': 'AUTO_THEFT', 'pattern': [{'lower': 'car'}, {'lower': 'theft'}]}\n",
      "{'label': 'AUTO_THEFT', 'pattern': [{'lower': 'car'}, {'lower': 'was'}, {'lower': 'stolen'}]}\n",
      "{'label': 'AUTO_THEFT', 'pattern': [{'lower': 'carjacker'}]}\n",
      "{'label': 'AUTO_THEFT', 'pattern': [{'lower': 'carjackers'}]}\n",
      "{'label': 'AUTO_THEFT', 'pattern': [{'lower': 'carjack'}]}\n",
      "{'label': 'AUTO_THEFT', 'pattern': [{'lower': 'carjacked'}]}\n",
      "{'label': 'AUTO_THEFT', 'pattern': [{'lower': 'steal'}, {'lower': 'a'}, {'lower': 'car'}]}\n",
      "{'label': 'AUTO_THEFT', 'pattern': [{'lower': 'stole'}, {'lower': 'a'}, {'lower': 'car'}]}\n",
      "{'label': 'AUTO_THEFT', 'pattern': [{'lower': 'steal'}, {'lower': 'car'}]}\n",
      "{'label': 'AUTO_THEFT', 'pattern': [{'lower': 'stole'}, {'lower': 'car'}]}\n",
      "{'label': 'AUTO_THEFT', 'pattern': [{'lower': 'stole'}, {'lower': 'a'}, {'lower': 'vehicle'}]}\n",
      "{'label': 'AUTO_THEFT', 'pattern': [{'lower': 'stole'}, {'lower': 'another'}, {'lower': 'vehicle'}]}\n",
      "{'label': 'AUTO_THEFT', 'pattern': [{'lower': 'stole'}, {'lower': 'a'}, {'lower': 'Chevy'}, {'lower': 'truck'}]}\n",
      "{'label': 'AUTO_THEFT', 'pattern': [{'lower': 'stole'}, {'lower': 'another'}, {'lower': 'motor'}, {'lower': 'vehicle'}]}\n",
      "{'label': 'AUTO_THEFT', 'pattern': [{'lower': 'armed'}, {'lower': 'carjacking'}]}\n",
      "{'label': 'AUTO_THEFT', 'pattern': [{'lower': 'stole'}, {'lower': 'her'}, {'lower': 'car'}]}\n",
      "{'label': 'AUTO_THEFT', 'pattern': [{'lower': 'stole'}, {'lower': 'his'}, {'lower': 'car'}]}\n",
      "{'label': 'AUTO_THEFT', 'pattern': [{'lower': 'stole'}, {'lower': 'their'}, {'lower': 'car'}]}\n",
      "{'label': 'AUTO_THEFT', 'pattern': [{'lower': 'theft'}, {'lower': 'of'}, {'lower': 'a'}, {'lower': 'motor'}, {'lower': 'vehicle'}]}\n",
      "{'label': 'AUTO_THEFT', 'pattern': [{'lower': 'stole'}, {'lower': 'a'}, {'lower': 'truck'}]}\n",
      "{'label': 'AUTO_THEFT', 'pattern': [{'lower': 'grand'}, {'lower': 'theft'}]}\n",
      "{'label': 'AUTO_THEFT', 'pattern': [{'lower': 'grand'}, {'lower': 'theft'}, {'lower': 'auto'}]}\n",
      "{'label': 'AUTO_THEFT', 'pattern': [{'lower': 'stole'}, {'lower': 'his'}, {'lower': 'vehicle'}]}\n",
      "{'label': 'AUTO_THEFT', 'pattern': [{'lower': 'commandeered'}, {'lower': 'the'}, {'lower': 'vehicle'}]}\n",
      "{'label': 'AUTO_THEFT', 'pattern': [{'lower': 'motor'}, {'lower': 'vehicle'}, {'lower': 'theft'}]}\n",
      "{'label': 'AUTO_THEFT', 'pattern': [{'lower': 'vehicle'}, {'lower': 'was'}, {'lower': 'stolen'}]}\n",
      "{'label': 'AUTO_THEFT', 'pattern': [{'lower': 'Vehicle'}, {'lower': 'was'}, {'lower': 'burglarized'}]}\n",
      "{'label': 'AUTO_THEFT', 'pattern': [{'lower': 'stolen'}, {'lower': 'van'}]}\n",
      "{'label': 'AUTO_THEFT', 'pattern': [{'lower': 'van'}, {'lower': 'robbers'}]}\n",
      "{'label': 'AUTO_THEFT', 'pattern': [{'lower': 'stolen'}, {'lower': 'pickup'}, {'lower': 'truck'}]}\n",
      "\n"
     ]
    }
   ],
   "source": [
    "auto_theft_pattern = ''\n",
    "\n",
    "for key in auto_theft_key_words:\n",
    "    if len(key.split()) > 1:\n",
    "        pattern = []\n",
    "        for word in key.split():\n",
    "            pattern.append({'lower' : word})\n",
    "        auto_theft_pattern += str({'label': 'AUTO_THEFT', 'pattern': pattern}) + '\\n'\n",
    "    else:\n",
    "        auto_theft_pattern += str({'label': 'AUTO_THEFT', 'pattern': [{'lower': key}]}) + '\\n'\n",
    "        \n",
    "print(auto_theft_pattern)"
   ]
  },
  {
   "cell_type": "code",
   "execution_count": 48,
   "id": "82a17215",
   "metadata": {},
   "outputs": [
    {
     "name": "stdout",
     "output_type": "stream",
     "text": [
      "{'label': 'ASSAULT', 'pattern': [{'lower': 'assault'}]}\n",
      "{'label': 'ASSAULT', 'pattern': [{'lower': 'aggravated'}, {'lower': 'assault'}]}\n",
      "{'label': 'ASSAULT', 'pattern': [{'lower': 'assaulted'}]}\n",
      "{'label': 'ASSAULT', 'pattern': [{'lower': 'weapons'}, {'lower': 'offense'}]}\n",
      "{'label': 'ASSAULT', 'pattern': [{'lower': 'hit-and-run'}]}\n",
      "{'label': 'ASSAULT', 'pattern': [{'lower': 'hit'}, {'lower': 'and'}, {'lower': 'run'}]}\n",
      "{'label': 'ASSAULT', 'pattern': [{'lower': 'strangulation'}]}\n",
      "{'label': 'ASSAULT', 'pattern': [{'lower': 'obstruct'}, {'lower': 'breath'}]}\n",
      "{'label': 'ASSAULT', 'pattern': [{'lower': 'serious'}, {'lower': 'injury'}]}\n",
      "{'label': 'ASSAULT', 'pattern': [{'lower': 'injury'}, {'lower': 'to'}]}\n",
      "{'label': 'ASSAULT', 'pattern': [{'lower': 'injured'}]}\n",
      "{'label': 'ASSAULT', 'pattern': [{'lower': 'knifing'}]}\n",
      "{'label': 'ASSAULT', 'pattern': [{'lower': 'stabbing'}]}\n",
      "{'label': 'ASSAULT', 'pattern': [{'lower': 'stab'}]}\n",
      "{'label': 'ASSAULT', 'pattern': [{'lower': 'poison'}]}\n",
      "{'label': 'ASSAULT', 'pattern': [{'lower': 'attempt'}, {'lower': 'to'}, {'lower': 'murder'}]}\n",
      "{'label': 'ASSAULT', 'pattern': [{'lower': 'attempted'}, {'lower': 'murder'}]}\n",
      "{'label': 'ASSAULT', 'pattern': [{'lower': 'hurt'}]}\n",
      "{'label': 'ASSAULT', 'pattern': [{'lower': 'hurted'}]}\n",
      "{'label': 'ASSAULT', 'pattern': [{'lower': 'wounding'}]}\n",
      "{'label': 'ASSAULT', 'pattern': [{'lower': 'wound'}]}\n",
      "{'label': 'ASSAULT', 'pattern': [{'lower': 'wounded'}]}\n",
      "{'label': 'ASSAULT', 'pattern': [{'lower': 'attempts'}, {'lower': 'or'}, {'lower': 'threats'}, {'lower': 'to'}, {'lower': 'murder'}]}\n",
      "{'label': 'ASSAULT', 'pattern': [{'lower': 'weapons'}, {'lower': 'and'}, {'lower': 'explosives'}, {'lower': 'offenses'}]}\n",
      "{'label': 'ASSAULT', 'pattern': [{'lower': 'aggressive'}, {'lower': 'panhandling'}]}\n",
      "{'label': 'ASSAULT', 'pattern': [{'lower': 'affray'}]}\n",
      "{'label': 'ASSAULT', 'pattern': [{'lower': 'shooting'}]}\n",
      "{'label': 'ASSAULT', 'pattern': [{'lower': 'attempted'}, {'lower': 'homicide'}]}\n",
      "{'label': 'ASSAULT', 'pattern': [{'lower': 'bodily'}, {'lower': 'harm'}]}\n",
      "{'label': 'ASSAULT', 'pattern': [{'lower': 'grievous'}, {'lower': 'bodily'}, {'lower': 'harm'}]}\n",
      "{'label': 'ASSAULT', 'pattern': [{'lower': 'simply'}, {'lower': 'bodily'}, {'lower': 'harm'}]}\n",
      "{'label': 'ASSAULT', 'pattern': [{'lower': 'female'}, {'lower': 'genital'}, {'lower': 'mutilation'}]}\n",
      "{'label': 'ASSAULT', 'pattern': [{'lower': 'endangering'}, {'lower': 'the'}, {'lower': 'life'}, {'lower': 'or'}, {'lower': 'health'}]}\n",
      "{'label': 'ASSAULT', 'pattern': [{'lower': 'endangering'}, {'lower': 'the'}, {'lower': 'welfare'}]}\n",
      "{'label': 'ASSAULT', 'pattern': [{'lower': 'participation'}, {'lower': 'brawl'}]}\n",
      "{'label': 'ASSAULT', 'pattern': [{'lower': 'participation'}, {'lower': 'attack'}]}\n",
      "{'label': 'ASSAULT', 'pattern': [{'lower': 'representations'}, {'lower': 'of'}, {'lower': 'acts'}, {'lower': 'of'}, {'lower': 'violence'}]}\n",
      "{'label': 'ASSAULT', 'pattern': [{'lower': 'against'}, {'lower': 'humanity'}]}\n",
      "{'label': 'ASSAULT', 'pattern': [{'lower': 'endangering'}, {'lower': 'public'}, {'lower': 'safety'}, {'lower': 'with'}, {'lower': 'weapons'}]}\n",
      "{'label': 'ASSAULT', 'pattern': [{'lower': 'crimes'}, {'lower': 'against'}, {'lower': 'persons'}]}\n",
      "{'label': 'ASSAULT', 'pattern': [{'lower': 'an'}, {'lower': 'offense'}, {'lower': 'against'}, {'lower': 'a'}, {'lower': 'person'}]}\n",
      "{'label': 'ASSAULT', 'pattern': [{'lower': 'offensive'}, {'lower': 'weapon'}]}\n",
      "{'label': 'ASSAULT', 'pattern': [{'lower': 'armed'}, {'lower': 'dispute'}]}\n",
      "{'label': 'ASSAULT', 'pattern': [{'lower': 'abduction'}]}\n",
      "{'label': 'ASSAULT', 'pattern': [{'lower': 'violently'}, {'lower': 'attacked'}]}\n",
      "{'label': 'ASSAULT', 'pattern': [{'lower': 'knife'}, {'lower': 'wounds'}]}\n",
      "{'label': 'ASSAULT', 'pattern': [{'lower': 'gunshot'}, {'lower': 'wounds'}]}\n",
      "{'label': 'ASSAULT', 'pattern': [{'lower': 'struck'}, {'lower': 'him'}, {'lower': 'multiple'}, {'lower': 'times'}]}\n",
      "{'label': 'ASSAULT', 'pattern': [{'lower': 'stab'}, {'lower': 'wound'}]}\n",
      "{'label': 'ASSAULT', 'pattern': [{'lower': 'brutally'}, {'lower': 'beat'}]}\n",
      "{'label': 'ASSAULT', 'pattern': [{'lower': 'was'}, {'lower': 'bound'}, {'lower': 'with'}, {'lower': 'duct'}, {'lower': 'tape'}]}\n",
      "{'label': 'ASSAULT', 'pattern': [{'lower': 'were'}, {'lower': 'bound'}, {'lower': 'with'}, {'lower': 'duct'}, {'lower': 'tape'}]}\n",
      "\n"
     ]
    }
   ],
   "source": [
    "assault_pattern = ''\n",
    "\n",
    "for key in assault_key_words:\n",
    "    if len(key.split()) > 1:\n",
    "        pattern = []\n",
    "        for word in key.split():\n",
    "            pattern.append({'lower' : word})\n",
    "        assault_pattern += str({'label': 'ASSAULT', 'pattern': pattern}) + '\\n'\n",
    "    else:\n",
    "        assault_pattern += str({'label': 'ASSAULT', 'pattern': [{'lower': key}]}) + '\\n'\n",
    "        \n",
    "print(assault_pattern)"
   ]
  },
  {
   "cell_type": "code",
   "execution_count": 49,
   "id": "107e5275",
   "metadata": {},
   "outputs": [
    {
     "name": "stdout",
     "output_type": "stream",
     "text": [
      "{'label': 'HOMICIDE', 'pattern': [{'lower': 'murder'}]}\n",
      "{'label': 'HOMICIDE', 'pattern': [{'lower': 'assassination'}]}\n",
      "{'label': 'HOMICIDE', 'pattern': [{'lower': 'homicide'}]}\n",
      "{'label': 'HOMICIDE', 'pattern': [{'lower': 'lynching'}]}\n",
      "{'label': 'HOMICIDE', 'pattern': [{'lower': 'manslaughter'}]}\n",
      "{'label': 'HOMICIDE', 'pattern': [{'lower': 'genocide'}]}\n",
      "{'label': 'HOMICIDE', 'pattern': [{'lower': 'kill'}]}\n",
      "{'label': 'HOMICIDE', 'pattern': [{'lower': 'killed'}]}\n",
      "{'label': 'HOMICIDE', 'pattern': [{'lower': 'dowry'}, {'lower': 'death'}]}\n",
      "{'label': 'HOMICIDE', 'pattern': [{'lower': 'death'}, {'lower': 'investigation'}]}\n",
      "{'label': 'HOMICIDE', 'pattern': [{'lower': 'fatally'}, {'lower': 'shot'}]}\n",
      "{'label': 'HOMICIDE', 'pattern': [{'lower': 'died'}, {'lower': 'after'}, {'lower': 'shots'}, {'lower': 'fired'}]}\n",
      "{'label': 'HOMICIDE', 'pattern': [{'lower': 'died'}, {'lower': 'after'}]}\n",
      "{'label': 'HOMICIDE', 'pattern': [{'lower': 'shot'}]}\n",
      "{'label': 'HOMICIDE', 'pattern': [{'lower': 'shooting'}]}\n",
      "{'label': 'HOMICIDE', 'pattern': [{'lower': 'shots'}]}\n",
      "{'label': 'HOMICIDE', 'pattern': [{'lower': 'opened'}, {'lower': 'fire'}]}\n",
      "{'label': 'HOMICIDE', 'pattern': [{'lower': 'gunfire'}]}\n",
      "{'label': 'HOMICIDE', 'pattern': [{'lower': 'stabbed'}]}\n",
      "{'label': 'HOMICIDE', 'pattern': [{'lower': 'slaying'}]}\n",
      "{'label': 'HOMICIDE', 'pattern': [{'lower': 'massacre'}]}\n",
      "{'label': 'HOMICIDE', 'pattern': [{'lower': 'died'}, {'lower': 'of'}, {'lower': 'a'}, {'lower': 'single'}, {'lower': 'gunshot'}, {'lower': 'wound'}]}\n",
      "{'label': 'HOMICIDE', 'pattern': [{'lower': 'died'}, {'lower': 'of'}, {'lower': 'multiple'}, {'lower': 'gunshot'}, {'lower': 'wounds'}]}\n",
      "{'label': 'HOMICIDE', 'pattern': [{'lower': 'deceased'}, {'lower': 'victims'}]}\n",
      "{'label': 'HOMICIDE', 'pattern': [{'lower': 'were'}, {'lower': 'found'}, {'lower': 'dead'}]}\n",
      "{'label': 'HOMICIDE', 'pattern': [{'lower': 'investigated'}, {'lower': 'as'}, {'lower': 'homicides'}]}\n",
      "{'label': 'HOMICIDE', 'pattern': [{'lower': 'person'}, {'lower': 'is'}, {'lower': 'dead'}]}\n",
      "{'label': 'HOMICIDE', 'pattern': [{'lower': 'fatal'}, {'lower': 'head'}, {'lower': 'injury'}]}\n",
      "{'label': 'HOMICIDE', 'pattern': [{'lower': 'declared'}, {'lower': 'dead'}]}\n",
      "{'label': 'HOMICIDE', 'pattern': [{'lower': 'shooting'}, {'lower': 'death'}]}\n",
      "{'label': 'HOMICIDE', 'pattern': [{'lower': 'was'}, {'lower': 'shot'}, {'lower': 'to'}, {'lower': 'death'}]}\n",
      "{'label': 'HOMICIDE', 'pattern': [{'lower': 'were'}, {'lower': 'shot'}, {'lower': 'to'}, {'lower': 'death'}]}\n",
      "{'label': 'HOMICIDE', 'pattern': [{'lower': 'did'}, {'lower': 'not'}, {'lower': 'survive'}, {'lower': 'the'}, {'lower': 'shooting'}]}\n",
      "{'label': 'HOMICIDE', 'pattern': [{'lower': 'stabbed'}, {'lower': 'to'}, {'lower': 'death'}]}\n",
      "{'label': 'HOMICIDE', 'pattern': [{'lower': 'deadly'}, {'lower': 'shooting'}]}\n",
      "{'label': 'HOMICIDE', 'pattern': [{'lower': 'dismembered'}]}\n",
      "{'label': 'HOMICIDE', 'pattern': [{'lower': 'concealment'}, {'lower': 'of'}, {'lower': 'a'}, {'lower': 'body'}]}\n",
      "{'label': 'HOMICIDE', 'pattern': [{'lower': 'reported'}, {'lower': 'dead'}, {'lower': 'by'}, {'lower': 'gunshot'}, {'lower': 'wound'}]}\n",
      "{'label': 'HOMICIDE', 'pattern': [{'lower': 'fatal'}, {'lower': 'stabbings'}]}\n",
      "\n"
     ]
    }
   ],
   "source": [
    "homicide_pattern = ''\n",
    "\n",
    "for key in homicide_key_words:\n",
    "    if len(key.split()) > 1:\n",
    "        pattern = []\n",
    "        for word in key.split():\n",
    "            pattern.append({\"lower\" : word})\n",
    "        homicide_pattern += str({\"label\": \"HOMICIDE\", \"pattern\": pattern}) + '\\n'\n",
    "    else:\n",
    "        homicide_pattern += str({\"label\": \"HOMICIDE\", \"pattern\": [{\"lower\": key}]}) + '\\n'\n",
    "        \n",
    "print(homicide_pattern)"
   ]
  },
  {
   "cell_type": "code",
   "execution_count": 50,
   "id": "7fe30273",
   "metadata": {},
   "outputs": [],
   "source": [
    "final_pattern = ''.join([harassment_pattern, theft_pattern, robbery_pattern, auto_theft_pattern, assault_pattern, homicide_pattern])\n",
    "\n",
    "with open(os.path.join(PATH_TO_PATTERNS, 'base-patterns.jsonl'), 'w') as file:\n",
    "    file.write(final_pattern.replace(\"\\'\", '\\\"'))"
   ]
  },
  {
   "cell_type": "markdown",
   "id": "52adbb21",
   "metadata": {},
   "source": [
    "### Upload news body in jsonl where is_criminal == 1 "
   ]
  },
  {
   "cell_type": "code",
   "execution_count": 51,
   "id": "7f1f16c3",
   "metadata": {},
   "outputs": [
    {
     "data": {
      "text/plain": [
       "list"
      ]
     },
     "execution_count": 51,
     "metadata": {},
     "output_type": "execute_result"
    }
   ],
   "source": [
    "type(news_df['harassment_keywords_body'][0])"
   ]
  },
  {
   "cell_type": "code",
   "execution_count": 52,
   "id": "1ba1f10a",
   "metadata": {},
   "outputs": [
    {
     "data": {
      "text/plain": [
       "0        0\n",
       "32542    0\n",
       "32543    0\n",
       "32544    0\n",
       "32545    0\n",
       "        ..\n",
       "44953    5\n",
       "39356    5\n",
       "45464    5\n",
       "17111    6\n",
       "17327    6\n",
       "Name: harassment_keywords_body, Length: 49309, dtype: int64"
      ]
     },
     "execution_count": 52,
     "metadata": {},
     "output_type": "execute_result"
    }
   ],
   "source": [
    "news_df['harassment_keywords_body'].apply(len).sort_values()"
   ]
  },
  {
   "cell_type": "code",
   "execution_count": 53,
   "id": "8318cb40",
   "metadata": {},
   "outputs": [
    {
     "data": {
      "text/html": [
       "<div>\n",
       "<style scoped>\n",
       "    .dataframe tbody tr th:only-of-type {\n",
       "        vertical-align: middle;\n",
       "    }\n",
       "\n",
       "    .dataframe tbody tr th {\n",
       "        vertical-align: top;\n",
       "    }\n",
       "\n",
       "    .dataframe thead th {\n",
       "        text-align: right;\n",
       "    }\n",
       "</style>\n",
       "<table border=\"1\" class=\"dataframe\">\n",
       "  <thead>\n",
       "    <tr style=\"text-align: right;\">\n",
       "      <th></th>\n",
       "      <th>source_name</th>\n",
       "      <th>url</th>\n",
       "      <th>paragraphs</th>\n",
       "      <th>paragraphs_nwords</th>\n",
       "      <th>dateadded</th>\n",
       "      <th>eventrootcode</th>\n",
       "      <th>eventbasecode</th>\n",
       "      <th>eventcode</th>\n",
       "      <th>actiongeo_fullname</th>\n",
       "      <th>actiongeo_countrycode_iso3</th>\n",
       "      <th>v2themes_names</th>\n",
       "      <th>body</th>\n",
       "      <th>cleaned_body</th>\n",
       "      <th>harassment_keywords_body</th>\n",
       "      <th>is_harassment</th>\n",
       "      <th>theft_keywords_body</th>\n",
       "      <th>is_theft</th>\n",
       "      <th>robbery_keywords_body</th>\n",
       "      <th>is_robbery</th>\n",
       "      <th>auto_theft_keywords_body</th>\n",
       "      <th>is_auto_theft</th>\n",
       "      <th>assault_keywords_body</th>\n",
       "      <th>is_assault</th>\n",
       "      <th>homicide_keywords_body</th>\n",
       "      <th>is_homicide</th>\n",
       "      <th>trial_keywords_body</th>\n",
       "      <th>is_trial</th>\n",
       "      <th>car_accident_keywords_body</th>\n",
       "      <th>is_car_accident</th>\n",
       "      <th>stats_news_keywords_body</th>\n",
       "      <th>is_stats_news</th>\n",
       "      <th>gun_policy_news_keywords_body</th>\n",
       "      <th>is_gun_policy_news</th>\n",
       "      <th>non_crime_keywords_body</th>\n",
       "      <th>is_non_crime</th>\n",
       "      <th>is_criminal</th>\n",
       "    </tr>\n",
       "  </thead>\n",
       "  <tbody>\n",
       "    <tr>\n",
       "      <th>17327</th>\n",
       "      <td>thecolu.mn</td>\n",
       "      <td>http://thecolu.mn/11203/top-5-falsehoods-the-r...</td>\n",
       "      <td>Minnesota is poised to pass one of the nation’...</td>\n",
       "      <td>1558.0</td>\n",
       "      <td>2022-07-30 11:45:00</td>\n",
       "      <td>2.0</td>\n",
       "      <td>23.0</td>\n",
       "      <td>23.0</td>\n",
       "      <td>Little Falls, Minnesota, United States</td>\n",
       "      <td>USA</td>\n",
       "      <td>['AFFECT' 'BAN' 'BULLYING' 'CRISISLEX_CRISISLE...</td>\n",
       "      <td>Minnesota is poised to pass one of the nation'...</td>\n",
       "      <td>Minnesota is poised to pass one of the nation'...</td>\n",
       "      <td>[bullied, harassing, harassment, intimidating,...</td>\n",
       "      <td>1</td>\n",
       "      <td>[]</td>\n",
       "      <td>0</td>\n",
       "      <td>[]</td>\n",
       "      <td>0</td>\n",
       "      <td>[]</td>\n",
       "      <td>0</td>\n",
       "      <td>[]</td>\n",
       "      <td>0</td>\n",
       "      <td>[kill]</td>\n",
       "      <td>1</td>\n",
       "      <td>[]</td>\n",
       "      <td>0</td>\n",
       "      <td>[]</td>\n",
       "      <td>0</td>\n",
       "      <td>[]</td>\n",
       "      <td>0</td>\n",
       "      <td>[]</td>\n",
       "      <td>0</td>\n",
       "      <td>[]</td>\n",
       "      <td>0</td>\n",
       "      <td>False</td>\n",
       "    </tr>\n",
       "    <tr>\n",
       "      <th>34777</th>\n",
       "      <td>jewishlink.news</td>\n",
       "      <td>https://jewishlink.news/features/53295-what-cn...</td>\n",
       "      <td>There were some good points in CNN’s recent sp...</td>\n",
       "      <td>1321.0</td>\n",
       "      <td>2022-09-01 16:30:00</td>\n",
       "      <td>16.0</td>\n",
       "      <td>163.0</td>\n",
       "      <td>163.0</td>\n",
       "      <td>Jersey City, New Jersey, United States</td>\n",
       "      <td>USA</td>\n",
       "      <td>['ARMEDCONFLICT' 'CRISISLEX_C07_SAFETY' 'CRISI...</td>\n",
       "      <td>There were some good points in CNN's recent sp...</td>\n",
       "      <td>There were some good points in CNN's recent sp...</td>\n",
       "      <td>[defamation, harass, harassing, harassment, in...</td>\n",
       "      <td>1</td>\n",
       "      <td>[]</td>\n",
       "      <td>0</td>\n",
       "      <td>[]</td>\n",
       "      <td>0</td>\n",
       "      <td>[]</td>\n",
       "      <td>0</td>\n",
       "      <td>[assault, shooting]</td>\n",
       "      <td>1</td>\n",
       "      <td>[murder, shooting]</td>\n",
       "      <td>1</td>\n",
       "      <td>[]</td>\n",
       "      <td>0</td>\n",
       "      <td>[]</td>\n",
       "      <td>0</td>\n",
       "      <td>[]</td>\n",
       "      <td>0</td>\n",
       "      <td>[]</td>\n",
       "      <td>0</td>\n",
       "      <td>[]</td>\n",
       "      <td>0</td>\n",
       "      <td>False</td>\n",
       "    </tr>\n",
       "    <tr>\n",
       "      <th>38313</th>\n",
       "      <td>www.candgnews.com</td>\n",
       "      <td>https://www.candgnews.com/news/antidefamation-...</td>\n",
       "      <td>SOUTHFIELD — People will soon come together to...</td>\n",
       "      <td>570.0</td>\n",
       "      <td>2022-09-08 18:30:00</td>\n",
       "      <td>14.0</td>\n",
       "      <td>141.0</td>\n",
       "      <td>141.0</td>\n",
       "      <td>Detroit, Michigan, United States</td>\n",
       "      <td>USA</td>\n",
       "      <td>['BULLYING' 'CRISISLEX_CRISISLEXREC' 'DEMOCRAC...</td>\n",
       "      <td>SOUTHFIELD -- People will soon come together t...</td>\n",
       "      <td>SOUTHFIELD -- People will soon come together t...</td>\n",
       "      <td>[bullied, defamation, harassed, tracking]</td>\n",
       "      <td>1</td>\n",
       "      <td>[]</td>\n",
       "      <td>0</td>\n",
       "      <td>[]</td>\n",
       "      <td>0</td>\n",
       "      <td>[]</td>\n",
       "      <td>0</td>\n",
       "      <td>[]</td>\n",
       "      <td>0</td>\n",
       "      <td>[]</td>\n",
       "      <td>0</td>\n",
       "      <td>[]</td>\n",
       "      <td>0</td>\n",
       "      <td>[]</td>\n",
       "      <td>0</td>\n",
       "      <td>[]</td>\n",
       "      <td>0</td>\n",
       "      <td>[]</td>\n",
       "      <td>0</td>\n",
       "      <td>[]</td>\n",
       "      <td>0</td>\n",
       "      <td>False</td>\n",
       "    </tr>\n",
       "    <tr>\n",
       "      <th>4878</th>\n",
       "      <td>www.huffpost.com</td>\n",
       "      <td>https://www.huffpost.com/entry/brett-kavanaugh...</td>\n",
       "      <td>Supreme Court Justice ducked out the back door...</td>\n",
       "      <td>732.0</td>\n",
       "      <td>2022-07-09 02:45:00</td>\n",
       "      <td>14.0</td>\n",
       "      <td>141.0</td>\n",
       "      <td>141.0</td>\n",
       "      <td>Washington, District of Columbia, United States</td>\n",
       "      <td>USA</td>\n",
       "      <td>['CONSTITUTIONAL' 'CRISISLEX_C03_WELLBEING_HEA...</td>\n",
       "      <td>Supreme Court Justice ducked out the back door...</td>\n",
       "      <td>Supreme Court Justice ducked out the back door...</td>\n",
       "      <td>[harass, harassed, intimidate, intimidation]</td>\n",
       "      <td>1</td>\n",
       "      <td>[]</td>\n",
       "      <td>0</td>\n",
       "      <td>[]</td>\n",
       "      <td>0</td>\n",
       "      <td>[]</td>\n",
       "      <td>0</td>\n",
       "      <td>[]</td>\n",
       "      <td>0</td>\n",
       "      <td>[]</td>\n",
       "      <td>0</td>\n",
       "      <td>[]</td>\n",
       "      <td>0</td>\n",
       "      <td>[]</td>\n",
       "      <td>0</td>\n",
       "      <td>[]</td>\n",
       "      <td>0</td>\n",
       "      <td>[]</td>\n",
       "      <td>0</td>\n",
       "      <td>[]</td>\n",
       "      <td>0</td>\n",
       "      <td>False</td>\n",
       "    </tr>\n",
       "    <tr>\n",
       "      <th>32248</th>\n",
       "      <td>www.grandrapidsmn.com</td>\n",
       "      <td>https://www.grandrapidsmn.com/opinion/commenta...</td>\n",
       "      <td>Believing and breaking down the barriers of wh...</td>\n",
       "      <td>706.0</td>\n",
       "      <td>2022-08-27 13:30:00</td>\n",
       "      <td>18.0</td>\n",
       "      <td>180.0</td>\n",
       "      <td>180.0</td>\n",
       "      <td>United States</td>\n",
       "      <td>USA</td>\n",
       "      <td>['ACT_HARMTHREATEN' 'CRISISLEX_CRISISLEXREC' '...</td>\n",
       "      <td>Believing and breaking down the barriers of wh...</td>\n",
       "      <td>Believing and breaking down the barriers of wh...</td>\n",
       "      <td>[groping, harass, harassment, obscene]</td>\n",
       "      <td>1</td>\n",
       "      <td>[]</td>\n",
       "      <td>0</td>\n",
       "      <td>[]</td>\n",
       "      <td>0</td>\n",
       "      <td>[]</td>\n",
       "      <td>0</td>\n",
       "      <td>[assault]</td>\n",
       "      <td>1</td>\n",
       "      <td>[]</td>\n",
       "      <td>0</td>\n",
       "      <td>[]</td>\n",
       "      <td>0</td>\n",
       "      <td>[]</td>\n",
       "      <td>0</td>\n",
       "      <td>[]</td>\n",
       "      <td>0</td>\n",
       "      <td>[]</td>\n",
       "      <td>0</td>\n",
       "      <td>[]</td>\n",
       "      <td>0</td>\n",
       "      <td>False</td>\n",
       "    </tr>\n",
       "  </tbody>\n",
       "</table>\n",
       "</div>"
      ],
      "text/plain": [
       "                 source_name  \\\n",
       "17327             thecolu.mn   \n",
       "34777        jewishlink.news   \n",
       "38313      www.candgnews.com   \n",
       "4878        www.huffpost.com   \n",
       "32248  www.grandrapidsmn.com   \n",
       "\n",
       "                                                     url  \\\n",
       "17327  http://thecolu.mn/11203/top-5-falsehoods-the-r...   \n",
       "34777  https://jewishlink.news/features/53295-what-cn...   \n",
       "38313  https://www.candgnews.com/news/antidefamation-...   \n",
       "4878   https://www.huffpost.com/entry/brett-kavanaugh...   \n",
       "32248  https://www.grandrapidsmn.com/opinion/commenta...   \n",
       "\n",
       "                                              paragraphs  paragraphs_nwords  \\\n",
       "17327  Minnesota is poised to pass one of the nation’...             1558.0   \n",
       "34777  There were some good points in CNN’s recent sp...             1321.0   \n",
       "38313  SOUTHFIELD — People will soon come together to...              570.0   \n",
       "4878   Supreme Court Justice ducked out the back door...              732.0   \n",
       "32248  Believing and breaking down the barriers of wh...              706.0   \n",
       "\n",
       "                 dateadded  eventrootcode  eventbasecode  eventcode  \\\n",
       "17327  2022-07-30 11:45:00            2.0           23.0       23.0   \n",
       "34777  2022-09-01 16:30:00           16.0          163.0      163.0   \n",
       "38313  2022-09-08 18:30:00           14.0          141.0      141.0   \n",
       "4878   2022-07-09 02:45:00           14.0          141.0      141.0   \n",
       "32248  2022-08-27 13:30:00           18.0          180.0      180.0   \n",
       "\n",
       "                                    actiongeo_fullname  \\\n",
       "17327           Little Falls, Minnesota, United States   \n",
       "34777           Jersey City, New Jersey, United States   \n",
       "38313                 Detroit, Michigan, United States   \n",
       "4878   Washington, District of Columbia, United States   \n",
       "32248                                    United States   \n",
       "\n",
       "      actiongeo_countrycode_iso3  \\\n",
       "17327                        USA   \n",
       "34777                        USA   \n",
       "38313                        USA   \n",
       "4878                         USA   \n",
       "32248                        USA   \n",
       "\n",
       "                                          v2themes_names  \\\n",
       "17327  ['AFFECT' 'BAN' 'BULLYING' 'CRISISLEX_CRISISLE...   \n",
       "34777  ['ARMEDCONFLICT' 'CRISISLEX_C07_SAFETY' 'CRISI...   \n",
       "38313  ['BULLYING' 'CRISISLEX_CRISISLEXREC' 'DEMOCRAC...   \n",
       "4878   ['CONSTITUTIONAL' 'CRISISLEX_C03_WELLBEING_HEA...   \n",
       "32248  ['ACT_HARMTHREATEN' 'CRISISLEX_CRISISLEXREC' '...   \n",
       "\n",
       "                                                    body  \\\n",
       "17327  Minnesota is poised to pass one of the nation'...   \n",
       "34777  There were some good points in CNN's recent sp...   \n",
       "38313  SOUTHFIELD -- People will soon come together t...   \n",
       "4878   Supreme Court Justice ducked out the back door...   \n",
       "32248  Believing and breaking down the barriers of wh...   \n",
       "\n",
       "                                            cleaned_body  \\\n",
       "17327  Minnesota is poised to pass one of the nation'...   \n",
       "34777  There were some good points in CNN's recent sp...   \n",
       "38313  SOUTHFIELD -- People will soon come together t...   \n",
       "4878   Supreme Court Justice ducked out the back door...   \n",
       "32248  Believing and breaking down the barriers of wh...   \n",
       "\n",
       "                                harassment_keywords_body  is_harassment  \\\n",
       "17327  [bullied, harassing, harassment, intimidating,...              1   \n",
       "34777  [defamation, harass, harassing, harassment, in...              1   \n",
       "38313          [bullied, defamation, harassed, tracking]              1   \n",
       "4878        [harass, harassed, intimidate, intimidation]              1   \n",
       "32248             [groping, harass, harassment, obscene]              1   \n",
       "\n",
       "      theft_keywords_body  is_theft robbery_keywords_body  is_robbery  \\\n",
       "17327                  []         0                    []           0   \n",
       "34777                  []         0                    []           0   \n",
       "38313                  []         0                    []           0   \n",
       "4878                   []         0                    []           0   \n",
       "32248                  []         0                    []           0   \n",
       "\n",
       "      auto_theft_keywords_body  is_auto_theft assault_keywords_body  \\\n",
       "17327                       []              0                    []   \n",
       "34777                       []              0   [assault, shooting]   \n",
       "38313                       []              0                    []   \n",
       "4878                        []              0                    []   \n",
       "32248                       []              0             [assault]   \n",
       "\n",
       "       is_assault homicide_keywords_body  is_homicide trial_keywords_body  \\\n",
       "17327           0                 [kill]            1                  []   \n",
       "34777           1     [murder, shooting]            1                  []   \n",
       "38313           0                     []            0                  []   \n",
       "4878            0                     []            0                  []   \n",
       "32248           1                     []            0                  []   \n",
       "\n",
       "       is_trial car_accident_keywords_body  is_car_accident  \\\n",
       "17327         0                         []                0   \n",
       "34777         0                         []                0   \n",
       "38313         0                         []                0   \n",
       "4878          0                         []                0   \n",
       "32248         0                         []                0   \n",
       "\n",
       "      stats_news_keywords_body  is_stats_news gun_policy_news_keywords_body  \\\n",
       "17327                       []              0                            []   \n",
       "34777                       []              0                            []   \n",
       "38313                       []              0                            []   \n",
       "4878                        []              0                            []   \n",
       "32248                       []              0                            []   \n",
       "\n",
       "       is_gun_policy_news non_crime_keywords_body  is_non_crime  is_criminal  \n",
       "17327                   0                      []             0        False  \n",
       "34777                   0                      []             0        False  \n",
       "38313                   0                      []             0        False  \n",
       "4878                    0                      []             0        False  \n",
       "32248                   0                      []             0        False  "
      ]
     },
     "execution_count": 53,
     "metadata": {},
     "output_type": "execute_result"
    }
   ],
   "source": [
    "news_df[news_df['is_harassment'] == 1].sort_values('harassment_keywords_body', key = lambda x: x.apply(len), ascending=False).head()"
   ]
  },
  {
   "cell_type": "code",
   "execution_count": 54,
   "id": "e923689c",
   "metadata": {},
   "outputs": [
    {
     "ename": "NameError",
     "evalue": "name 'q' is not defined",
     "output_type": "error",
     "traceback": [
      "\u001b[1;31m---------------------------------------------------------------------------\u001b[0m",
      "\u001b[1;31mNameError\u001b[0m                                 Traceback (most recent call last)",
      "\u001b[1;32m~\\AppData\\Local\\Temp/ipykernel_14420/2044696608.py\u001b[0m in \u001b[0;36m<module>\u001b[1;34m\u001b[0m\n\u001b[1;32m----> 1\u001b[1;33m \u001b[0mq\u001b[0m\u001b[1;33m\u001b[0m\u001b[1;33m\u001b[0m\u001b[0m\n\u001b[0m",
      "\u001b[1;31mNameError\u001b[0m: name 'q' is not defined"
     ]
    }
   ],
   "source": [
    "q"
   ]
  },
  {
   "cell_type": "code",
   "execution_count": null,
   "id": "a2bd67ce",
   "metadata": {},
   "outputs": [],
   "source": [
    "crime_cols"
   ]
  },
  {
   "cell_type": "code",
   "execution_count": null,
   "id": "b3bd4421",
   "metadata": {},
   "outputs": [],
   "source": [
    "fpath = os.path.join(PATH_TO_DATA_ROOT_DIR, r'data_providers\\gdelt\\scraped_news')\n",
    "news_body_to_write = news_df.sample(frac=1)\n",
    "\n",
    "for col in crime_cols:\n",
    "    category = (col.split('_')[1] if len(col.split('_')) == 2 else '_'.join(col.split('_')[1:]))\n",
    "    fname = 'usa_news_text_body_2022-07-01_2022-10-01_' + category + '.jsonl'\n",
    "    sort_column = category + \"_keywords_body\"\n",
    "    \n",
    "    mask = news_body_to_write[col] == 1\n",
    "    news_body_jsonl = pd.DataFrame(news_body_to_write[mask].reset_index(drop=True).sort_values(by='paragraphs_nwords')['cleaned_body'])\n",
    "    #news_body_jsonl = pd.DataFrame(news_body_jsonl.sort_values(by=sort_column, key=lambda x: x.apply(len), ascending=False)['cleaned_body'])\n",
    "    news_body_jsonl = news_body_jsonl.rename(columns={'cleaned_body' : 'text'})\n",
    "    news_body_jsonl.to_json(os.path.join(fpath, fname), orient='records', lines=True)\n",
    "    news_body_to_write = news_body_to_write[~mask]\n",
    "    \n",
    "    print(f'Number of news in {category}: {news_body_jsonl.shape[0]}')"
   ]
  },
  {
   "cell_type": "code",
   "execution_count": null,
   "id": "74cf156e",
   "metadata": {},
   "outputs": [],
   "source": [
    "news_body_to_write = news_df.sample(frac=1)\n",
    "\n",
    "category = 'harassment'\n",
    "fname = 'usa_news_text_body_2022-07-01_2022-10-01_' + category + '.jsonl'\n",
    "sort_column = category + \"_keywords_body\"\n",
    "    \n",
    "mask = news_body_to_write['is_harassment'] == 1\n",
    "news_body_jsonl = news_body_to_write[mask].reset_index(drop=True)\n",
    "news_body_jsonl = pd.DataFrame(news_body_jsonl.sort_values(by=sort_column, key=lambda x: x.apply(len), ascending=False)['cleaned_body'])\n",
    "news_body_jsonl = news_body_jsonl.rename(columns={'cleaned_body' : 'text'})"
   ]
  },
  {
   "cell_type": "code",
   "execution_count": null,
   "id": "ed19e001",
   "metadata": {},
   "outputs": [],
   "source": [
    "news_body_jsonl"
   ]
  },
  {
   "cell_type": "code",
   "execution_count": null,
   "id": "e47373e8",
   "metadata": {},
   "outputs": [],
   "source": [
    "mask = news_df['is_criminal'] == 1\n",
    "\n",
    "news_body_jsonl = pd.DataFrame(news_df.loc[mask, 'cleaned_body'].reset_index(drop=True))\n",
    "news_body_jsonl = news_body_jsonl.rename(columns={'cleaned_body' : 'text'})\n",
    "\n",
    "print(news_body_jsonl.shape)\n",
    "news_body_jsonl.head()"
   ]
  },
  {
   "cell_type": "code",
   "execution_count": null,
   "id": "6842718c",
   "metadata": {},
   "outputs": [],
   "source": [
    "q"
   ]
  },
  {
   "cell_type": "code",
   "execution_count": null,
   "id": "ef506aa5",
   "metadata": {},
   "outputs": [],
   "source": [
    "fpath_jsonl = os.path.join(PATH_TO_DATA_ROOT_DIR, r'data_providers\\gdelt\\scraped_news\\usa_news_text_body_2022-07-01_2022-10-01.jsonl')\n",
    "\n",
    "news_body_jsonl.to_json(fpath_jsonl, orient='records', lines=True)"
   ]
  },
  {
   "cell_type": "code",
   "execution_count": null,
   "id": "50db6598",
   "metadata": {},
   "outputs": [],
   "source": [
    "from spacy.lang.en import English\n",
    "\n",
    "nlp = English()\n",
    "doc = nlp('Hello Nazar Protsiv, congrats You')\n",
    "\n",
    "for toc in doc:\n",
    "    print(doc.lower)"
   ]
  },
  {
   "cell_type": "code",
   "execution_count": null,
   "id": "9ee8dda5",
   "metadata": {},
   "outputs": [],
   "source": [
    "from spacy.matcher import PhraseMatcher\n",
    "from spacy.lang.en import English\n",
    "from spacy.matcher import Matcher\n",
    "\n",
    "nlp = English()\n",
    "matcher = Matcher(nlp.vocab)\n",
    "\n",
    "# Add match ID \"HelloWorld\" with no callback and one pattern\n",
    "pattern = [{\"LOWER\": \"unlawful\"}, {'LOWER': 'exposure'}]\n",
    "matcher.add(\"HARASS\", [pattern])\n",
    "\n",
    "#nlp = spacy.load(\"en_core_web_lg\")\n",
    "#matcher = PhraseMatcher(nlp.vocab)\n",
    "#terms = ['unlawful exposure']\n",
    "# Only run nlp.make_doc to speed things up\n",
    "#patterns = [nlp.make_doc(text) for text in terms]\n",
    "#matcher.add(\"HARASSMENT\", patterns)\n",
    "\n",
    "doc = nlp(\"A man was accused on unlawful exposure \"\n",
    "          \"A man was accused on Unlawful Exposure \")\n",
    "matches = matcher(doc)\n",
    "for match_id, start, end in matches:\n",
    "    string_id = nlp.vocab.strings[match_id]  # Get string representation\n",
    "    span = doc[start:end]  # The matched span\n",
    "    print(match_id, string_id, start, end, span.text)"
   ]
  },
  {
   "cell_type": "code",
   "execution_count": null,
   "id": "016ea8b1",
   "metadata": {},
   "outputs": [],
   "source": [
    "harassment_patterns"
   ]
  },
  {
   "cell_type": "code",
   "execution_count": null,
   "id": "2e94ef2c",
   "metadata": {},
   "outputs": [],
   "source": []
  },
  {
   "cell_type": "code",
   "execution_count": null,
   "id": "a23205ae",
   "metadata": {},
   "outputs": [],
   "source": []
  }
 ],
 "metadata": {
  "kernelspec": {
   "display_name": "Python [conda env:py38dnn]",
   "language": "python",
   "name": "conda-env-py38dnn-py"
  },
  "language_info": {
   "codemirror_mode": {
    "name": "ipython",
    "version": 3
   },
   "file_extension": ".py",
   "mimetype": "text/x-python",
   "name": "python",
   "nbconvert_exporter": "python",
   "pygments_lexer": "ipython3",
   "version": "3.8.12"
  }
 },
 "nbformat": 4,
 "nbformat_minor": 5
}
